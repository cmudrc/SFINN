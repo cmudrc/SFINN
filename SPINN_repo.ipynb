{
 "cells": [
  {
   "cell_type": "code",
   "execution_count": 1,
   "id": "10fdc9b9",
   "metadata": {},
   "outputs": [
    {
     "name": "stdout",
     "output_type": "stream",
     "text": [
      "True\n",
      "NVIDIA GeForce RTX 3090\n"
     ]
    }
   ],
   "source": [
    "import os\n",
    "import csv\n",
    "import random\n",
    "import numpy as np\n",
    "import torch\n",
    "import torch.nn as nn\n",
    "import torch.nn.functional as F\n",
    "import torch.optim as optim\n",
    "\n",
    "from torch.utils.data import Dataset, DataLoader\n",
    "from torch.nn.utils.rnn import pad_sequence, pack_padded_sequence, pad_packed_sequence\n",
    "\n",
    "import time\n",
    "import matplotlib.pyplot as plt\n",
    "import matplotlib.ticker\n",
    "\n",
    "from sklearn.metrics import accuracy_score, roc_curve, auc\n",
    "from sklearn import linear_model\n",
    "from tqdm import tqdm\n",
    "import pandas as pd  \n",
    "\n",
    "device = torch.device(\"cuda\" if torch.cuda.is_available() else \"cpu\")\n",
    "print(torch.cuda.is_available())\n",
    "print(torch.cuda.get_device_name(0))\n",
    "time_START = time.time()\n"
   ]
  },
  {
   "cell_type": "markdown",
   "id": "70e6d281",
   "metadata": {},
   "source": [
    "# Parameters"
   ]
  },
  {
   "cell_type": "code",
   "execution_count": 2,
   "id": "7c0c31d4",
   "metadata": {},
   "outputs": [],
   "source": [
    "n_days = 90\n",
    "BatchSize = 2048\n",
    "LearningRate = 1e-3\n",
    "NumEpochs = 500\n",
    "WeightDecay = 0.01\n",
    "StartEpoch = 0"
   ]
  },
  {
   "cell_type": "markdown",
   "id": "173ffedb",
   "metadata": {},
   "source": [
    "# Data Loading"
   ]
  },
  {
   "cell_type": "code",
   "execution_count": 3,
   "id": "ef9060a2",
   "metadata": {},
   "outputs": [],
   "source": [
    "path = \"./data\""
   ]
  },
  {
   "cell_type": "code",
   "execution_count": 4,
   "id": "860545f3",
   "metadata": {},
   "outputs": [
    {
     "name": "stdout",
     "output_type": "stream",
     "text": [
      "(12609, 6)\n"
     ]
    }
   ],
   "source": [
    "df = pd.read_csv(path + '/GSPC.csv', \n",
    "                 usecols = ['Date','Open','High','Low','Close','Volume'])\n",
    "\n",
    "data = df.to_numpy()\n",
    "print(data.shape)"
   ]
  },
  {
   "cell_type": "code",
   "execution_count": 5,
   "id": "19c7f8a2",
   "metadata": {},
   "outputs": [
    {
     "name": "stdout",
     "output_type": "stream",
     "text": [
      "[108.970001 108.93 108.279999 ... 3984.600098 4077.429932 4104.879883]\n"
     ]
    }
   ],
   "source": [
    "print(data[:, 3])"
   ]
  },
  {
   "cell_type": "markdown",
   "id": "1c9a7c9d",
   "metadata": {},
   "source": [
    "# Data Preparation"
   ]
  },
  {
   "cell_type": "markdown",
   "id": "c32b46f9",
   "metadata": {},
   "source": [
    "## Convert to Return"
   ]
  },
  {
   "cell_type": "code",
   "execution_count": 6,
   "id": "b5d64f43",
   "metadata": {},
   "outputs": [],
   "source": [
    "def stock_return(x):\n",
    "    rt = np.zeros((len(x)-1, 1))\n",
    "    for i in range(len(rt)):\n",
    "        rt[i] = np.log( (x[i+1]+1e-8) / (x[i]+1e-8) )\n",
    "    \n",
    "    return rt\n",
    "    "
   ]
  },
  {
   "cell_type": "code",
   "execution_count": 7,
   "id": "66ef9675",
   "metadata": {},
   "outputs": [
    {
     "name": "stdout",
     "output_type": "stream",
     "text": [
      "(12609,)\n",
      "[108.970001 108.93 108.279999 ... 3984.600098 4077.429932 4104.879883]\n",
      "(12608, 1)\n",
      "(12608,)\n",
      "[[-0.00036715]\n",
      " [-0.00598502]\n",
      " [-0.00527803]\n",
      " ...\n",
      " [ 0.01506295]\n",
      " [ 0.02302992]\n",
      " [ 0.00670961]]\n"
     ]
    }
   ],
   "source": [
    "P_Close = data[:, 3]\n",
    "\n",
    "print(P_Close.shape)\n",
    "print(P_Close)\n",
    "\n",
    "Return_Close = stock_return(P_Close)\n",
    "\n",
    "print(Return_Close.shape)\n",
    "print(Return_Close.flatten().shape)\n",
    "print(Return_Close)\n",
    "\n",
    "del P_Close"
   ]
  },
  {
   "cell_type": "code",
   "execution_count": 8,
   "id": "eb407949",
   "metadata": {},
   "outputs": [],
   "source": [
    "def DW_test_np(x): # Durbin Watson test\n",
    "    indexing = np.arange(0, len(x), 1).reshape(-1,1)\n",
    "    \n",
    "    reg = linear_model.LinearRegression()\n",
    "    reg.fit(indexing, x.reshape(-1,1))\n",
    "    \n",
    "    pred = reg.coef_ * indexing + reg.intercept_\n",
    "    \n",
    "    den = 0\n",
    "    num = 0\n",
    "\n",
    "    for i in range(len(pred) - 1):\n",
    "        den += ((pred[i+1] - x[i+1]) - (pred[i] - x[i]))**2\n",
    "        num += (pred[i+1] - x[i+1])**2\n",
    "\n",
    "    DW = den / num\n",
    "    \n",
    "    return DW"
   ]
  },
  {
   "cell_type": "code",
   "execution_count": 9,
   "id": "6da240aa",
   "metadata": {},
   "outputs": [],
   "source": [
    "# print(DW_test_np(Return_Close))"
   ]
  },
  {
   "cell_type": "code",
   "execution_count": 10,
   "id": "f299e31c",
   "metadata": {},
   "outputs": [],
   "source": [
    "# indexing = np.arange(0, 12608, 1).reshape(-1,1)\n",
    "# gfg = np.concatenate((indexing, Return_Close), axis = 1)\n",
    "\n",
    "# print(gfg.shape)\n",
    "# print(gfg)\n"
   ]
  },
  {
   "cell_type": "code",
   "execution_count": 11,
   "id": "8f56e1ae",
   "metadata": {},
   "outputs": [],
   "source": [
    "# from sklearn import linear_model\n",
    "\n",
    "# reg = linear_model.LinearRegression()\n",
    "\n",
    "# reg.fit(indexing, Return_Close)\n",
    "\n",
    "# print(indexing.shape)\n",
    "# print(Return_Close.shape)\n",
    "\n",
    "# print(reg.coef_)\n",
    "# print(reg.intercept_)\n",
    "\n",
    "# pred = reg.coef_ * indexing + reg.intercept_\n",
    "\n",
    "# print(pred)\n",
    "# print(pred.shape)\n",
    "\n",
    "# den = 0\n",
    "# num = 0\n",
    "\n",
    "# for i in range(len(pred) - 1):\n",
    "#     den += ((pred[i+1] - Return_Close[i+1]) - (pred[i] - Return_Close[i]))**2\n",
    "\n",
    "# for i in range(len(pred) - 1):\n",
    "#     num += (pred[i+1] - Return_Close[i+1])**2\n",
    "    \n",
    "# dd = den / num\n",
    "\n",
    "# print(dd)"
   ]
  },
  {
   "cell_type": "markdown",
   "id": "093bd3f0",
   "metadata": {},
   "source": [
    "## Normalization"
   ]
  },
  {
   "cell_type": "code",
   "execution_count": 12,
   "id": "df8f0534",
   "metadata": {},
   "outputs": [
    {
     "name": "stdout",
     "output_type": "stream",
     "text": [
      "(12608, 1)\n",
      "[[-0.06391003]\n",
      " [-0.61208326]\n",
      " [-0.54309806]\n",
      " ...\n",
      " [ 1.441709  ]\n",
      " [ 2.21909913]\n",
      " [ 0.62661707]]\n"
     ]
    }
   ],
   "source": [
    "Return_Close_Nor = (Return_Close - Return_Close.mean(axis=0)) / Return_Close.std(axis=0) # Normalize\n",
    "\n",
    "print(Return_Close_Nor.shape)\n",
    "print(Return_Close_Nor)"
   ]
  },
  {
   "cell_type": "code",
   "execution_count": 13,
   "id": "294cdec8",
   "metadata": {},
   "outputs": [
    {
     "name": "stdout",
     "output_type": "stream",
     "text": [
      "<class 'numpy.ndarray'>\n",
      "<class 'torch.Tensor'>\n"
     ]
    }
   ],
   "source": [
    "Return_Mean = Return_Close.mean(axis=0)\n",
    "Return_Std = Return_Close.std(axis=0)\n",
    "\n",
    "R_Mean = torch.tensor(Return_Mean).cuda()\n",
    "R_Std = torch.tensor(Return_Std).cuda()\n",
    "print(type(Return_Mean))\n",
    "print(type(R_Mean))"
   ]
  },
  {
   "cell_type": "markdown",
   "id": "885bc9f9",
   "metadata": {},
   "source": [
    "## Set Time Series Sequence"
   ]
  },
  {
   "cell_type": "code",
   "execution_count": 14,
   "id": "3989e9fa",
   "metadata": {},
   "outputs": [
    {
     "name": "stdout",
     "output_type": "stream",
     "text": [
      "12518\n",
      "8763\n",
      "3755\n",
      "(8763, 90, 1)\n",
      "(8763, 1)\n",
      "(3755, 90, 1)\n",
      "(3755, 1)\n",
      "[-0.52024491]\n",
      "[0.69115171]\n",
      "[-0.11805309]\n",
      "[0.62661707]\n"
     ]
    }
   ],
   "source": [
    "time_span_total = Return_Close.shape[0] - n_days\n",
    "time_span_train = round(time_span_total * 0.7)\n",
    "time_span_test = time_span_total - time_span_train\n",
    "\n",
    "print(time_span_total)\n",
    "print(time_span_train)\n",
    "print(time_span_test)\n",
    "\n",
    "Return_Close_Data_Train_Nor = np.zeros((time_span_train, n_days, 1))\n",
    "Return_Close_Label_Train_Nor = np.zeros((time_span_train, 1))\n",
    "Return_Close_Label_Train = np.zeros((time_span_train, 1))\n",
    "\n",
    "Return_Close_Data_Test_Nor = np.zeros((time_span_test, n_days, 1))\n",
    "Return_Close_Label_Test_Nor = np.zeros((time_span_test, 1))\n",
    "Return_Close_Label_Test = np.zeros((time_span_test, 1))\n",
    "\n",
    "for i in range(time_span_train):\n",
    "    for j in range(n_days):\n",
    "        Return_Close_Data_Train_Nor[i, j, 0] = Return_Close_Nor[i + j]\n",
    "    Return_Close_Label_Train_Nor[i, 0] = Return_Close_Nor[i + n_days]\n",
    "    Return_Close_Label_Train[i, 0] = Return_Close[i + n_days]\n",
    "\n",
    "for i in range(time_span_test):\n",
    "    for j in range(n_days):\n",
    "        Return_Close_Data_Test_Nor[i, j, 0] = Return_Close_Nor[time_span_train + i + j]\n",
    "    Return_Close_Label_Test_Nor[i, 0] = Return_Close_Nor[time_span_train + i + n_days]\n",
    "    Return_Close_Label_Test[i, 0] = Return_Close[time_span_train + i + n_days]\n",
    "    \n",
    "print(Return_Close_Data_Train_Nor.shape)\n",
    "print(Return_Close_Label_Train_Nor.shape)\n",
    "print(Return_Close_Data_Test_Nor.shape)\n",
    "print(Return_Close_Label_Test_Nor.shape)\n",
    "\n",
    "print(Return_Close_Label_Train_Nor[1])\n",
    "print(Return_Close_Label_Train_Nor[-1])\n",
    "print(Return_Close_Label_Test_Nor[1])\n",
    "print(Return_Close_Label_Test_Nor[-1])"
   ]
  },
  {
   "cell_type": "code",
   "execution_count": 15,
   "id": "0875ad1d",
   "metadata": {},
   "outputs": [],
   "source": [
    "tensor_x_train = torch.Tensor(Return_Close_Data_Train_Nor).cuda()\n",
    "tensor_y_train = torch.Tensor(Return_Close_Label_Train_Nor).cuda()\n",
    "\n",
    "train_dataset = torch.utils.data.TensorDataset(tensor_x_train, tensor_y_train)\n",
    "train_loader = torch.utils.data.DataLoader(train_dataset, batch_size = BatchSize, shuffle=False)\n",
    "\n",
    "tensor_x_val = torch.Tensor(Return_Close_Data_Test_Nor).cuda()\n",
    "tensor_y_val = torch.Tensor(Return_Close_Label_Test_Nor).cuda()\n",
    "\n",
    "val_dataset = torch.utils.data.TensorDataset(tensor_x_val, tensor_y_val)\n",
    "val_loader = torch.utils.data.DataLoader(val_dataset, batch_size = BatchSize, shuffle=False)"
   ]
  },
  {
   "cell_type": "markdown",
   "id": "76c9c310",
   "metadata": {},
   "source": [
    "# Network"
   ]
  },
  {
   "cell_type": "code",
   "execution_count": 16,
   "id": "ce447558",
   "metadata": {},
   "outputs": [
    {
     "name": "stdout",
     "output_type": "stream",
     "text": [
      "Network(\n",
      "  (lstm): LSTM(1, 512, num_layers=4, batch_first=True)\n",
      "  (classification): Sequential(\n",
      "    (0): Linear(in_features=512, out_features=256, bias=True)\n",
      "    (1): ReLU()\n",
      "    (2): Dropout(p=0.1, inplace=False)\n",
      "    (3): Linear(in_features=256, out_features=128, bias=True)\n",
      "    (4): ReLU()\n",
      "    (5): Dropout(p=0.1, inplace=False)\n",
      "    (6): Linear(in_features=128, out_features=1, bias=True)\n",
      "  )\n",
      ")\n"
     ]
    }
   ],
   "source": [
    "class Network(torch.nn.Module):\n",
    "    def __init__(self):\n",
    "        super(Network, self).__init__()\n",
    "        \n",
    "#         self.embedding = torch.nn.Sequential(            \n",
    "#             nn.Conv1d(in_channels = 1, \n",
    "#                       out_channels = 128, \n",
    "#                       kernel_size = 5, \n",
    "#                       stride = 2,\n",
    "#                       padding = 2, \n",
    "#                       bias = False),\n",
    "#             nn.BatchNorm1d(128),\n",
    "#             nn.ReLU(),\n",
    "#             nn.Dropout(0.3),\n",
    "            \n",
    "#             nn.Conv1d(in_channels = 128, \n",
    "#                       out_channels = 256, \n",
    "#                       kernel_size = 3, \n",
    "#                       stride = 2,\n",
    "#                       padding = 1, \n",
    "#                       bias = False),\n",
    "#             nn.BatchNorm1d(256),\n",
    "#             nn.ReLU()\n",
    "#         )\n",
    "        \n",
    "        self.lstm = nn.LSTM(input_size = 1, \n",
    "                            hidden_size = 512, \n",
    "                            num_layers = 4,\n",
    "                            bias = True,\n",
    "                            batch_first = True,\n",
    "                            dropout = 0, \n",
    "                            bidirectional = False) \n",
    "\n",
    "        self.classification = torch.nn.Sequential(\n",
    "            #nn.Linear(512, 1) \n",
    "            \n",
    "            nn.Linear(512, 256), \n",
    "            nn.ReLU(),\n",
    "            nn.Dropout(0.1),\n",
    "            \n",
    "            nn.Linear(256, 128), \n",
    "            nn.ReLU(),\n",
    "            nn.Dropout(0.1),\n",
    "            \n",
    "            nn.Linear(128, 1)\n",
    "        ) \n",
    "        \n",
    "    def forward(self, x):\n",
    "        out1, (out2, out3) = self.lstm(x)\n",
    "        out = self.classification(out1[:, -1, :])\n",
    "        return out\n",
    "    \n",
    "model = Network().to(device)\n",
    "print(model)"
   ]
  },
  {
   "cell_type": "markdown",
   "id": "d160b77e",
   "metadata": {},
   "source": [
    "# Loss Functions"
   ]
  },
  {
   "cell_type": "code",
   "execution_count": 17,
   "id": "4cabe2d0",
   "metadata": {},
   "outputs": [],
   "source": [
    "def Custom_MSE(y, y_t, reduction = 'mean'):\n",
    "    assert len(y) == len(y_t)\n",
    "    \n",
    "    if reduction == 'mean':\n",
    "        loss = torch.mean( torch.pow( (y - y_t) , 2) )\n",
    "    elif reduction == 'sum':\n",
    "        loss = torch.sum( torch.pow( (y - y_t) , 2) )\n",
    "    else:\n",
    "        print(\"ERROR. \")\n",
    "        exit()\n",
    "    return loss\n",
    "    \n",
    "    "
   ]
  },
  {
   "cell_type": "code",
   "execution_count": 18,
   "id": "fff7b0fe",
   "metadata": {},
   "outputs": [],
   "source": [
    "def Skewness(y):\n",
    "    den = torch.mean( torch.pow( (y - torch.mean(y)), 3) )\n",
    "    num = torch.pow( torch.mean( torch.pow( (y - torch.mean(y)), 2) ), 3/2 )\n",
    "    return den / num \n",
    "\n",
    "def Kurtosis(y):\n",
    "    den = torch.mean( torch.pow( (y - torch.mean(y)), 4) )\n",
    "    num = torch.pow( torch.mean( torch.pow( (y - torch.mean(y)), 2) ), 2 )\n",
    "    return den / num \n",
    "\n",
    "def DW_test(x): # Durbin Watson test\n",
    "    indexing = np.arange(0, len(x), 1).reshape(-1,1)\n",
    "    x_np = x.cpu().detach().numpy().reshape(-1,1)\n",
    "    \n",
    "    reg = linear_model.LinearRegression()\n",
    "    reg.fit(indexing, x_np)\n",
    "    \n",
    "    pred = reg.coef_ * indexing + reg.intercept_\n",
    "    \n",
    "    den = 0\n",
    "    num = 0\n",
    "\n",
    "    for i in range(len(pred) - 1):\n",
    "        den += ((pred[i+1] - x_np[i+1]) - (pred[i] - x_np[i]))**2\n",
    "        num += (pred[i+1] - x_np[i+1])**2\n",
    "\n",
    "    DW = torch.tensor(den / num).cuda()\n",
    "    \n",
    "    return DW\n",
    "\n"
   ]
  },
  {
   "cell_type": "code",
   "execution_count": 19,
   "id": "1fbc8d15",
   "metadata": {},
   "outputs": [],
   "source": [
    "def Heavy_Tail_S_Loss(y, data_mean, data_std):  \n",
    "    y_un_nor = data_std * y + data_mean\n",
    "    S = Skewness(y_un_nor)\n",
    "\n",
    "    loss = 1e-3 * (1 / torch.abs(S)).cuda()\n",
    "    return loss\n",
    "\n",
    "\n",
    "def Heavy_Tail_K_Loss(y, data_mean, data_std):\n",
    "    y_un_nor = data_std * y + data_mean\n",
    "    K = Kurtosis(y_un_nor)\n",
    "    \n",
    "    loss = torch.pow(2, -(K) ).cuda()\n",
    "    return loss\n",
    "\n",
    "\n",
    "def Auto_Correlation_Loss(y):\n",
    "    DW = DW_test(y)\n",
    "    loss = 5 ** (torch.abs(DW - 2) / 0.5)\n",
    "    \n",
    "    return loss\n",
    "    "
   ]
  },
  {
   "cell_type": "code",
   "execution_count": 20,
   "id": "e1d9e331",
   "metadata": {},
   "outputs": [],
   "source": [
    "def stock_return_np(x):\n",
    "    rt = np.zeros((len(x)-1, 1))\n",
    "    for i in range(len(rt)):\n",
    "        rt[i] = np.log( x[i+1] / x[i] )\n",
    "       \n",
    "    return rt\n",
    "\n",
    "def Skewness_np(y):\n",
    "    den = np.mean( np.power( (y - np.mean(y)), 3) )\n",
    "    num = np.power( np.mean( np.power( (y - np.mean(y)), 2) ), 3/2 )\n",
    "    return den / num \n",
    "\n",
    "def Kurtosis_np(y):\n",
    "    den = np.mean( np.power( (y - np.mean(y)), 4) )\n",
    "    num = np.power( np.mean( np.power( (y - np.mean(y)), 2) ), 2 )\n",
    "    return den / num \n"
   ]
  },
  {
   "cell_type": "code",
   "execution_count": 21,
   "id": "ef67c524",
   "metadata": {},
   "outputs": [],
   "source": [
    "def Custom_Loss(y, y_t, data_mean, data_std):\n",
    "    \n",
    "    loss = Custom_MSE(y, y_t) \n",
    "    + 12e-1 * Heavy_Tail_S_Loss(y, data_mean, data_std) \n",
    "    + 12e-1 * Heavy_Tail_K_Loss(y, data_mean, data_std)\n",
    "    + 100e-1 * Auto_Correlation_Loss(y)\n",
    "    \n",
    "    return loss"
   ]
  },
  {
   "cell_type": "code",
   "execution_count": 22,
   "id": "893a2af7",
   "metadata": {},
   "outputs": [],
   "source": [
    "def R2_Loss(output, target):\n",
    "    ss_tot = torch.sum((target - torch.mean(target)) ** 2)\n",
    "    ss_res = torch.sum((target - output) ** 2)\n",
    "    r2 = 1 - ss_res / ss_tot\n",
    "    return r2"
   ]
  },
  {
   "cell_type": "markdown",
   "id": "3d63f643",
   "metadata": {},
   "source": [
    "# Training Configuration"
   ]
  },
  {
   "cell_type": "code",
   "execution_count": 23,
   "id": "557eced2",
   "metadata": {},
   "outputs": [],
   "source": [
    "criterion_train = Custom_Loss\n",
    "#criterion_val = torch.nn.MSELoss(reduction='mean')\n",
    "criterion_val = R2_Loss\n",
    "optimizer = torch.optim.AdamW(model.parameters(), lr = LearningRate, weight_decay = WeightDecay)\n",
    "scheduler = torch.optim.lr_scheduler.ReduceLROnPlateau(optimizer, factor = 0.5, patience = 5, verbose = True)\n"
   ]
  },
  {
   "cell_type": "code",
   "execution_count": 24,
   "id": "f7172180",
   "metadata": {},
   "outputs": [],
   "source": [
    "# def create_folder(folder_path):\n",
    "#     if not os.path.exists(folder_path):\n",
    "#         os.mkdir(folder_path)\n",
    "        \n",
    "# save_path = \"./model/model_SOTA\"\n",
    "# create_folder(save_path)\n"
   ]
  },
  {
   "cell_type": "code",
   "execution_count": 25,
   "id": "188846d8",
   "metadata": {},
   "outputs": [],
   "source": [
    "def train(model, train_data, optimizer, criterion, data_mean, data_std):\n",
    "    model.train()\n",
    "\n",
    "    train_loader = torch.utils.data.DataLoader(train_data, batch_size = BatchSize, shuffle=False)\n",
    "        \n",
    "    batch_bar = tqdm(total=len(train_loader), dynamic_ncols=True, leave=False, position=0, desc='Train')\n",
    "    \n",
    "    otpt = []\n",
    "    \n",
    "    for batch_idx, (data, target) in enumerate(train_loader):\n",
    "        \n",
    "        data = data.cuda()\n",
    "\n",
    "        optimizer.zero_grad()\n",
    "        output = model(data)\n",
    "        \n",
    "        #print(output.shape)\n",
    "        \n",
    "        for i in range(len(output)):\n",
    "            otpt.append(output[i].detach().cpu().numpy())\n",
    "            \n",
    "        loss = criterion(output, target, data_mean, data_std)\n",
    "        print(\"Train Loss: \", loss.item(), \". \")\n",
    "        \n",
    "        batch_bar.set_postfix(\n",
    "            loss=\"{:.05f}\".format(float(loss)),\n",
    "            lr=\"{:.05f}\".format(float(optimizer.param_groups[0]['lr'])) )  \n",
    "            \n",
    "        loss.backward()\n",
    "        optimizer.step()\n",
    "            \n",
    "        batch_bar.update()\n",
    "        \n",
    "    return otpt\n",
    "\n",
    "\n",
    "def val(model, val_data, criterion, data_mean, data_std):\n",
    "\n",
    "    with torch.no_grad():\n",
    "        \n",
    "        model.eval()\n",
    "        true_y_list = []\n",
    "        pred_y_list = []\n",
    "        \n",
    "        otpt = []\n",
    "\n",
    "        val_loader = torch.utils.data.DataLoader(val_data, batch_size = BatchSize, shuffle=False)\n",
    "        \n",
    "        for data, true_y in val_loader:\n",
    "            data = data.cuda()\n",
    "            true_y = true_y.long().cuda()                \n",
    "                \n",
    "            output = model(data)\n",
    "            pred_y = output\n",
    "\n",
    "            pred_y_list.extend(pred_y.tolist())\n",
    "            true_y_list.extend(true_y.tolist())\n",
    "            \n",
    "            for i in range(len(output)):\n",
    "                otpt.append(output[i].detach().cpu().numpy())\n",
    "\n",
    "            loss = criterion(output, true_y)\n",
    "            print(\"Validation Loss: \", loss.item(), \". \")    \n",
    "            \n",
    "    #val_accuracy = accuracy_score(true_y_list, pred_y_list)\n",
    "    #fpr, tpr, thresholds = roc_curve(true_y_list, pred_y_list)\n",
    "    #val_auc = auc(fpr, tpr)\n",
    "    #print(val_accuracy)\n",
    "    #print(val_auc)\n",
    "    \n",
    "    return otpt\n"
   ]
  },
  {
   "cell_type": "markdown",
   "id": "62f28898",
   "metadata": {},
   "source": [
    "## Reload the model if needed"
   ]
  },
  {
   "cell_type": "code",
   "execution_count": 26,
   "id": "fd9f1326",
   "metadata": {},
   "outputs": [],
   "source": [
    "# checkpoint = torch.load(\"./model/model_SOTA/epoch_120.txt\")\n",
    "# model.load_state_dict(checkpoint['model_state_dict'])\n",
    "# optimizer.load_state_dict(checkpoint['optimizer_state_dict'])\n",
    "# scheduler = checkpoint['scheduler']\n",
    "# epoch = checkpoint['epoch']\n",
    "\n",
    "# print(epoch)\n",
    "\n",
    "# StartEpoch = epoch + 1"
   ]
  },
  {
   "cell_type": "markdown",
   "id": "1050f34f",
   "metadata": {},
   "source": [
    "# Training"
   ]
  },
  {
   "cell_type": "code",
   "execution_count": 27,
   "id": "18edf588",
   "metadata": {
    "scrolled": true
   },
   "outputs": [
    {
     "name": "stderr",
     "output_type": "stream",
     "text": [
      "                                                                              \r"
     ]
    },
    {
     "name": "stdout",
     "output_type": "stream",
     "text": [
      "--------------------------------------------------\n",
      "epoch 1: \n",
      "train loss : 0.8038285613059998 . \n",
      "validation loss : -0.00019657611846923828 . \n",
      "--------------------------------------------------\n"
     ]
    },
    {
     "name": "stderr",
     "output_type": "stream",
     "text": [
      "                                                                              \r"
     ]
    },
    {
     "name": "stdout",
     "output_type": "stream",
     "text": [
      "--------------------------------------------------\n",
      "epoch 2: \n",
      "train loss : 0.8036514401435852 . \n",
      "validation loss : -0.00020176172256469727 . \n",
      "--------------------------------------------------\n"
     ]
    },
    {
     "name": "stderr",
     "output_type": "stream",
     "text": [
      "                                                                              \r"
     ]
    },
    {
     "name": "stdout",
     "output_type": "stream",
     "text": [
      "--------------------------------------------------\n",
      "epoch 3: \n",
      "train loss : 0.8035320103168487 . \n",
      "validation loss : -7.361173629760742e-06 . \n",
      "--------------------------------------------------\n"
     ]
    },
    {
     "name": "stderr",
     "output_type": "stream",
     "text": [
      "                                                                              \r"
     ]
    },
    {
     "name": "stdout",
     "output_type": "stream",
     "text": [
      "--------------------------------------------------\n",
      "epoch 4: \n",
      "train loss : 0.8031420767307281 . \n",
      "validation loss : -6.660819053649902e-05 . \n",
      "--------------------------------------------------\n"
     ]
    },
    {
     "name": "stderr",
     "output_type": "stream",
     "text": [
      "                                                                              \r"
     ]
    },
    {
     "name": "stdout",
     "output_type": "stream",
     "text": [
      "--------------------------------------------------\n",
      "epoch 5: \n",
      "train loss : 0.8016829371452332 . \n",
      "validation loss : -0.001201629638671875 . \n",
      "--------------------------------------------------\n"
     ]
    },
    {
     "name": "stderr",
     "output_type": "stream",
     "text": [
      "                                                                              \r"
     ]
    },
    {
     "name": "stdout",
     "output_type": "stream",
     "text": [
      "--------------------------------------------------\n",
      "epoch 6: \n",
      "train loss : 0.802743935585022 . \n",
      "validation loss : 0.00091552734375 . \n",
      "--------------------------------------------------\n"
     ]
    },
    {
     "name": "stderr",
     "output_type": "stream",
     "text": [
      "                                                                              \r"
     ]
    },
    {
     "name": "stdout",
     "output_type": "stream",
     "text": [
      "--------------------------------------------------\n",
      "epoch 7: \n",
      "train loss : 0.8009752869606018 . \n",
      "validation loss : -0.004163682460784912 . \n",
      "--------------------------------------------------\n"
     ]
    },
    {
     "name": "stderr",
     "output_type": "stream",
     "text": [
      "                                                                              \r"
     ]
    },
    {
     "name": "stdout",
     "output_type": "stream",
     "text": [
      "--------------------------------------------------\n",
      "epoch 8: \n",
      "train loss : 0.8007370054721832 . \n",
      "validation loss : 0.0001831352710723877 . \n",
      "--------------------------------------------------\n"
     ]
    },
    {
     "name": "stderr",
     "output_type": "stream",
     "text": [
      "                                                                              \r"
     ]
    },
    {
     "name": "stdout",
     "output_type": "stream",
     "text": [
      "--------------------------------------------------\n",
      "epoch 9: \n",
      "train loss : 0.7973032712936401 . \n",
      "validation loss : -0.00868445634841919 . \n",
      "--------------------------------------------------\n"
     ]
    },
    {
     "name": "stderr",
     "output_type": "stream",
     "text": [
      "                                                                              \r"
     ]
    },
    {
     "name": "stdout",
     "output_type": "stream",
     "text": [
      "--------------------------------------------------\n",
      "epoch 10: \n",
      "train loss : 0.7954496264457702 . \n",
      "validation loss : -0.0028884410858154297 . \n",
      "--------------------------------------------------\n"
     ]
    },
    {
     "name": "stderr",
     "output_type": "stream",
     "text": [
      "                                                                              \r"
     ]
    },
    {
     "name": "stdout",
     "output_type": "stream",
     "text": [
      "--------------------------------------------------\n",
      "epoch 11: \n",
      "train loss : 0.7892539083957673 . \n",
      "validation loss : -0.004385858774185181 . \n",
      "--------------------------------------------------\n"
     ]
    },
    {
     "name": "stderr",
     "output_type": "stream",
     "text": [
      "                                                                              \r"
     ]
    },
    {
     "name": "stdout",
     "output_type": "stream",
     "text": [
      "--------------------------------------------------\n",
      "epoch 12: \n",
      "train loss : 0.7780072152614593 . \n",
      "validation loss : 0.0027419626712799072 . \n",
      "--------------------------------------------------\n"
     ]
    },
    {
     "name": "stderr",
     "output_type": "stream",
     "text": [
      "                                                                              \r"
     ]
    },
    {
     "name": "stdout",
     "output_type": "stream",
     "text": [
      "--------------------------------------------------\n",
      "epoch 13: \n",
      "train loss : 0.7699124813079834 . \n",
      "validation loss : -0.0024489164352416992 . \n",
      "--------------------------------------------------\n"
     ]
    },
    {
     "name": "stderr",
     "output_type": "stream",
     "text": [
      "                                                                              \r"
     ]
    },
    {
     "name": "stdout",
     "output_type": "stream",
     "text": [
      "--------------------------------------------------\n",
      "epoch 14: \n",
      "train loss : 0.7625648617744446 . \n",
      "validation loss : -0.014579921960830688 . \n",
      "--------------------------------------------------\n"
     ]
    },
    {
     "name": "stderr",
     "output_type": "stream",
     "text": [
      "                                                                              \r"
     ]
    },
    {
     "name": "stdout",
     "output_type": "stream",
     "text": [
      "--------------------------------------------------\n",
      "epoch 15: \n",
      "train loss : 0.7601973831653595 . \n",
      "validation loss : 0.006753206253051758 . \n",
      "--------------------------------------------------\n"
     ]
    },
    {
     "name": "stderr",
     "output_type": "stream",
     "text": [
      "                                                                              \r"
     ]
    },
    {
     "name": "stdout",
     "output_type": "stream",
     "text": [
      "--------------------------------------------------\n",
      "epoch 16: \n",
      "train loss : 0.7562819421291351 . \n",
      "validation loss : -0.04260975122451782 . \n",
      "--------------------------------------------------\n"
     ]
    },
    {
     "name": "stderr",
     "output_type": "stream",
     "text": [
      "                                                                              \r"
     ]
    },
    {
     "name": "stdout",
     "output_type": "stream",
     "text": [
      "--------------------------------------------------\n",
      "epoch 17: \n",
      "train loss : 0.7543992578983307 . \n",
      "validation loss : 0.015151381492614746 . \n",
      "--------------------------------------------------\n"
     ]
    },
    {
     "name": "stderr",
     "output_type": "stream",
     "text": [
      "                                                                              \r"
     ]
    },
    {
     "name": "stdout",
     "output_type": "stream",
     "text": [
      "--------------------------------------------------\n",
      "epoch 18: \n",
      "train loss : 0.7632556557655334 . \n",
      "validation loss : 0.013609468936920166 . \n",
      "--------------------------------------------------\n"
     ]
    },
    {
     "name": "stderr",
     "output_type": "stream",
     "text": [
      "                                                                              \r"
     ]
    },
    {
     "name": "stdout",
     "output_type": "stream",
     "text": [
      "--------------------------------------------------\n",
      "epoch 19: \n",
      "train loss : 0.7621009528636933 . \n",
      "validation loss : 0.0003247857093811035 . \n",
      "--------------------------------------------------\n"
     ]
    },
    {
     "name": "stderr",
     "output_type": "stream",
     "text": [
      "                                                                              \r"
     ]
    },
    {
     "name": "stdout",
     "output_type": "stream",
     "text": [
      "--------------------------------------------------\n",
      "epoch 20: \n",
      "train loss : 0.7544919431209565 . \n",
      "validation loss : 4.500150680541992e-06 . \n",
      "--------------------------------------------------\n"
     ]
    },
    {
     "name": "stderr",
     "output_type": "stream",
     "text": [
      "                                                                              \r"
     ]
    },
    {
     "name": "stdout",
     "output_type": "stream",
     "text": [
      "--------------------------------------------------\n",
      "epoch 21: \n",
      "train loss : 0.751718419790268 . \n",
      "validation loss : -0.01238924264907837 . \n",
      "--------------------------------------------------\n"
     ]
    },
    {
     "name": "stderr",
     "output_type": "stream",
     "text": [
      "                                                                              \r"
     ]
    },
    {
     "name": "stdout",
     "output_type": "stream",
     "text": [
      "--------------------------------------------------\n",
      "epoch 22: \n",
      "train loss : 0.7499899744987488 . \n",
      "validation loss : -0.0037110447883605957 . \n",
      "--------------------------------------------------\n"
     ]
    },
    {
     "name": "stderr",
     "output_type": "stream",
     "text": [
      "                                                                              \r"
     ]
    },
    {
     "name": "stdout",
     "output_type": "stream",
     "text": [
      "--------------------------------------------------\n",
      "epoch 23: \n",
      "train loss : 0.7475286722183228 . \n",
      "validation loss : -0.05481535196304321 . \n",
      "--------------------------------------------------\n"
     ]
    },
    {
     "name": "stderr",
     "output_type": "stream",
     "text": [
      "                                                                              \r"
     ]
    },
    {
     "name": "stdout",
     "output_type": "stream",
     "text": [
      "--------------------------------------------------\n",
      "epoch 24: \n",
      "train loss : 0.7494391441345215 . \n",
      "validation loss : -0.011400669813156128 . \n",
      "--------------------------------------------------\n"
     ]
    },
    {
     "name": "stderr",
     "output_type": "stream",
     "text": [
      "                                                                              \r"
     ]
    },
    {
     "name": "stdout",
     "output_type": "stream",
     "text": [
      "--------------------------------------------------\n",
      "epoch 25: \n",
      "train loss : 0.7453715145587921 . \n",
      "validation loss : -0.012970805168151855 . \n",
      "--------------------------------------------------\n"
     ]
    },
    {
     "name": "stderr",
     "output_type": "stream",
     "text": [
      "                                                                              \r"
     ]
    },
    {
     "name": "stdout",
     "output_type": "stream",
     "text": [
      "--------------------------------------------------\n",
      "epoch 26: \n",
      "train loss : 0.7493287026882172 . \n",
      "validation loss : -0.0014199316501617432 . \n",
      "--------------------------------------------------\n"
     ]
    },
    {
     "name": "stderr",
     "output_type": "stream",
     "text": [
      "                                                                              \r"
     ]
    },
    {
     "name": "stdout",
     "output_type": "stream",
     "text": [
      "--------------------------------------------------\n",
      "epoch 27: \n",
      "train loss : 0.7562991082668304 . \n",
      "validation loss : 0.004062920808792114 . \n",
      "--------------------------------------------------\n"
     ]
    },
    {
     "name": "stderr",
     "output_type": "stream",
     "text": [
      "                                                                              \r"
     ]
    },
    {
     "name": "stdout",
     "output_type": "stream",
     "text": [
      "--------------------------------------------------\n",
      "epoch 28: \n",
      "train loss : 0.7539209365844727 . \n",
      "validation loss : -0.024180293083190918 . \n",
      "--------------------------------------------------\n"
     ]
    },
    {
     "name": "stderr",
     "output_type": "stream",
     "text": [
      "                                                                              \r"
     ]
    },
    {
     "name": "stdout",
     "output_type": "stream",
     "text": [
      "--------------------------------------------------\n",
      "epoch 29: \n",
      "train loss : 0.7478154361248016 . \n",
      "validation loss : -0.008984655141830444 . \n",
      "--------------------------------------------------\n"
     ]
    },
    {
     "name": "stderr",
     "output_type": "stream",
     "text": [
      "                                                                              \r"
     ]
    },
    {
     "name": "stdout",
     "output_type": "stream",
     "text": [
      "--------------------------------------------------\n",
      "epoch 30: \n",
      "train loss : 0.7430643677711487 . \n",
      "validation loss : -0.03336817026138306 . \n",
      "--------------------------------------------------\n"
     ]
    },
    {
     "name": "stderr",
     "output_type": "stream",
     "text": [
      "                                                                              \r"
     ]
    },
    {
     "name": "stdout",
     "output_type": "stream",
     "text": [
      "--------------------------------------------------\n",
      "epoch 31: \n",
      "train loss : 0.7413654565811157 . \n",
      "validation loss : -0.018386900424957275 . \n",
      "--------------------------------------------------\n"
     ]
    },
    {
     "name": "stderr",
     "output_type": "stream",
     "text": [
      "                                                                              \r"
     ]
    },
    {
     "name": "stdout",
     "output_type": "stream",
     "text": [
      "--------------------------------------------------\n",
      "epoch 32: \n",
      "train loss : 0.740785664319992 . \n",
      "validation loss : -0.027141034603118896 . \n",
      "--------------------------------------------------\n"
     ]
    },
    {
     "name": "stderr",
     "output_type": "stream",
     "text": [
      "                                                                              \r"
     ]
    },
    {
     "name": "stdout",
     "output_type": "stream",
     "text": [
      "--------------------------------------------------\n",
      "epoch 33: \n",
      "train loss : 0.7351253449916839 . \n",
      "validation loss : -0.05881744623184204 . \n",
      "--------------------------------------------------\n"
     ]
    },
    {
     "name": "stderr",
     "output_type": "stream",
     "text": [
      "                                                                              \r"
     ]
    },
    {
     "name": "stdout",
     "output_type": "stream",
     "text": [
      "--------------------------------------------------\n",
      "epoch 34: \n",
      "train loss : 0.7301907181739807 . \n",
      "validation loss : -0.017828136682510376 . \n",
      "--------------------------------------------------\n"
     ]
    },
    {
     "name": "stderr",
     "output_type": "stream",
     "text": [
      "                                                                              \r"
     ]
    },
    {
     "name": "stdout",
     "output_type": "stream",
     "text": [
      "--------------------------------------------------\n",
      "epoch 35: \n",
      "train loss : 0.7388005793094635 . \n",
      "validation loss : -0.045474469661712646 . \n",
      "--------------------------------------------------\n"
     ]
    },
    {
     "name": "stderr",
     "output_type": "stream",
     "text": [
      "                                                                              \r"
     ]
    },
    {
     "name": "stdout",
     "output_type": "stream",
     "text": [
      "--------------------------------------------------\n",
      "epoch 36: \n",
      "train loss : 0.7328652977943421 . \n",
      "validation loss : -0.05947691202163696 . \n",
      "--------------------------------------------------\n"
     ]
    },
    {
     "name": "stderr",
     "output_type": "stream",
     "text": [
      "                                                                              \r"
     ]
    },
    {
     "name": "stdout",
     "output_type": "stream",
     "text": [
      "--------------------------------------------------\n",
      "epoch 37: \n",
      "train loss : 0.7247248291969299 . \n",
      "validation loss : -0.08832508325576782 . \n",
      "--------------------------------------------------\n"
     ]
    },
    {
     "name": "stderr",
     "output_type": "stream",
     "text": [
      "                                                                              \r"
     ]
    },
    {
     "name": "stdout",
     "output_type": "stream",
     "text": [
      "--------------------------------------------------\n",
      "epoch 38: \n",
      "train loss : 0.7241030812263489 . \n",
      "validation loss : -0.05326437950134277 . \n",
      "--------------------------------------------------\n"
     ]
    },
    {
     "name": "stderr",
     "output_type": "stream",
     "text": [
      "                                                                              \r"
     ]
    },
    {
     "name": "stdout",
     "output_type": "stream",
     "text": [
      "--------------------------------------------------\n",
      "epoch 39: \n",
      "train loss : 0.7191103398799896 . \n",
      "validation loss : -0.08001285791397095 . \n",
      "--------------------------------------------------\n"
     ]
    },
    {
     "name": "stderr",
     "output_type": "stream",
     "text": [
      "                                                                              \r"
     ]
    },
    {
     "name": "stdout",
     "output_type": "stream",
     "text": [
      "--------------------------------------------------\n",
      "epoch 40: \n",
      "train loss : 0.7034645438194275 . \n",
      "validation loss : -0.0684884786605835 . \n",
      "--------------------------------------------------\n"
     ]
    },
    {
     "name": "stderr",
     "output_type": "stream",
     "text": [
      "                                                                              \r"
     ]
    },
    {
     "name": "stdout",
     "output_type": "stream",
     "text": [
      "--------------------------------------------------\n",
      "epoch 41: \n",
      "train loss : 0.6957323610782623 . \n",
      "validation loss : -0.13622939586639404 . \n",
      "--------------------------------------------------\n"
     ]
    },
    {
     "name": "stderr",
     "output_type": "stream",
     "text": [
      "                                                                              \r"
     ]
    },
    {
     "name": "stdout",
     "output_type": "stream",
     "text": [
      "--------------------------------------------------\n",
      "epoch 42: \n",
      "train loss : 0.6885933816432953 . \n",
      "validation loss : -0.2752189040184021 . \n",
      "--------------------------------------------------\n"
     ]
    },
    {
     "name": "stderr",
     "output_type": "stream",
     "text": [
      "                                                                              \r"
     ]
    },
    {
     "name": "stdout",
     "output_type": "stream",
     "text": [
      "--------------------------------------------------\n",
      "epoch 43: \n",
      "train loss : 0.6853114187717437 . \n",
      "validation loss : -0.05883991718292236 . \n",
      "--------------------------------------------------\n"
     ]
    },
    {
     "name": "stderr",
     "output_type": "stream",
     "text": [
      "                                                                              \r"
     ]
    },
    {
     "name": "stdout",
     "output_type": "stream",
     "text": [
      "--------------------------------------------------\n",
      "epoch 44: \n",
      "train loss : 0.7337850093841553 . \n",
      "validation loss : -0.08214813470840454 . \n",
      "--------------------------------------------------\n"
     ]
    },
    {
     "name": "stderr",
     "output_type": "stream",
     "text": [
      "                                                                              \r"
     ]
    },
    {
     "name": "stdout",
     "output_type": "stream",
     "text": [
      "--------------------------------------------------\n",
      "epoch 45: \n",
      "train loss : 0.7979445576667785 . \n",
      "validation loss : -0.009608060121536255 . \n",
      "--------------------------------------------------\n"
     ]
    },
    {
     "name": "stderr",
     "output_type": "stream",
     "text": [
      "                                                                              \r"
     ]
    },
    {
     "name": "stdout",
     "output_type": "stream",
     "text": [
      "--------------------------------------------------\n",
      "epoch 46: \n",
      "train loss : 0.7492258191108704 . \n",
      "validation loss : -0.002936452627182007 . \n",
      "--------------------------------------------------\n"
     ]
    },
    {
     "name": "stderr",
     "output_type": "stream",
     "text": [
      "                                                                              \r"
     ]
    },
    {
     "name": "stdout",
     "output_type": "stream",
     "text": [
      "--------------------------------------------------\n",
      "epoch 47: \n",
      "train loss : 0.7346129715442657 . \n",
      "validation loss : -0.027362048625946045 . \n",
      "--------------------------------------------------\n"
     ]
    },
    {
     "name": "stderr",
     "output_type": "stream",
     "text": [
      "                                                                              \r"
     ]
    },
    {
     "name": "stdout",
     "output_type": "stream",
     "text": [
      "--------------------------------------------------\n",
      "epoch 48: \n",
      "train loss : 0.7098593056201935 . \n",
      "validation loss : -0.05843925476074219 . \n",
      "--------------------------------------------------\n"
     ]
    },
    {
     "name": "stderr",
     "output_type": "stream",
     "text": [
      "                                                                              \r"
     ]
    },
    {
     "name": "stdout",
     "output_type": "stream",
     "text": [
      "--------------------------------------------------\n",
      "epoch 49: \n",
      "train loss : 0.6985936880111694 . \n",
      "validation loss : -0.08286261558532715 . \n",
      "--------------------------------------------------\n"
     ]
    },
    {
     "name": "stderr",
     "output_type": "stream",
     "text": [
      "                                                                              \r"
     ]
    },
    {
     "name": "stdout",
     "output_type": "stream",
     "text": [
      "--------------------------------------------------\n",
      "epoch 50: \n",
      "train loss : 0.6849317133426667 . \n",
      "validation loss : -0.09055900573730469 . \n",
      "--------------------------------------------------\n"
     ]
    },
    {
     "name": "stderr",
     "output_type": "stream",
     "text": [
      "                                                                              \r"
     ]
    },
    {
     "name": "stdout",
     "output_type": "stream",
     "text": [
      "--------------------------------------------------\n",
      "epoch 51: \n",
      "train loss : 0.6767178356647492 . \n",
      "validation loss : -0.09037595987319946 . \n",
      "--------------------------------------------------\n"
     ]
    },
    {
     "name": "stderr",
     "output_type": "stream",
     "text": [
      "                                                                              \r"
     ]
    },
    {
     "name": "stdout",
     "output_type": "stream",
     "text": [
      "--------------------------------------------------\n",
      "epoch 52: \n",
      "train loss : 0.6666451573371888 . \n",
      "validation loss : -0.12564617395401 . \n",
      "--------------------------------------------------\n"
     ]
    },
    {
     "name": "stderr",
     "output_type": "stream",
     "text": [
      "                                                                              \r"
     ]
    },
    {
     "name": "stdout",
     "output_type": "stream",
     "text": [
      "--------------------------------------------------\n",
      "epoch 53: \n",
      "train loss : 0.6609438955783844 . \n",
      "validation loss : -0.1417396068572998 . \n",
      "--------------------------------------------------\n"
     ]
    },
    {
     "name": "stderr",
     "output_type": "stream",
     "text": [
      "                                                                              \r"
     ]
    },
    {
     "name": "stdout",
     "output_type": "stream",
     "text": [
      "--------------------------------------------------\n",
      "epoch 54: \n",
      "train loss : 0.6620598495006561 . \n",
      "validation loss : -0.16785752773284912 . \n",
      "--------------------------------------------------\n"
     ]
    },
    {
     "name": "stderr",
     "output_type": "stream",
     "text": [
      "                                                                              \r"
     ]
    },
    {
     "name": "stdout",
     "output_type": "stream",
     "text": [
      "--------------------------------------------------\n",
      "epoch 55: \n",
      "train loss : 0.6677770137786865 . \n",
      "validation loss : -0.113838791847229 . \n",
      "--------------------------------------------------\n"
     ]
    },
    {
     "name": "stderr",
     "output_type": "stream",
     "text": [
      "                                                                              \r"
     ]
    },
    {
     "name": "stdout",
     "output_type": "stream",
     "text": [
      "--------------------------------------------------\n",
      "epoch 56: \n",
      "train loss : 0.6602915287017822 . \n",
      "validation loss : -0.11351734399795532 . \n",
      "--------------------------------------------------\n"
     ]
    },
    {
     "name": "stderr",
     "output_type": "stream",
     "text": [
      "                                                                              \r"
     ]
    },
    {
     "name": "stdout",
     "output_type": "stream",
     "text": [
      "--------------------------------------------------\n",
      "epoch 57: \n",
      "train loss : 0.6517697393894195 . \n",
      "validation loss : -0.18838012218475342 . \n",
      "--------------------------------------------------\n"
     ]
    },
    {
     "name": "stderr",
     "output_type": "stream",
     "text": [
      "                                                                              \r"
     ]
    },
    {
     "name": "stdout",
     "output_type": "stream",
     "text": [
      "--------------------------------------------------\n",
      "epoch 58: \n",
      "train loss : 0.6470920026302338 . \n",
      "validation loss : -0.16355150938034058 . \n",
      "--------------------------------------------------\n"
     ]
    },
    {
     "name": "stderr",
     "output_type": "stream",
     "text": [
      "                                                                              \r"
     ]
    },
    {
     "name": "stdout",
     "output_type": "stream",
     "text": [
      "--------------------------------------------------\n",
      "epoch 59: \n",
      "train loss : 0.6444040656089782 . \n",
      "validation loss : -0.12844914197921753 . \n",
      "--------------------------------------------------\n"
     ]
    },
    {
     "name": "stderr",
     "output_type": "stream",
     "text": [
      "                                                                              \r"
     ]
    },
    {
     "name": "stdout",
     "output_type": "stream",
     "text": [
      "--------------------------------------------------\n",
      "epoch 60: \n",
      "train loss : 0.6679431617259979 . \n",
      "validation loss : -0.1464608907699585 . \n",
      "--------------------------------------------------\n"
     ]
    },
    {
     "name": "stderr",
     "output_type": "stream",
     "text": [
      "                                                                              \r"
     ]
    },
    {
     "name": "stdout",
     "output_type": "stream",
     "text": [
      "--------------------------------------------------\n",
      "epoch 61: \n",
      "train loss : 0.6573463380336761 . \n",
      "validation loss : -0.18767940998077393 . \n",
      "--------------------------------------------------\n"
     ]
    },
    {
     "name": "stderr",
     "output_type": "stream",
     "text": [
      "                                                                              \r"
     ]
    },
    {
     "name": "stdout",
     "output_type": "stream",
     "text": [
      "--------------------------------------------------\n",
      "epoch 62: \n",
      "train loss : 0.6535113036632538 . \n",
      "validation loss : -0.25559669733047485 . \n",
      "--------------------------------------------------\n"
     ]
    },
    {
     "name": "stderr",
     "output_type": "stream",
     "text": [
      "                                                                              \r"
     ]
    },
    {
     "name": "stdout",
     "output_type": "stream",
     "text": [
      "--------------------------------------------------\n",
      "epoch 63: \n",
      "train loss : 0.637544822692871 . \n",
      "validation loss : -0.2069346308708191 . \n",
      "--------------------------------------------------\n"
     ]
    },
    {
     "name": "stderr",
     "output_type": "stream",
     "text": [
      "                                                                              \r"
     ]
    },
    {
     "name": "stdout",
     "output_type": "stream",
     "text": [
      "--------------------------------------------------\n",
      "epoch 64: \n",
      "train loss : 0.630179089307785 . \n",
      "validation loss : -0.18193602561950684 . \n",
      "--------------------------------------------------\n"
     ]
    },
    {
     "name": "stderr",
     "output_type": "stream",
     "text": [
      "                                                                              \r"
     ]
    },
    {
     "name": "stdout",
     "output_type": "stream",
     "text": [
      "--------------------------------------------------\n",
      "epoch 65: \n",
      "train loss : 0.618834114074707 . \n",
      "validation loss : -0.13815456628799438 . \n",
      "--------------------------------------------------\n"
     ]
    },
    {
     "name": "stderr",
     "output_type": "stream",
     "text": [
      "                                                                              \r"
     ]
    },
    {
     "name": "stdout",
     "output_type": "stream",
     "text": [
      "--------------------------------------------------\n",
      "epoch 66: \n",
      "train loss : 0.6054700970649719 . \n",
      "validation loss : -0.1940048336982727 . \n",
      "--------------------------------------------------\n"
     ]
    },
    {
     "name": "stderr",
     "output_type": "stream",
     "text": [
      "                                                                              \r"
     ]
    },
    {
     "name": "stdout",
     "output_type": "stream",
     "text": [
      "--------------------------------------------------\n",
      "epoch 67: \n",
      "train loss : 0.5947889745235443 . \n",
      "validation loss : -0.19837141036987305 . \n",
      "--------------------------------------------------\n"
     ]
    },
    {
     "name": "stderr",
     "output_type": "stream",
     "text": [
      "                                                                              \r"
     ]
    },
    {
     "name": "stdout",
     "output_type": "stream",
     "text": [
      "--------------------------------------------------\n",
      "epoch 68: \n",
      "train loss : 0.5829663336277008 . \n",
      "validation loss : -0.20158803462982178 . \n",
      "--------------------------------------------------\n"
     ]
    },
    {
     "name": "stderr",
     "output_type": "stream",
     "text": [
      "                                                                              \r"
     ]
    },
    {
     "name": "stdout",
     "output_type": "stream",
     "text": [
      "--------------------------------------------------\n",
      "epoch 69: \n",
      "train loss : 0.5733487248420716 . \n",
      "validation loss : -0.22664403915405273 . \n",
      "--------------------------------------------------\n"
     ]
    },
    {
     "name": "stderr",
     "output_type": "stream",
     "text": [
      "                                                                              \r"
     ]
    },
    {
     "name": "stdout",
     "output_type": "stream",
     "text": [
      "--------------------------------------------------\n",
      "epoch 70: \n",
      "train loss : 0.5708835422992706 . \n",
      "validation loss : -0.2154715657234192 . \n",
      "--------------------------------------------------\n"
     ]
    },
    {
     "name": "stderr",
     "output_type": "stream",
     "text": [
      "                                                                              \r"
     ]
    },
    {
     "name": "stdout",
     "output_type": "stream",
     "text": [
      "--------------------------------------------------\n",
      "epoch 71: \n",
      "train loss : 0.5752929270267486 . \n",
      "validation loss : -0.31388986110687256 . \n",
      "--------------------------------------------------\n"
     ]
    },
    {
     "name": "stderr",
     "output_type": "stream",
     "text": [
      "                                                                              \r"
     ]
    },
    {
     "name": "stdout",
     "output_type": "stream",
     "text": [
      "--------------------------------------------------\n",
      "epoch 72: \n",
      "train loss : 0.5742855966091156 . \n",
      "validation loss : -0.22937405109405518 . \n",
      "--------------------------------------------------\n"
     ]
    },
    {
     "name": "stderr",
     "output_type": "stream",
     "text": [
      "                                                                              \r"
     ]
    },
    {
     "name": "stdout",
     "output_type": "stream",
     "text": [
      "--------------------------------------------------\n",
      "epoch 73: \n",
      "train loss : 0.5688084781169891 . \n",
      "validation loss : -0.17962276935577393 . \n",
      "--------------------------------------------------\n"
     ]
    },
    {
     "name": "stderr",
     "output_type": "stream",
     "text": [
      "                                                                              \r"
     ]
    },
    {
     "name": "stdout",
     "output_type": "stream",
     "text": [
      "--------------------------------------------------\n",
      "epoch 74: \n",
      "train loss : 0.5667019426822663 . \n",
      "validation loss : -0.21491587162017822 . \n",
      "--------------------------------------------------\n"
     ]
    },
    {
     "name": "stderr",
     "output_type": "stream",
     "text": [
      "                                                                              \r"
     ]
    },
    {
     "name": "stdout",
     "output_type": "stream",
     "text": [
      "--------------------------------------------------\n",
      "epoch 75: \n",
      "train loss : 0.5441764116287231 . \n",
      "validation loss : -0.24880290031433105 . \n",
      "--------------------------------------------------\n"
     ]
    },
    {
     "name": "stderr",
     "output_type": "stream",
     "text": [
      "                                                                              \r"
     ]
    },
    {
     "name": "stdout",
     "output_type": "stream",
     "text": [
      "--------------------------------------------------\n",
      "epoch 76: \n",
      "train loss : 0.5362576246261597 . \n",
      "validation loss : -0.213559091091156 . \n",
      "--------------------------------------------------\n"
     ]
    },
    {
     "name": "stderr",
     "output_type": "stream",
     "text": [
      "                                                                              \r"
     ]
    },
    {
     "name": "stdout",
     "output_type": "stream",
     "text": [
      "--------------------------------------------------\n",
      "epoch 77: \n",
      "train loss : 0.519269585609436 . \n",
      "validation loss : -0.27512460947036743 . \n",
      "--------------------------------------------------\n"
     ]
    },
    {
     "name": "stderr",
     "output_type": "stream",
     "text": [
      "                                                                              \r"
     ]
    },
    {
     "name": "stdout",
     "output_type": "stream",
     "text": [
      "--------------------------------------------------\n",
      "epoch 78: \n",
      "train loss : 0.5076510488986969 . \n",
      "validation loss : -0.2980715036392212 . \n",
      "--------------------------------------------------\n"
     ]
    },
    {
     "name": "stderr",
     "output_type": "stream",
     "text": [
      "                                                                              \r"
     ]
    },
    {
     "name": "stdout",
     "output_type": "stream",
     "text": [
      "--------------------------------------------------\n",
      "epoch 79: \n",
      "train loss : 0.5007882356643677 . \n",
      "validation loss : -0.2785741090774536 . \n",
      "--------------------------------------------------\n"
     ]
    },
    {
     "name": "stderr",
     "output_type": "stream",
     "text": [
      "                                                                              \r"
     ]
    },
    {
     "name": "stdout",
     "output_type": "stream",
     "text": [
      "--------------------------------------------------\n",
      "epoch 80: \n",
      "train loss : 0.4958791196346283 . \n",
      "validation loss : -0.22047817707061768 . \n",
      "--------------------------------------------------\n"
     ]
    },
    {
     "name": "stderr",
     "output_type": "stream",
     "text": [
      "                                                                              \r"
     ]
    },
    {
     "name": "stdout",
     "output_type": "stream",
     "text": [
      "--------------------------------------------------\n",
      "epoch 81: \n",
      "train loss : 0.4952611207962036 . \n",
      "validation loss : -0.22503000497817993 . \n",
      "--------------------------------------------------\n"
     ]
    },
    {
     "name": "stderr",
     "output_type": "stream",
     "text": [
      "                                                                              \r"
     ]
    },
    {
     "name": "stdout",
     "output_type": "stream",
     "text": [
      "--------------------------------------------------\n",
      "epoch 82: \n",
      "train loss : 0.5150764286518097 . \n",
      "validation loss : -0.2049364447593689 . \n",
      "--------------------------------------------------\n"
     ]
    },
    {
     "name": "stderr",
     "output_type": "stream",
     "text": [
      "                                                                              \r"
     ]
    },
    {
     "name": "stdout",
     "output_type": "stream",
     "text": [
      "--------------------------------------------------\n",
      "epoch 83: \n",
      "train loss : 0.5230685770511627 . \n",
      "validation loss : -0.38079679012298584 . \n",
      "--------------------------------------------------\n"
     ]
    },
    {
     "name": "stderr",
     "output_type": "stream",
     "text": [
      "                                                                              \r"
     ]
    },
    {
     "name": "stdout",
     "output_type": "stream",
     "text": [
      "--------------------------------------------------\n",
      "epoch 84: \n",
      "train loss : 0.5487933218479156 . \n",
      "validation loss : -0.1900864839553833 . \n",
      "--------------------------------------------------\n"
     ]
    },
    {
     "name": "stderr",
     "output_type": "stream",
     "text": [
      "                                                                              \r"
     ]
    },
    {
     "name": "stdout",
     "output_type": "stream",
     "text": [
      "--------------------------------------------------\n",
      "epoch 85: \n",
      "train loss : 0.5111594259738922 . \n",
      "validation loss : -0.19307541847229004 . \n",
      "--------------------------------------------------\n"
     ]
    },
    {
     "name": "stderr",
     "output_type": "stream",
     "text": [
      "                                                                              \r"
     ]
    },
    {
     "name": "stdout",
     "output_type": "stream",
     "text": [
      "--------------------------------------------------\n",
      "epoch 86: \n",
      "train loss : 0.5030592322349549 . \n",
      "validation loss : -0.291978657245636 . \n",
      "--------------------------------------------------\n"
     ]
    },
    {
     "name": "stderr",
     "output_type": "stream",
     "text": [
      "                                                                              \r"
     ]
    },
    {
     "name": "stdout",
     "output_type": "stream",
     "text": [
      "--------------------------------------------------\n",
      "epoch 87: \n",
      "train loss : 0.4753535509109497 . \n",
      "validation loss : -0.2191433310508728 . \n",
      "--------------------------------------------------\n"
     ]
    },
    {
     "name": "stderr",
     "output_type": "stream",
     "text": [
      "                                                                              \r"
     ]
    },
    {
     "name": "stdout",
     "output_type": "stream",
     "text": [
      "--------------------------------------------------\n",
      "epoch 88: \n",
      "train loss : 0.4652586281299591 . \n",
      "validation loss : -0.26410973072052 . \n",
      "--------------------------------------------------\n"
     ]
    },
    {
     "name": "stderr",
     "output_type": "stream",
     "text": [
      "                                                                              \r"
     ]
    },
    {
     "name": "stdout",
     "output_type": "stream",
     "text": [
      "--------------------------------------------------\n",
      "epoch 89: \n",
      "train loss : 0.45027117133140565 . \n",
      "validation loss : -0.26843398809432983 . \n",
      "--------------------------------------------------\n"
     ]
    },
    {
     "name": "stderr",
     "output_type": "stream",
     "text": [
      "                                                                              \r"
     ]
    },
    {
     "name": "stdout",
     "output_type": "stream",
     "text": [
      "--------------------------------------------------\n",
      "epoch 90: \n",
      "train loss : 0.4367606997489929 . \n",
      "validation loss : -0.2870483994483948 . \n",
      "--------------------------------------------------\n"
     ]
    },
    {
     "name": "stderr",
     "output_type": "stream",
     "text": [
      "                                                                              \r"
     ]
    },
    {
     "name": "stdout",
     "output_type": "stream",
     "text": [
      "--------------------------------------------------\n",
      "epoch 91: \n",
      "train loss : 0.4293538391590118 . \n",
      "validation loss : -0.28927719593048096 . \n",
      "--------------------------------------------------\n"
     ]
    },
    {
     "name": "stderr",
     "output_type": "stream",
     "text": [
      "                                                                              \r"
     ]
    },
    {
     "name": "stdout",
     "output_type": "stream",
     "text": [
      "--------------------------------------------------\n",
      "epoch 92: \n",
      "train loss : 0.4150129437446594 . \n",
      "validation loss : -0.3159462809562683 . \n",
      "--------------------------------------------------\n"
     ]
    },
    {
     "name": "stderr",
     "output_type": "stream",
     "text": [
      "                                                                              \r"
     ]
    },
    {
     "name": "stdout",
     "output_type": "stream",
     "text": [
      "--------------------------------------------------\n",
      "epoch 93: \n",
      "train loss : 0.4035901606082916 . \n",
      "validation loss : -0.3777540922164917 . \n",
      "--------------------------------------------------\n"
     ]
    },
    {
     "name": "stderr",
     "output_type": "stream",
     "text": [
      "                                                                              \r"
     ]
    },
    {
     "name": "stdout",
     "output_type": "stream",
     "text": [
      "--------------------------------------------------\n",
      "epoch 94: \n",
      "train loss : 0.4043676733970642 . \n",
      "validation loss : -0.32216525077819824 . \n",
      "--------------------------------------------------\n"
     ]
    },
    {
     "name": "stderr",
     "output_type": "stream",
     "text": [
      "                                                                              \r"
     ]
    },
    {
     "name": "stdout",
     "output_type": "stream",
     "text": [
      "--------------------------------------------------\n",
      "epoch 95: \n",
      "train loss : 0.399784654378891 . \n",
      "validation loss : -0.27225780487060547 . \n",
      "--------------------------------------------------\n"
     ]
    },
    {
     "name": "stderr",
     "output_type": "stream",
     "text": [
      "                                                                              \r"
     ]
    },
    {
     "name": "stdout",
     "output_type": "stream",
     "text": [
      "--------------------------------------------------\n",
      "epoch 96: \n",
      "train loss : 0.4076905488967896 . \n",
      "validation loss : -0.21469753980636597 . \n",
      "--------------------------------------------------\n"
     ]
    },
    {
     "name": "stderr",
     "output_type": "stream",
     "text": [
      "                                                                              \r"
     ]
    },
    {
     "name": "stdout",
     "output_type": "stream",
     "text": [
      "--------------------------------------------------\n",
      "epoch 97: \n",
      "train loss : 0.4210270822048187 . \n",
      "validation loss : -0.32416439056396484 . \n",
      "--------------------------------------------------\n"
     ]
    },
    {
     "name": "stderr",
     "output_type": "stream",
     "text": [
      "                                                                              \r"
     ]
    },
    {
     "name": "stdout",
     "output_type": "stream",
     "text": [
      "--------------------------------------------------\n",
      "epoch 98: \n",
      "train loss : 0.4092598557472229 . \n",
      "validation loss : -0.307233989238739 . \n",
      "--------------------------------------------------\n"
     ]
    },
    {
     "name": "stderr",
     "output_type": "stream",
     "text": [
      "                                                                              \r"
     ]
    },
    {
     "name": "stdout",
     "output_type": "stream",
     "text": [
      "--------------------------------------------------\n",
      "epoch 99: \n",
      "train loss : 0.3937415271997452 . \n",
      "validation loss : -0.28284549713134766 . \n",
      "--------------------------------------------------\n"
     ]
    },
    {
     "name": "stderr",
     "output_type": "stream",
     "text": [
      "                                                                              \r"
     ]
    },
    {
     "name": "stdout",
     "output_type": "stream",
     "text": [
      "--------------------------------------------------\n",
      "epoch 100: \n",
      "train loss : 0.3771272569894791 . \n",
      "validation loss : -0.308971643447876 . \n",
      "--------------------------------------------------\n"
     ]
    },
    {
     "name": "stderr",
     "output_type": "stream",
     "text": [
      "                                                                              \r"
     ]
    },
    {
     "name": "stdout",
     "output_type": "stream",
     "text": [
      "--------------------------------------------------\n",
      "epoch 101: \n",
      "train loss : 0.3638577044010162 . \n",
      "validation loss : -0.2590210437774658 . \n",
      "--------------------------------------------------\n"
     ]
    },
    {
     "name": "stderr",
     "output_type": "stream",
     "text": [
      "                                                                              \r"
     ]
    },
    {
     "name": "stdout",
     "output_type": "stream",
     "text": [
      "--------------------------------------------------\n",
      "epoch 102: \n",
      "train loss : 0.3574791789054871 . \n",
      "validation loss : -0.27499920129776 . \n",
      "--------------------------------------------------\n"
     ]
    },
    {
     "name": "stderr",
     "output_type": "stream",
     "text": [
      "                                                                              \r"
     ]
    },
    {
     "name": "stdout",
     "output_type": "stream",
     "text": [
      "--------------------------------------------------\n",
      "epoch 103: \n",
      "train loss : 0.3400410234928131 . \n",
      "validation loss : -0.29875582456588745 . \n",
      "--------------------------------------------------\n"
     ]
    },
    {
     "name": "stderr",
     "output_type": "stream",
     "text": [
      "                                                                              \r"
     ]
    },
    {
     "name": "stdout",
     "output_type": "stream",
     "text": [
      "--------------------------------------------------\n",
      "epoch 104: \n",
      "train loss : 0.32933087050914767 . \n",
      "validation loss : -0.31640148162841797 . \n",
      "--------------------------------------------------\n"
     ]
    },
    {
     "name": "stderr",
     "output_type": "stream",
     "text": [
      "                                                                              \r"
     ]
    },
    {
     "name": "stdout",
     "output_type": "stream",
     "text": [
      "--------------------------------------------------\n",
      "epoch 105: \n",
      "train loss : 0.3203916698694229 . \n",
      "validation loss : -0.31294745206832886 . \n",
      "--------------------------------------------------\n"
     ]
    },
    {
     "name": "stderr",
     "output_type": "stream",
     "text": [
      "                                                                              \r"
     ]
    },
    {
     "name": "stdout",
     "output_type": "stream",
     "text": [
      "--------------------------------------------------\n",
      "epoch 106: \n",
      "train loss : 0.3103452831506729 . \n",
      "validation loss : -0.3130139708518982 . \n",
      "--------------------------------------------------\n"
     ]
    },
    {
     "name": "stderr",
     "output_type": "stream",
     "text": [
      "                                                                              \r"
     ]
    },
    {
     "name": "stdout",
     "output_type": "stream",
     "text": [
      "--------------------------------------------------\n",
      "epoch 107: \n",
      "train loss : 0.3017724841833115 . \n",
      "validation loss : -0.2787400484085083 . \n",
      "--------------------------------------------------\n"
     ]
    },
    {
     "name": "stderr",
     "output_type": "stream",
     "text": [
      "                                                                              \r"
     ]
    },
    {
     "name": "stdout",
     "output_type": "stream",
     "text": [
      "--------------------------------------------------\n",
      "epoch 108: \n",
      "train loss : 0.3028492838144302 . \n",
      "validation loss : -0.308616042137146 . \n",
      "--------------------------------------------------\n"
     ]
    },
    {
     "name": "stderr",
     "output_type": "stream",
     "text": [
      "                                                                              \r"
     ]
    },
    {
     "name": "stdout",
     "output_type": "stream",
     "text": [
      "--------------------------------------------------\n",
      "epoch 109: \n",
      "train loss : 0.3281618982553482 . \n",
      "validation loss : -0.3457421660423279 . \n",
      "--------------------------------------------------\n"
     ]
    },
    {
     "name": "stderr",
     "output_type": "stream",
     "text": [
      "                                                                              \r"
     ]
    },
    {
     "name": "stdout",
     "output_type": "stream",
     "text": [
      "--------------------------------------------------\n",
      "epoch 110: \n",
      "train loss : 0.3390705019235611 . \n",
      "validation loss : -0.280454158782959 . \n",
      "--------------------------------------------------\n"
     ]
    },
    {
     "name": "stderr",
     "output_type": "stream",
     "text": [
      "                                                                              \r"
     ]
    },
    {
     "name": "stdout",
     "output_type": "stream",
     "text": [
      "--------------------------------------------------\n",
      "epoch 111: \n",
      "train loss : 0.31884211897850034 . \n",
      "validation loss : -0.24904918670654297 . \n",
      "--------------------------------------------------\n"
     ]
    },
    {
     "name": "stderr",
     "output_type": "stream",
     "text": [
      "                                                                              \r"
     ]
    },
    {
     "name": "stdout",
     "output_type": "stream",
     "text": [
      "--------------------------------------------------\n",
      "epoch 112: \n",
      "train loss : 0.30281698107719424 . \n",
      "validation loss : -0.29959046840667725 . \n",
      "--------------------------------------------------\n"
     ]
    },
    {
     "name": "stderr",
     "output_type": "stream",
     "text": [
      "                                                                              \r"
     ]
    },
    {
     "name": "stdout",
     "output_type": "stream",
     "text": [
      "--------------------------------------------------\n",
      "epoch 113: \n",
      "train loss : 0.29114209711551664 . \n",
      "validation loss : -0.35974055528640747 . \n",
      "--------------------------------------------------\n"
     ]
    },
    {
     "name": "stderr",
     "output_type": "stream",
     "text": [
      "                                                                              \r"
     ]
    },
    {
     "name": "stdout",
     "output_type": "stream",
     "text": [
      "--------------------------------------------------\n",
      "epoch 114: \n",
      "train loss : 0.2987625628709793 . \n",
      "validation loss : -0.31146591901779175 . \n",
      "--------------------------------------------------\n"
     ]
    },
    {
     "name": "stderr",
     "output_type": "stream",
     "text": [
      "                                                                              \r"
     ]
    },
    {
     "name": "stdout",
     "output_type": "stream",
     "text": [
      "--------------------------------------------------\n",
      "epoch 115: \n",
      "train loss : 0.2814977914094925 . \n",
      "validation loss : -0.30369067192077637 . \n",
      "--------------------------------------------------\n"
     ]
    },
    {
     "name": "stderr",
     "output_type": "stream",
     "text": [
      "                                                                              \r"
     ]
    },
    {
     "name": "stdout",
     "output_type": "stream",
     "text": [
      "--------------------------------------------------\n",
      "epoch 116: \n",
      "train loss : 0.2745825558900833 . \n",
      "validation loss : -0.3257216811180115 . \n",
      "--------------------------------------------------\n"
     ]
    },
    {
     "name": "stderr",
     "output_type": "stream",
     "text": [
      "                                                                              \r"
     ]
    },
    {
     "name": "stdout",
     "output_type": "stream",
     "text": [
      "--------------------------------------------------\n",
      "epoch 117: \n",
      "train loss : 0.25096064507961274 . \n",
      "validation loss : -0.33682864904403687 . \n",
      "--------------------------------------------------\n"
     ]
    },
    {
     "name": "stderr",
     "output_type": "stream",
     "text": [
      "                                                                              \r"
     ]
    },
    {
     "name": "stdout",
     "output_type": "stream",
     "text": [
      "--------------------------------------------------\n",
      "epoch 118: \n",
      "train loss : 0.24394115805625916 . \n",
      "validation loss : -0.27780741453170776 . \n",
      "--------------------------------------------------\n"
     ]
    },
    {
     "name": "stderr",
     "output_type": "stream",
     "text": [
      "                                                                              \r"
     ]
    },
    {
     "name": "stdout",
     "output_type": "stream",
     "text": [
      "--------------------------------------------------\n",
      "epoch 119: \n",
      "train loss : 0.22466510832309722 . \n",
      "validation loss : -0.3340391516685486 . \n",
      "--------------------------------------------------\n"
     ]
    },
    {
     "name": "stderr",
     "output_type": "stream",
     "text": [
      "                                                                              \r"
     ]
    },
    {
     "name": "stdout",
     "output_type": "stream",
     "text": [
      "--------------------------------------------------\n",
      "epoch 120: \n",
      "train loss : 0.20940640568733215 . \n",
      "validation loss : -0.34625309705734253 . \n",
      "--------------------------------------------------\n"
     ]
    },
    {
     "name": "stderr",
     "output_type": "stream",
     "text": [
      "                                                                              \r"
     ]
    },
    {
     "name": "stdout",
     "output_type": "stream",
     "text": [
      "--------------------------------------------------\n",
      "epoch 121: \n",
      "train loss : 0.20099771320819854 . \n",
      "validation loss : -0.34182363748550415 . \n",
      "--------------------------------------------------\n"
     ]
    },
    {
     "name": "stderr",
     "output_type": "stream",
     "text": [
      "                                                                              \r"
     ]
    },
    {
     "name": "stdout",
     "output_type": "stream",
     "text": [
      "--------------------------------------------------\n",
      "epoch 122: \n",
      "train loss : 0.18794960379600525 . \n",
      "validation loss : -0.3202338218688965 . \n",
      "--------------------------------------------------\n"
     ]
    },
    {
     "name": "stderr",
     "output_type": "stream",
     "text": [
      "                                                                              \r"
     ]
    },
    {
     "name": "stdout",
     "output_type": "stream",
     "text": [
      "--------------------------------------------------\n",
      "epoch 123: \n",
      "train loss : 0.18145440220832826 . \n",
      "validation loss : -0.3328949809074402 . \n",
      "--------------------------------------------------\n"
     ]
    },
    {
     "name": "stderr",
     "output_type": "stream",
     "text": [
      "                                                                              \r"
     ]
    },
    {
     "name": "stdout",
     "output_type": "stream",
     "text": [
      "--------------------------------------------------\n",
      "epoch 124: \n",
      "train loss : 0.17759685218334198 . \n",
      "validation loss : -0.36660242080688477 . \n",
      "--------------------------------------------------\n"
     ]
    },
    {
     "name": "stderr",
     "output_type": "stream",
     "text": [
      "                                                                              \r"
     ]
    },
    {
     "name": "stdout",
     "output_type": "stream",
     "text": [
      "--------------------------------------------------\n",
      "epoch 125: \n",
      "train loss : 0.17683075070381166 . \n",
      "validation loss : -0.36281728744506836 . \n",
      "--------------------------------------------------\n"
     ]
    },
    {
     "name": "stderr",
     "output_type": "stream",
     "text": [
      "                                                                              \r"
     ]
    },
    {
     "name": "stdout",
     "output_type": "stream",
     "text": [
      "--------------------------------------------------\n",
      "epoch 126: \n",
      "train loss : 0.17991921603679656 . \n",
      "validation loss : -0.35987770557403564 . \n",
      "--------------------------------------------------\n"
     ]
    },
    {
     "name": "stderr",
     "output_type": "stream",
     "text": [
      "                                                                              \r"
     ]
    },
    {
     "name": "stdout",
     "output_type": "stream",
     "text": [
      "--------------------------------------------------\n",
      "epoch 127: \n",
      "train loss : 0.1987590968608856 . \n",
      "validation loss : -0.33082908391952515 . \n",
      "--------------------------------------------------\n"
     ]
    },
    {
     "name": "stderr",
     "output_type": "stream",
     "text": [
      "                                                                              \r"
     ]
    },
    {
     "name": "stdout",
     "output_type": "stream",
     "text": [
      "--------------------------------------------------\n",
      "epoch 128: \n",
      "train loss : 0.19990605115890503 . \n",
      "validation loss : -0.37055152654647827 . \n",
      "--------------------------------------------------\n"
     ]
    },
    {
     "name": "stderr",
     "output_type": "stream",
     "text": [
      "                                                                              \r"
     ]
    },
    {
     "name": "stdout",
     "output_type": "stream",
     "text": [
      "--------------------------------------------------\n",
      "epoch 129: \n",
      "train loss : 0.20629401803016661 . \n",
      "validation loss : -0.3292246460914612 . \n",
      "--------------------------------------------------\n"
     ]
    },
    {
     "name": "stderr",
     "output_type": "stream",
     "text": [
      "                                                                              \r"
     ]
    },
    {
     "name": "stdout",
     "output_type": "stream",
     "text": [
      "--------------------------------------------------\n",
      "epoch 130: \n",
      "train loss : 0.18530997335910798 . \n",
      "validation loss : -0.3414720296859741 . \n",
      "--------------------------------------------------\n"
     ]
    },
    {
     "name": "stderr",
     "output_type": "stream",
     "text": [
      "                                                                              \r"
     ]
    },
    {
     "name": "stdout",
     "output_type": "stream",
     "text": [
      "--------------------------------------------------\n",
      "epoch 131: \n",
      "train loss : 0.1666925683617592 . \n",
      "validation loss : -0.329494833946228 . \n",
      "--------------------------------------------------\n"
     ]
    },
    {
     "name": "stderr",
     "output_type": "stream",
     "text": [
      "                                                                              \r"
     ]
    },
    {
     "name": "stdout",
     "output_type": "stream",
     "text": [
      "--------------------------------------------------\n",
      "epoch 132: \n",
      "train loss : 0.155195888876915 . \n",
      "validation loss : -0.31746190786361694 . \n",
      "--------------------------------------------------\n"
     ]
    },
    {
     "name": "stderr",
     "output_type": "stream",
     "text": [
      "                                                                              \r"
     ]
    },
    {
     "name": "stdout",
     "output_type": "stream",
     "text": [
      "--------------------------------------------------\n",
      "epoch 133: \n",
      "train loss : 0.14526325464248657 . \n",
      "validation loss : -0.3667777180671692 . \n",
      "--------------------------------------------------\n"
     ]
    },
    {
     "name": "stderr",
     "output_type": "stream",
     "text": [
      "                                                                              \r"
     ]
    },
    {
     "name": "stdout",
     "output_type": "stream",
     "text": [
      "--------------------------------------------------\n",
      "epoch 134: \n",
      "train loss : 0.13541415482759475 . \n",
      "validation loss : -0.3182063102722168 . \n",
      "--------------------------------------------------\n"
     ]
    },
    {
     "name": "stderr",
     "output_type": "stream",
     "text": [
      "                                                                              \r"
     ]
    },
    {
     "name": "stdout",
     "output_type": "stream",
     "text": [
      "--------------------------------------------------\n",
      "epoch 135: \n",
      "train loss : 0.12314720153808593 . \n",
      "validation loss : -0.3672580122947693 . \n",
      "--------------------------------------------------\n"
     ]
    },
    {
     "name": "stderr",
     "output_type": "stream",
     "text": [
      "                                                                              \r"
     ]
    },
    {
     "name": "stdout",
     "output_type": "stream",
     "text": [
      "--------------------------------------------------\n",
      "epoch 136: \n",
      "train loss : 0.1184000626206398 . \n",
      "validation loss : -0.32513850927352905 . \n",
      "--------------------------------------------------\n"
     ]
    },
    {
     "name": "stderr",
     "output_type": "stream",
     "text": [
      "                                                                              \r"
     ]
    },
    {
     "name": "stdout",
     "output_type": "stream",
     "text": [
      "--------------------------------------------------\n",
      "epoch 137: \n",
      "train loss : 0.10770568102598191 . \n",
      "validation loss : -0.39901113510131836 . \n",
      "--------------------------------------------------\n"
     ]
    },
    {
     "name": "stderr",
     "output_type": "stream",
     "text": [
      "                                                                              \r"
     ]
    },
    {
     "name": "stdout",
     "output_type": "stream",
     "text": [
      "--------------------------------------------------\n",
      "epoch 138: \n",
      "train loss : 0.10843589752912522 . \n",
      "validation loss : -0.37847405672073364 . \n",
      "--------------------------------------------------\n"
     ]
    },
    {
     "name": "stderr",
     "output_type": "stream",
     "text": [
      "                                                                              \r"
     ]
    },
    {
     "name": "stdout",
     "output_type": "stream",
     "text": [
      "--------------------------------------------------\n",
      "epoch 139: \n",
      "train loss : 0.10918385535478592 . \n",
      "validation loss : -0.3217478394508362 . \n",
      "--------------------------------------------------\n"
     ]
    },
    {
     "name": "stderr",
     "output_type": "stream",
     "text": [
      "                                                                              \r"
     ]
    },
    {
     "name": "stdout",
     "output_type": "stream",
     "text": [
      "--------------------------------------------------\n",
      "epoch 140: \n",
      "train loss : 0.11511913388967514 . \n",
      "validation loss : -0.3264371156692505 . \n",
      "--------------------------------------------------\n"
     ]
    },
    {
     "name": "stderr",
     "output_type": "stream",
     "text": [
      "                                                                              \r"
     ]
    },
    {
     "name": "stdout",
     "output_type": "stream",
     "text": [
      "--------------------------------------------------\n",
      "epoch 141: \n",
      "train loss : 0.10771898031234742 . \n",
      "validation loss : -0.42236024141311646 . \n",
      "--------------------------------------------------\n"
     ]
    },
    {
     "name": "stderr",
     "output_type": "stream",
     "text": [
      "                                                                              \r"
     ]
    },
    {
     "name": "stdout",
     "output_type": "stream",
     "text": [
      "--------------------------------------------------\n",
      "epoch 142: \n",
      "train loss : 0.09347016364336014 . \n",
      "validation loss : -0.3274248242378235 . \n",
      "--------------------------------------------------\n"
     ]
    },
    {
     "name": "stderr",
     "output_type": "stream",
     "text": [
      "                                                                              \r"
     ]
    },
    {
     "name": "stdout",
     "output_type": "stream",
     "text": [
      "--------------------------------------------------\n",
      "epoch 143: \n",
      "train loss : 0.08688644990324974 . \n",
      "validation loss : -0.3822159171104431 . \n",
      "--------------------------------------------------\n"
     ]
    },
    {
     "name": "stderr",
     "output_type": "stream",
     "text": [
      "                                                                              \r"
     ]
    },
    {
     "name": "stdout",
     "output_type": "stream",
     "text": [
      "--------------------------------------------------\n",
      "epoch 144: \n",
      "train loss : 0.08081459328532219 . \n",
      "validation loss : -0.3600581884384155 . \n",
      "--------------------------------------------------\n"
     ]
    },
    {
     "name": "stderr",
     "output_type": "stream",
     "text": [
      "                                                                              \r"
     ]
    },
    {
     "name": "stdout",
     "output_type": "stream",
     "text": [
      "--------------------------------------------------\n",
      "epoch 145: \n",
      "train loss : 0.07787052020430565 . \n",
      "validation loss : -0.34303122758865356 . \n",
      "--------------------------------------------------\n"
     ]
    },
    {
     "name": "stderr",
     "output_type": "stream",
     "text": [
      "                                                                              \r"
     ]
    },
    {
     "name": "stdout",
     "output_type": "stream",
     "text": [
      "--------------------------------------------------\n",
      "epoch 146: \n",
      "train loss : 0.08340547382831573 . \n",
      "validation loss : -0.3961670994758606 . \n",
      "--------------------------------------------------\n"
     ]
    },
    {
     "name": "stderr",
     "output_type": "stream",
     "text": [
      "                                                                              \r"
     ]
    },
    {
     "name": "stdout",
     "output_type": "stream",
     "text": [
      "--------------------------------------------------\n",
      "epoch 147: \n",
      "train loss : 0.08972010910511016 . \n",
      "validation loss : -0.3750402331352234 . \n",
      "--------------------------------------------------\n"
     ]
    },
    {
     "name": "stderr",
     "output_type": "stream",
     "text": [
      "                                                                              \r"
     ]
    },
    {
     "name": "stdout",
     "output_type": "stream",
     "text": [
      "--------------------------------------------------\n",
      "epoch 148: \n",
      "train loss : 0.09705542623996735 . \n",
      "validation loss : -0.3477155566215515 . \n",
      "--------------------------------------------------\n"
     ]
    },
    {
     "name": "stderr",
     "output_type": "stream",
     "text": [
      "                                                                              \r"
     ]
    },
    {
     "name": "stdout",
     "output_type": "stream",
     "text": [
      "--------------------------------------------------\n",
      "epoch 149: \n",
      "train loss : 0.08474117591977119 . \n",
      "validation loss : -0.3596869707107544 . \n",
      "--------------------------------------------------\n"
     ]
    },
    {
     "name": "stderr",
     "output_type": "stream",
     "text": [
      "                                                                              \r"
     ]
    },
    {
     "name": "stdout",
     "output_type": "stream",
     "text": [
      "--------------------------------------------------\n",
      "epoch 150: \n",
      "train loss : 0.07734292224049569 . \n",
      "validation loss : -0.36270374059677124 . \n",
      "--------------------------------------------------\n"
     ]
    },
    {
     "name": "stderr",
     "output_type": "stream",
     "text": [
      "                                                                              \r"
     ]
    },
    {
     "name": "stdout",
     "output_type": "stream",
     "text": [
      "--------------------------------------------------\n",
      "epoch 151: \n",
      "train loss : 0.06506518051028251 . \n",
      "validation loss : -0.4180215001106262 . \n",
      "--------------------------------------------------\n"
     ]
    },
    {
     "name": "stderr",
     "output_type": "stream",
     "text": [
      "                                                                              \r"
     ]
    },
    {
     "name": "stdout",
     "output_type": "stream",
     "text": [
      "--------------------------------------------------\n",
      "epoch 152: \n",
      "train loss : 0.05748452320694923 . \n",
      "validation loss : -0.35928434133529663 . \n",
      "--------------------------------------------------\n"
     ]
    },
    {
     "name": "stderr",
     "output_type": "stream",
     "text": [
      "                                                                              \r"
     ]
    },
    {
     "name": "stdout",
     "output_type": "stream",
     "text": [
      "--------------------------------------------------\n",
      "epoch 153: \n",
      "train loss : 0.05314643532037735 . \n",
      "validation loss : -0.4213123917579651 . \n",
      "--------------------------------------------------\n"
     ]
    },
    {
     "name": "stderr",
     "output_type": "stream",
     "text": [
      "                                                                              \r"
     ]
    },
    {
     "name": "stdout",
     "output_type": "stream",
     "text": [
      "--------------------------------------------------\n",
      "epoch 154: \n",
      "train loss : 0.050449470058083534 . \n",
      "validation loss : -0.3532554507255554 . \n",
      "--------------------------------------------------\n"
     ]
    },
    {
     "name": "stderr",
     "output_type": "stream",
     "text": [
      "                                                                              \r"
     ]
    },
    {
     "name": "stdout",
     "output_type": "stream",
     "text": [
      "--------------------------------------------------\n",
      "epoch 155: \n",
      "train loss : 0.047309232875704765 . \n",
      "validation loss : -0.38186997175216675 . \n",
      "--------------------------------------------------\n"
     ]
    },
    {
     "name": "stderr",
     "output_type": "stream",
     "text": [
      "                                                                              \r"
     ]
    },
    {
     "name": "stdout",
     "output_type": "stream",
     "text": [
      "--------------------------------------------------\n",
      "epoch 156: \n",
      "train loss : 0.042242630198597905 . \n",
      "validation loss : -0.36630570888519287 . \n",
      "--------------------------------------------------\n"
     ]
    },
    {
     "name": "stderr",
     "output_type": "stream",
     "text": [
      "                                                                              \r"
     ]
    },
    {
     "name": "stdout",
     "output_type": "stream",
     "text": [
      "--------------------------------------------------\n",
      "epoch 157: \n",
      "train loss : 0.04092944450676441 . \n",
      "validation loss : -0.3866392970085144 . \n",
      "--------------------------------------------------\n"
     ]
    },
    {
     "name": "stderr",
     "output_type": "stream",
     "text": [
      "                                                                              \r"
     ]
    },
    {
     "name": "stdout",
     "output_type": "stream",
     "text": [
      "--------------------------------------------------\n",
      "epoch 158: \n",
      "train loss : 0.038935181125998496 . \n",
      "validation loss : -0.37471044063568115 . \n",
      "--------------------------------------------------\n"
     ]
    },
    {
     "name": "stderr",
     "output_type": "stream",
     "text": [
      "                                                                              \r"
     ]
    },
    {
     "name": "stdout",
     "output_type": "stream",
     "text": [
      "--------------------------------------------------\n",
      "epoch 159: \n",
      "train loss : 0.03688047789037228 . \n",
      "validation loss : -0.3829110264778137 . \n",
      "--------------------------------------------------\n"
     ]
    },
    {
     "name": "stderr",
     "output_type": "stream",
     "text": [
      "                                                                              \r"
     ]
    },
    {
     "name": "stdout",
     "output_type": "stream",
     "text": [
      "--------------------------------------------------\n",
      "epoch 160: \n",
      "train loss : 0.0347697127610445 . \n",
      "validation loss : -0.3987959027290344 . \n",
      "--------------------------------------------------\n"
     ]
    },
    {
     "name": "stderr",
     "output_type": "stream",
     "text": [
      "                                                                              \r"
     ]
    },
    {
     "name": "stdout",
     "output_type": "stream",
     "text": [
      "--------------------------------------------------\n",
      "epoch 161: \n",
      "train loss : 0.03511308953166008 . \n",
      "validation loss : -0.362143337726593 . \n",
      "--------------------------------------------------\n"
     ]
    },
    {
     "name": "stderr",
     "output_type": "stream",
     "text": [
      "                                                                              \r"
     ]
    },
    {
     "name": "stdout",
     "output_type": "stream",
     "text": [
      "--------------------------------------------------\n",
      "epoch 162: \n",
      "train loss : 0.03419748917222023 . \n",
      "validation loss : -0.39201611280441284 . \n",
      "--------------------------------------------------\n"
     ]
    },
    {
     "name": "stderr",
     "output_type": "stream",
     "text": [
      "                                                                              \r"
     ]
    },
    {
     "name": "stdout",
     "output_type": "stream",
     "text": [
      "--------------------------------------------------\n",
      "epoch 163: \n",
      "train loss : 0.0354049239307642 . \n",
      "validation loss : -0.37549829483032227 . \n",
      "--------------------------------------------------\n"
     ]
    },
    {
     "name": "stderr",
     "output_type": "stream",
     "text": [
      "                                                                              \r"
     ]
    },
    {
     "name": "stdout",
     "output_type": "stream",
     "text": [
      "--------------------------------------------------\n",
      "epoch 164: \n",
      "train loss : 0.03197724148631096 . \n",
      "validation loss : -0.37418848276138306 . \n",
      "--------------------------------------------------\n"
     ]
    },
    {
     "name": "stderr",
     "output_type": "stream",
     "text": [
      "                                                                              \r"
     ]
    },
    {
     "name": "stdout",
     "output_type": "stream",
     "text": [
      "--------------------------------------------------\n",
      "epoch 165: \n",
      "train loss : 0.030833202600479125 . \n",
      "validation loss : -0.38448143005371094 . \n",
      "--------------------------------------------------\n"
     ]
    },
    {
     "name": "stderr",
     "output_type": "stream",
     "text": [
      "                                                                              \r"
     ]
    },
    {
     "name": "stdout",
     "output_type": "stream",
     "text": [
      "--------------------------------------------------\n",
      "epoch 166: \n",
      "train loss : 0.03091771584004164 . \n",
      "validation loss : -0.3857507109642029 . \n",
      "--------------------------------------------------\n"
     ]
    },
    {
     "name": "stderr",
     "output_type": "stream",
     "text": [
      "                                                                              \r"
     ]
    },
    {
     "name": "stdout",
     "output_type": "stream",
     "text": [
      "--------------------------------------------------\n",
      "epoch 167: \n",
      "train loss : 0.025931431353092192 . \n",
      "validation loss : -0.37474167346954346 . \n",
      "--------------------------------------------------\n"
     ]
    },
    {
     "name": "stderr",
     "output_type": "stream",
     "text": [
      "                                                                              \r"
     ]
    },
    {
     "name": "stdout",
     "output_type": "stream",
     "text": [
      "--------------------------------------------------\n",
      "epoch 168: \n",
      "train loss : 0.023830358870327473 . \n",
      "validation loss : -0.404485285282135 . \n",
      "--------------------------------------------------\n"
     ]
    },
    {
     "name": "stderr",
     "output_type": "stream",
     "text": [
      "                                                                              \r"
     ]
    },
    {
     "name": "stdout",
     "output_type": "stream",
     "text": [
      "--------------------------------------------------\n",
      "epoch 169: \n",
      "train loss : 0.024257773347198964 . \n",
      "validation loss : -0.3565160632133484 . \n",
      "--------------------------------------------------\n"
     ]
    },
    {
     "name": "stderr",
     "output_type": "stream",
     "text": [
      "                                                                              \r"
     ]
    },
    {
     "name": "stdout",
     "output_type": "stream",
     "text": [
      "--------------------------------------------------\n",
      "epoch 170: \n",
      "train loss : 0.023500742763280867 . \n",
      "validation loss : -0.41213738918304443 . \n",
      "--------------------------------------------------\n"
     ]
    },
    {
     "name": "stderr",
     "output_type": "stream",
     "text": [
      "                                                                              \r"
     ]
    },
    {
     "name": "stdout",
     "output_type": "stream",
     "text": [
      "--------------------------------------------------\n",
      "epoch 171: \n",
      "train loss : 0.024988370947539806 . \n",
      "validation loss : -0.3721277117729187 . \n",
      "--------------------------------------------------\n"
     ]
    },
    {
     "name": "stderr",
     "output_type": "stream",
     "text": [
      "                                                                              \r"
     ]
    },
    {
     "name": "stdout",
     "output_type": "stream",
     "text": [
      "--------------------------------------------------\n",
      "epoch 172: \n",
      "train loss : 0.023951810598373414 . \n",
      "validation loss : -0.41142696142196655 . \n",
      "--------------------------------------------------\n"
     ]
    },
    {
     "name": "stderr",
     "output_type": "stream",
     "text": [
      "                                                                              \r"
     ]
    },
    {
     "name": "stdout",
     "output_type": "stream",
     "text": [
      "--------------------------------------------------\n",
      "epoch 173: \n",
      "train loss : 0.024098142981529236 . \n",
      "validation loss : -0.36993443965911865 . \n",
      "--------------------------------------------------\n"
     ]
    },
    {
     "name": "stderr",
     "output_type": "stream",
     "text": [
      "                                                                              \r"
     ]
    },
    {
     "name": "stdout",
     "output_type": "stream",
     "text": [
      "--------------------------------------------------\n",
      "epoch 174: \n",
      "train loss : 0.02446169834583998 . \n",
      "validation loss : -0.40775442123413086 . \n",
      "--------------------------------------------------\n"
     ]
    },
    {
     "name": "stderr",
     "output_type": "stream",
     "text": [
      "                                                                              \r"
     ]
    },
    {
     "name": "stdout",
     "output_type": "stream",
     "text": [
      "--------------------------------------------------\n",
      "epoch 175: \n",
      "train loss : 0.02441281173378229 . \n",
      "validation loss : -0.3529048562049866 . \n",
      "--------------------------------------------------\n"
     ]
    },
    {
     "name": "stderr",
     "output_type": "stream",
     "text": [
      "                                                                              \r"
     ]
    },
    {
     "name": "stdout",
     "output_type": "stream",
     "text": [
      "--------------------------------------------------\n",
      "epoch 176: \n",
      "train loss : 0.024597177281975746 . \n",
      "validation loss : -0.388993501663208 . \n",
      "--------------------------------------------------\n"
     ]
    },
    {
     "name": "stderr",
     "output_type": "stream",
     "text": [
      "                                                                              \r"
     ]
    },
    {
     "name": "stdout",
     "output_type": "stream",
     "text": [
      "--------------------------------------------------\n",
      "epoch 177: \n",
      "train loss : 0.026385959051549435 . \n",
      "validation loss : -0.3654562830924988 . \n",
      "--------------------------------------------------\n"
     ]
    },
    {
     "name": "stderr",
     "output_type": "stream",
     "text": [
      "                                                                              \r"
     ]
    },
    {
     "name": "stdout",
     "output_type": "stream",
     "text": [
      "--------------------------------------------------\n",
      "epoch 178: \n",
      "train loss : 0.027786671184003353 . \n",
      "validation loss : -0.3949390649795532 . \n",
      "--------------------------------------------------\n"
     ]
    },
    {
     "name": "stderr",
     "output_type": "stream",
     "text": [
      "                                                                              \r"
     ]
    },
    {
     "name": "stdout",
     "output_type": "stream",
     "text": [
      "--------------------------------------------------\n",
      "epoch 179: \n",
      "train loss : 0.026394484005868434 . \n",
      "validation loss : -0.3674529194831848 . \n",
      "--------------------------------------------------\n"
     ]
    },
    {
     "name": "stderr",
     "output_type": "stream",
     "text": [
      "                                                                              \r"
     ]
    },
    {
     "name": "stdout",
     "output_type": "stream",
     "text": [
      "--------------------------------------------------\n",
      "epoch 180: \n",
      "train loss : 0.02726280316710472 . \n",
      "validation loss : -0.37703317403793335 . \n",
      "--------------------------------------------------\n"
     ]
    },
    {
     "name": "stderr",
     "output_type": "stream",
     "text": [
      "                                                                              \r"
     ]
    },
    {
     "name": "stdout",
     "output_type": "stream",
     "text": [
      "--------------------------------------------------\n",
      "epoch 181: \n",
      "train loss : 0.024292807653546335 . \n",
      "validation loss : -0.38547205924987793 . \n",
      "--------------------------------------------------\n"
     ]
    },
    {
     "name": "stderr",
     "output_type": "stream",
     "text": [
      "                                                                              \r"
     ]
    },
    {
     "name": "stdout",
     "output_type": "stream",
     "text": [
      "--------------------------------------------------\n",
      "epoch 182: \n",
      "train loss : 0.021928486227989197 . \n",
      "validation loss : -0.3455086350440979 . \n",
      "--------------------------------------------------\n"
     ]
    },
    {
     "name": "stderr",
     "output_type": "stream",
     "text": [
      "                                                                              \r"
     ]
    },
    {
     "name": "stdout",
     "output_type": "stream",
     "text": [
      "--------------------------------------------------\n",
      "epoch 183: \n",
      "train loss : 0.0205052999779582 . \n",
      "validation loss : -0.38038015365600586 . \n",
      "--------------------------------------------------\n"
     ]
    },
    {
     "name": "stderr",
     "output_type": "stream",
     "text": [
      "                                                                              \r"
     ]
    },
    {
     "name": "stdout",
     "output_type": "stream",
     "text": [
      "--------------------------------------------------\n",
      "epoch 184: \n",
      "train loss : 0.01836387813091278 . \n",
      "validation loss : -0.37339597940444946 . \n",
      "--------------------------------------------------\n"
     ]
    },
    {
     "name": "stderr",
     "output_type": "stream",
     "text": [
      "                                                                              \r"
     ]
    },
    {
     "name": "stdout",
     "output_type": "stream",
     "text": [
      "--------------------------------------------------\n",
      "epoch 185: \n",
      "train loss : 0.01815351378172636 . \n",
      "validation loss : -0.39630985260009766 . \n",
      "--------------------------------------------------\n"
     ]
    },
    {
     "name": "stderr",
     "output_type": "stream",
     "text": [
      "                                                                              \r"
     ]
    },
    {
     "name": "stdout",
     "output_type": "stream",
     "text": [
      "--------------------------------------------------\n",
      "epoch 186: \n",
      "train loss : 0.017189271934330463 . \n",
      "validation loss : -0.36284399032592773 . \n",
      "--------------------------------------------------\n"
     ]
    },
    {
     "name": "stderr",
     "output_type": "stream",
     "text": [
      "                                                                              \r"
     ]
    },
    {
     "name": "stdout",
     "output_type": "stream",
     "text": [
      "--------------------------------------------------\n",
      "epoch 187: \n",
      "train loss : 0.01641397625207901 . \n",
      "validation loss : -0.36118513345718384 . \n",
      "--------------------------------------------------\n"
     ]
    },
    {
     "name": "stderr",
     "output_type": "stream",
     "text": [
      "                                                                              \r"
     ]
    },
    {
     "name": "stdout",
     "output_type": "stream",
     "text": [
      "--------------------------------------------------\n",
      "epoch 188: \n",
      "train loss : 0.015149084478616714 . \n",
      "validation loss : -0.3770734667778015 . \n",
      "--------------------------------------------------\n"
     ]
    },
    {
     "name": "stderr",
     "output_type": "stream",
     "text": [
      "                                                                              \r"
     ]
    },
    {
     "name": "stdout",
     "output_type": "stream",
     "text": [
      "--------------------------------------------------\n",
      "epoch 189: \n",
      "train loss : 0.014591941237449646 . \n",
      "validation loss : -0.3684380054473877 . \n",
      "--------------------------------------------------\n"
     ]
    },
    {
     "name": "stderr",
     "output_type": "stream",
     "text": [
      "                                                                              \r"
     ]
    },
    {
     "name": "stdout",
     "output_type": "stream",
     "text": [
      "--------------------------------------------------\n",
      "epoch 190: \n",
      "train loss : 0.013880822993814945 . \n",
      "validation loss : -0.3756124973297119 . \n",
      "--------------------------------------------------\n"
     ]
    },
    {
     "name": "stderr",
     "output_type": "stream",
     "text": [
      "                                                                              \r"
     ]
    },
    {
     "name": "stdout",
     "output_type": "stream",
     "text": [
      "--------------------------------------------------\n",
      "epoch 191: \n",
      "train loss : 0.013291943073272704 . \n",
      "validation loss : -0.3686956763267517 . \n",
      "--------------------------------------------------\n"
     ]
    },
    {
     "name": "stderr",
     "output_type": "stream",
     "text": [
      "                                                                              \r"
     ]
    },
    {
     "name": "stdout",
     "output_type": "stream",
     "text": [
      "--------------------------------------------------\n",
      "epoch 192: \n",
      "train loss : 0.013637780211865902 . \n",
      "validation loss : -0.3631123900413513 . \n",
      "--------------------------------------------------\n"
     ]
    },
    {
     "name": "stderr",
     "output_type": "stream",
     "text": [
      "                                                                              \r"
     ]
    },
    {
     "name": "stdout",
     "output_type": "stream",
     "text": [
      "--------------------------------------------------\n",
      "epoch 193: \n",
      "train loss : 0.014254703279584646 . \n",
      "validation loss : -0.37846243381500244 . \n",
      "--------------------------------------------------\n"
     ]
    },
    {
     "name": "stderr",
     "output_type": "stream",
     "text": [
      "                                                                              \r"
     ]
    },
    {
     "name": "stdout",
     "output_type": "stream",
     "text": [
      "--------------------------------------------------\n",
      "epoch 194: \n",
      "train loss : 0.013596358336508274 . \n",
      "validation loss : -0.3637272119522095 . \n",
      "--------------------------------------------------\n"
     ]
    },
    {
     "name": "stderr",
     "output_type": "stream",
     "text": [
      "                                                                              \r"
     ]
    },
    {
     "name": "stdout",
     "output_type": "stream",
     "text": [
      "--------------------------------------------------\n",
      "epoch 195: \n",
      "train loss : 0.013028888963162899 . \n",
      "validation loss : -0.38477104902267456 . \n",
      "--------------------------------------------------\n"
     ]
    },
    {
     "name": "stderr",
     "output_type": "stream",
     "text": [
      "                                                                              \r"
     ]
    },
    {
     "name": "stdout",
     "output_type": "stream",
     "text": [
      "--------------------------------------------------\n",
      "epoch 196: \n",
      "train loss : 0.013771990314126015 . \n",
      "validation loss : -0.35844630002975464 . \n",
      "--------------------------------------------------\n"
     ]
    },
    {
     "name": "stderr",
     "output_type": "stream",
     "text": [
      "                                                                              \r"
     ]
    },
    {
     "name": "stdout",
     "output_type": "stream",
     "text": [
      "--------------------------------------------------\n",
      "epoch 197: \n",
      "train loss : 0.0139039171859622 . \n",
      "validation loss : -0.36796271800994873 . \n",
      "--------------------------------------------------\n"
     ]
    },
    {
     "name": "stderr",
     "output_type": "stream",
     "text": [
      "                                                                              \r"
     ]
    },
    {
     "name": "stdout",
     "output_type": "stream",
     "text": [
      "--------------------------------------------------\n",
      "epoch 198: \n",
      "train loss : 0.013557404279708862 . \n",
      "validation loss : -0.3565864562988281 . \n",
      "--------------------------------------------------\n"
     ]
    },
    {
     "name": "stderr",
     "output_type": "stream",
     "text": [
      "                                                                              \r"
     ]
    },
    {
     "name": "stdout",
     "output_type": "stream",
     "text": [
      "--------------------------------------------------\n",
      "epoch 199: \n",
      "train loss : 0.01331107523292303 . \n",
      "validation loss : -0.37405115365982056 . \n",
      "--------------------------------------------------\n"
     ]
    },
    {
     "name": "stderr",
     "output_type": "stream",
     "text": [
      "                                                                              \r"
     ]
    },
    {
     "name": "stdout",
     "output_type": "stream",
     "text": [
      "--------------------------------------------------\n",
      "epoch 200: \n",
      "train loss : 0.01269887462258339 . \n",
      "validation loss : -0.36266863346099854 . \n",
      "--------------------------------------------------\n"
     ]
    },
    {
     "name": "stderr",
     "output_type": "stream",
     "text": [
      "                                                                              \r"
     ]
    },
    {
     "name": "stdout",
     "output_type": "stream",
     "text": [
      "--------------------------------------------------\n",
      "epoch 201: \n",
      "train loss : 0.012128983810544013 . \n",
      "validation loss : -0.3644183278083801 . \n",
      "--------------------------------------------------\n"
     ]
    },
    {
     "name": "stderr",
     "output_type": "stream",
     "text": [
      "                                                                              \r"
     ]
    },
    {
     "name": "stdout",
     "output_type": "stream",
     "text": [
      "--------------------------------------------------\n",
      "epoch 202: \n",
      "train loss : 0.012102955300360919 . \n",
      "validation loss : -0.3441459536552429 . \n",
      "--------------------------------------------------\n"
     ]
    },
    {
     "name": "stderr",
     "output_type": "stream",
     "text": [
      "                                                                              \r"
     ]
    },
    {
     "name": "stdout",
     "output_type": "stream",
     "text": [
      "--------------------------------------------------\n",
      "epoch 203: \n",
      "train loss : 0.012346772663295268 . \n",
      "validation loss : -0.3605448007583618 . \n",
      "--------------------------------------------------\n"
     ]
    },
    {
     "name": "stderr",
     "output_type": "stream",
     "text": [
      "                                                                              \r"
     ]
    },
    {
     "name": "stdout",
     "output_type": "stream",
     "text": [
      "--------------------------------------------------\n",
      "epoch 204: \n",
      "train loss : 0.012277360912412405 . \n",
      "validation loss : -0.3739205002784729 . \n",
      "--------------------------------------------------\n"
     ]
    },
    {
     "name": "stderr",
     "output_type": "stream",
     "text": [
      "                                                                              \r"
     ]
    },
    {
     "name": "stdout",
     "output_type": "stream",
     "text": [
      "--------------------------------------------------\n",
      "epoch 205: \n",
      "train loss : 0.012661614455282688 . \n",
      "validation loss : -0.3652191758155823 . \n",
      "--------------------------------------------------\n"
     ]
    },
    {
     "name": "stderr",
     "output_type": "stream",
     "text": [
      "                                                                              \r"
     ]
    },
    {
     "name": "stdout",
     "output_type": "stream",
     "text": [
      "--------------------------------------------------\n",
      "epoch 206: \n",
      "train loss : 0.0117660753428936 . \n",
      "validation loss : -0.371504008769989 . \n",
      "--------------------------------------------------\n"
     ]
    },
    {
     "name": "stderr",
     "output_type": "stream",
     "text": [
      "                                                                              \r"
     ]
    },
    {
     "name": "stdout",
     "output_type": "stream",
     "text": [
      "--------------------------------------------------\n",
      "epoch 207: \n",
      "train loss : 0.013325458765029908 . \n",
      "validation loss : -0.34470146894454956 . \n",
      "--------------------------------------------------\n"
     ]
    },
    {
     "name": "stderr",
     "output_type": "stream",
     "text": [
      "                                                                              \r"
     ]
    },
    {
     "name": "stdout",
     "output_type": "stream",
     "text": [
      "--------------------------------------------------\n",
      "epoch 208: \n",
      "train loss : 0.011781417578458787 . \n",
      "validation loss : -0.3636443018913269 . \n",
      "--------------------------------------------------\n"
     ]
    },
    {
     "name": "stderr",
     "output_type": "stream",
     "text": [
      "                                                                              \r"
     ]
    },
    {
     "name": "stdout",
     "output_type": "stream",
     "text": [
      "--------------------------------------------------\n",
      "epoch 209: \n",
      "train loss : 0.011535307019948959 . \n",
      "validation loss : -0.3603050112724304 . \n",
      "--------------------------------------------------\n"
     ]
    },
    {
     "name": "stderr",
     "output_type": "stream",
     "text": [
      "                                                                              \r"
     ]
    },
    {
     "name": "stdout",
     "output_type": "stream",
     "text": [
      "--------------------------------------------------\n",
      "epoch 210: \n",
      "train loss : 0.012141206581145526 . \n",
      "validation loss : -0.3598276972770691 . \n",
      "--------------------------------------------------\n"
     ]
    },
    {
     "name": "stderr",
     "output_type": "stream",
     "text": [
      "                                                                              \r"
     ]
    },
    {
     "name": "stdout",
     "output_type": "stream",
     "text": [
      "--------------------------------------------------\n",
      "epoch 211: \n",
      "train loss : 0.011235462315380574 . \n",
      "validation loss : -0.3497154116630554 . \n",
      "--------------------------------------------------\n"
     ]
    },
    {
     "name": "stderr",
     "output_type": "stream",
     "text": [
      "                                                                              \r"
     ]
    },
    {
     "name": "stdout",
     "output_type": "stream",
     "text": [
      "--------------------------------------------------\n",
      "epoch 212: \n",
      "train loss : 0.011475210264325141 . \n",
      "validation loss : -0.35612285137176514 . \n",
      "--------------------------------------------------\n"
     ]
    },
    {
     "name": "stderr",
     "output_type": "stream",
     "text": [
      "                                                                              \r"
     ]
    },
    {
     "name": "stdout",
     "output_type": "stream",
     "text": [
      "--------------------------------------------------\n",
      "epoch 213: \n",
      "train loss : 0.011851370055228471 . \n",
      "validation loss : -0.3575689196586609 . \n",
      "--------------------------------------------------\n"
     ]
    },
    {
     "name": "stderr",
     "output_type": "stream",
     "text": [
      "                                                                              \r"
     ]
    },
    {
     "name": "stdout",
     "output_type": "stream",
     "text": [
      "--------------------------------------------------\n",
      "epoch 214: \n",
      "train loss : 0.011377772875130176 . \n",
      "validation loss : -0.3577080965042114 . \n",
      "--------------------------------------------------\n"
     ]
    },
    {
     "name": "stderr",
     "output_type": "stream",
     "text": [
      "                                                                              \r"
     ]
    },
    {
     "name": "stdout",
     "output_type": "stream",
     "text": [
      "--------------------------------------------------\n",
      "epoch 215: \n",
      "train loss : 0.01131730228662491 . \n",
      "validation loss : -0.3585245609283447 . \n",
      "--------------------------------------------------\n"
     ]
    },
    {
     "name": "stderr",
     "output_type": "stream",
     "text": [
      "                                                                              \r"
     ]
    },
    {
     "name": "stdout",
     "output_type": "stream",
     "text": [
      "--------------------------------------------------\n",
      "epoch 216: \n",
      "train loss : 0.010706993564963341 . \n",
      "validation loss : -0.35920417308807373 . \n",
      "--------------------------------------------------\n"
     ]
    },
    {
     "name": "stderr",
     "output_type": "stream",
     "text": [
      "                                                                              \r"
     ]
    },
    {
     "name": "stdout",
     "output_type": "stream",
     "text": [
      "--------------------------------------------------\n",
      "epoch 217: \n",
      "train loss : 0.011549798119813205 . \n",
      "validation loss : -0.3469376564025879 . \n",
      "--------------------------------------------------\n"
     ]
    },
    {
     "name": "stderr",
     "output_type": "stream",
     "text": [
      "                                                                              \r"
     ]
    },
    {
     "name": "stdout",
     "output_type": "stream",
     "text": [
      "--------------------------------------------------\n",
      "epoch 218: \n",
      "train loss : 0.013138226326555013 . \n",
      "validation loss : -0.3645526170730591 . \n",
      "--------------------------------------------------\n"
     ]
    },
    {
     "name": "stderr",
     "output_type": "stream",
     "text": [
      "                                                                              \r"
     ]
    },
    {
     "name": "stdout",
     "output_type": "stream",
     "text": [
      "--------------------------------------------------\n",
      "epoch 219: \n",
      "train loss : 0.01072322316467762 . \n",
      "validation loss : -0.3676717281341553 . \n",
      "--------------------------------------------------\n"
     ]
    },
    {
     "name": "stderr",
     "output_type": "stream",
     "text": [
      "                                                                              \r"
     ]
    },
    {
     "name": "stdout",
     "output_type": "stream",
     "text": [
      "--------------------------------------------------\n",
      "epoch 220: \n",
      "train loss : 0.011036909278482198 . \n",
      "validation loss : -0.35967904329299927 . \n",
      "--------------------------------------------------\n"
     ]
    },
    {
     "name": "stderr",
     "output_type": "stream",
     "text": [
      "                                                                              \r"
     ]
    },
    {
     "name": "stdout",
     "output_type": "stream",
     "text": [
      "--------------------------------------------------\n",
      "epoch 221: \n",
      "train loss : 0.011037611030042171 . \n",
      "validation loss : -0.3591552972793579 . \n",
      "--------------------------------------------------\n"
     ]
    },
    {
     "name": "stderr",
     "output_type": "stream",
     "text": [
      "                                                                              \r"
     ]
    },
    {
     "name": "stdout",
     "output_type": "stream",
     "text": [
      "--------------------------------------------------\n",
      "epoch 222: \n",
      "train loss : 0.011195766367018222 . \n",
      "validation loss : -0.3672035336494446 . \n",
      "--------------------------------------------------\n"
     ]
    },
    {
     "name": "stderr",
     "output_type": "stream",
     "text": [
      "                                                                              \r"
     ]
    },
    {
     "name": "stdout",
     "output_type": "stream",
     "text": [
      "--------------------------------------------------\n",
      "epoch 223: \n",
      "train loss : 0.011477415263652802 . \n",
      "validation loss : -0.3609086871147156 . \n",
      "--------------------------------------------------\n"
     ]
    },
    {
     "name": "stderr",
     "output_type": "stream",
     "text": [
      "                                                                              \r"
     ]
    },
    {
     "name": "stdout",
     "output_type": "stream",
     "text": [
      "--------------------------------------------------\n",
      "epoch 224: \n",
      "train loss : 0.011314255185425282 . \n",
      "validation loss : -0.3621235489845276 . \n",
      "--------------------------------------------------\n"
     ]
    },
    {
     "name": "stderr",
     "output_type": "stream",
     "text": [
      "                                                                              \r"
     ]
    },
    {
     "name": "stdout",
     "output_type": "stream",
     "text": [
      "--------------------------------------------------\n",
      "epoch 225: \n",
      "train loss : 0.012064657546579838 . \n",
      "validation loss : -0.36179107427597046 . \n",
      "--------------------------------------------------\n"
     ]
    },
    {
     "name": "stderr",
     "output_type": "stream",
     "text": [
      "                                                                              \r"
     ]
    },
    {
     "name": "stdout",
     "output_type": "stream",
     "text": [
      "--------------------------------------------------\n",
      "epoch 226: \n",
      "train loss : 0.011360331811010838 . \n",
      "validation loss : -0.3456820249557495 . \n",
      "--------------------------------------------------\n"
     ]
    },
    {
     "name": "stderr",
     "output_type": "stream",
     "text": [
      "                                                                              \r"
     ]
    },
    {
     "name": "stdout",
     "output_type": "stream",
     "text": [
      "--------------------------------------------------\n",
      "epoch 227: \n",
      "train loss : 0.011488664522767067 . \n",
      "validation loss : -0.3587900400161743 . \n",
      "--------------------------------------------------\n"
     ]
    },
    {
     "name": "stderr",
     "output_type": "stream",
     "text": [
      "                                                                              \r"
     ]
    },
    {
     "name": "stdout",
     "output_type": "stream",
     "text": [
      "--------------------------------------------------\n",
      "epoch 228: \n",
      "train loss : 0.011512243188917637 . \n",
      "validation loss : -0.373674213886261 . \n",
      "--------------------------------------------------\n"
     ]
    },
    {
     "name": "stderr",
     "output_type": "stream",
     "text": [
      "                                                                              \r"
     ]
    },
    {
     "name": "stdout",
     "output_type": "stream",
     "text": [
      "--------------------------------------------------\n",
      "epoch 229: \n",
      "train loss : 0.010821374133229256 . \n",
      "validation loss : -0.3460733890533447 . \n",
      "--------------------------------------------------\n"
     ]
    },
    {
     "name": "stderr",
     "output_type": "stream",
     "text": [
      "                                                                              \r"
     ]
    },
    {
     "name": "stdout",
     "output_type": "stream",
     "text": [
      "--------------------------------------------------\n",
      "epoch 230: \n",
      "train loss : 0.011032396275550128 . \n",
      "validation loss : -0.35127151012420654 . \n",
      "--------------------------------------------------\n"
     ]
    },
    {
     "name": "stderr",
     "output_type": "stream",
     "text": [
      "                                                                              \r"
     ]
    },
    {
     "name": "stdout",
     "output_type": "stream",
     "text": [
      "--------------------------------------------------\n",
      "epoch 231: \n",
      "train loss : 0.011083290167152881 . \n",
      "validation loss : -0.367988646030426 . \n",
      "--------------------------------------------------\n"
     ]
    },
    {
     "name": "stderr",
     "output_type": "stream",
     "text": [
      "                                                                              \r"
     ]
    },
    {
     "name": "stdout",
     "output_type": "stream",
     "text": [
      "--------------------------------------------------\n",
      "epoch 232: \n",
      "train loss : 0.011143222544342279 . \n",
      "validation loss : -0.352586567401886 . \n",
      "--------------------------------------------------\n"
     ]
    },
    {
     "name": "stderr",
     "output_type": "stream",
     "text": [
      "                                                                              \r"
     ]
    },
    {
     "name": "stdout",
     "output_type": "stream",
     "text": [
      "--------------------------------------------------\n",
      "epoch 233: \n",
      "train loss : 0.010504803340882062 . \n",
      "validation loss : -0.3542667031288147 . \n",
      "--------------------------------------------------\n"
     ]
    },
    {
     "name": "stderr",
     "output_type": "stream",
     "text": [
      "                                                                              \r"
     ]
    },
    {
     "name": "stdout",
     "output_type": "stream",
     "text": [
      "--------------------------------------------------\n",
      "epoch 234: \n",
      "train loss : 0.01370871877297759 . \n",
      "validation loss : -0.37273454666137695 . \n",
      "--------------------------------------------------\n"
     ]
    },
    {
     "name": "stderr",
     "output_type": "stream",
     "text": [
      "                                                                              \r"
     ]
    },
    {
     "name": "stdout",
     "output_type": "stream",
     "text": [
      "--------------------------------------------------\n",
      "epoch 235: \n",
      "train loss : 0.010478981770575047 . \n",
      "validation loss : -0.35938411951065063 . \n",
      "--------------------------------------------------\n"
     ]
    },
    {
     "name": "stderr",
     "output_type": "stream",
     "text": [
      "                                                                              \r"
     ]
    },
    {
     "name": "stdout",
     "output_type": "stream",
     "text": [
      "--------------------------------------------------\n",
      "epoch 236: \n",
      "train loss : 0.010228711925446988 . \n",
      "validation loss : -0.3832973837852478 . \n",
      "--------------------------------------------------\n"
     ]
    },
    {
     "name": "stderr",
     "output_type": "stream",
     "text": [
      "                                                                              \r"
     ]
    },
    {
     "name": "stdout",
     "output_type": "stream",
     "text": [
      "--------------------------------------------------\n",
      "epoch 237: \n",
      "train loss : 0.010438621696084737 . \n",
      "validation loss : -0.3490990400314331 . \n",
      "--------------------------------------------------\n"
     ]
    },
    {
     "name": "stderr",
     "output_type": "stream",
     "text": [
      "                                                                              \r"
     ]
    },
    {
     "name": "stdout",
     "output_type": "stream",
     "text": [
      "--------------------------------------------------\n",
      "epoch 238: \n",
      "train loss : 0.012267362698912621 . \n",
      "validation loss : -0.3481259346008301 . \n",
      "--------------------------------------------------\n"
     ]
    },
    {
     "name": "stderr",
     "output_type": "stream",
     "text": [
      "                                                                              \r"
     ]
    },
    {
     "name": "stdout",
     "output_type": "stream",
     "text": [
      "--------------------------------------------------\n",
      "epoch 239: \n",
      "train loss : 0.011210195533931256 . \n",
      "validation loss : -0.3592742085456848 . \n",
      "--------------------------------------------------\n"
     ]
    },
    {
     "name": "stderr",
     "output_type": "stream",
     "text": [
      "                                                                              \r"
     ]
    },
    {
     "name": "stdout",
     "output_type": "stream",
     "text": [
      "--------------------------------------------------\n",
      "epoch 240: \n",
      "train loss : 0.011430178675800562 . \n",
      "validation loss : -0.3530176281929016 . \n",
      "--------------------------------------------------\n"
     ]
    },
    {
     "name": "stderr",
     "output_type": "stream",
     "text": [
      "                                                                              \r"
     ]
    },
    {
     "name": "stdout",
     "output_type": "stream",
     "text": [
      "--------------------------------------------------\n",
      "epoch 241: \n",
      "train loss : 0.010598807875066996 . \n",
      "validation loss : -0.356978178024292 . \n",
      "--------------------------------------------------\n"
     ]
    },
    {
     "name": "stderr",
     "output_type": "stream",
     "text": [
      "                                                                              \r"
     ]
    },
    {
     "name": "stdout",
     "output_type": "stream",
     "text": [
      "--------------------------------------------------\n",
      "epoch 242: \n",
      "train loss : 0.010759770311415196 . \n",
      "validation loss : -0.37550443410873413 . \n",
      "--------------------------------------------------\n"
     ]
    },
    {
     "name": "stderr",
     "output_type": "stream",
     "text": [
      "                                                                              \r"
     ]
    },
    {
     "name": "stdout",
     "output_type": "stream",
     "text": [
      "--------------------------------------------------\n",
      "epoch 243: \n",
      "train loss : 0.010327585879713297 . \n",
      "validation loss : -0.36073994636535645 . \n",
      "--------------------------------------------------\n"
     ]
    },
    {
     "name": "stderr",
     "output_type": "stream",
     "text": [
      "                                                                              \r"
     ]
    },
    {
     "name": "stdout",
     "output_type": "stream",
     "text": [
      "--------------------------------------------------\n",
      "epoch 244: \n",
      "train loss : 0.010954197123646736 . \n",
      "validation loss : -0.3649775981903076 . \n",
      "--------------------------------------------------\n"
     ]
    },
    {
     "name": "stderr",
     "output_type": "stream",
     "text": [
      "                                                                              \r"
     ]
    },
    {
     "name": "stdout",
     "output_type": "stream",
     "text": [
      "--------------------------------------------------\n",
      "epoch 245: \n",
      "train loss : 0.009932143520563841 . \n",
      "validation loss : -0.36021000146865845 . \n",
      "--------------------------------------------------\n"
     ]
    },
    {
     "name": "stderr",
     "output_type": "stream",
     "text": [
      "                                                                              \r"
     ]
    },
    {
     "name": "stdout",
     "output_type": "stream",
     "text": [
      "--------------------------------------------------\n",
      "epoch 246: \n",
      "train loss : 0.010869273357093335 . \n",
      "validation loss : -0.346377968788147 . \n",
      "--------------------------------------------------\n"
     ]
    },
    {
     "name": "stderr",
     "output_type": "stream",
     "text": [
      "                                                                              \r"
     ]
    },
    {
     "name": "stdout",
     "output_type": "stream",
     "text": [
      "--------------------------------------------------\n",
      "epoch 247: \n",
      "train loss : 0.01057286337018013 . \n",
      "validation loss : -0.3652278184890747 . \n",
      "--------------------------------------------------\n"
     ]
    },
    {
     "name": "stderr",
     "output_type": "stream",
     "text": [
      "                                                                              \r"
     ]
    },
    {
     "name": "stdout",
     "output_type": "stream",
     "text": [
      "--------------------------------------------------\n",
      "epoch 248: \n",
      "train loss : 0.01032012039795518 . \n",
      "validation loss : -0.3591904640197754 . \n",
      "--------------------------------------------------\n"
     ]
    },
    {
     "name": "stderr",
     "output_type": "stream",
     "text": [
      "                                                                              \r"
     ]
    },
    {
     "name": "stdout",
     "output_type": "stream",
     "text": [
      "--------------------------------------------------\n",
      "epoch 249: \n",
      "train loss : 0.010910425148904324 . \n",
      "validation loss : -0.3490191698074341 . \n",
      "--------------------------------------------------\n"
     ]
    },
    {
     "name": "stderr",
     "output_type": "stream",
     "text": [
      "                                                                              \r"
     ]
    },
    {
     "name": "stdout",
     "output_type": "stream",
     "text": [
      "--------------------------------------------------\n",
      "epoch 250: \n",
      "train loss : 0.009715518541634082 . \n",
      "validation loss : -0.36140936613082886 . \n",
      "--------------------------------------------------\n"
     ]
    },
    {
     "name": "stderr",
     "output_type": "stream",
     "text": [
      "                                                                              \r"
     ]
    },
    {
     "name": "stdout",
     "output_type": "stream",
     "text": [
      "--------------------------------------------------\n",
      "epoch 251: \n",
      "train loss : 0.009476836770772934 . \n",
      "validation loss : -0.35807734727859497 . \n",
      "--------------------------------------------------\n"
     ]
    },
    {
     "name": "stderr",
     "output_type": "stream",
     "text": [
      "                                                                              \r"
     ]
    },
    {
     "name": "stdout",
     "output_type": "stream",
     "text": [
      "--------------------------------------------------\n",
      "epoch 252: \n",
      "train loss : 0.009945036936551332 . \n",
      "validation loss : -0.351457417011261 . \n",
      "--------------------------------------------------\n"
     ]
    },
    {
     "name": "stderr",
     "output_type": "stream",
     "text": [
      "                                                                              \r"
     ]
    },
    {
     "name": "stdout",
     "output_type": "stream",
     "text": [
      "--------------------------------------------------\n",
      "epoch 253: \n",
      "train loss : 0.009234318416565657 . \n",
      "validation loss : -0.3540601134300232 . \n",
      "--------------------------------------------------\n"
     ]
    },
    {
     "name": "stderr",
     "output_type": "stream",
     "text": [
      "                                                                              \r"
     ]
    },
    {
     "name": "stdout",
     "output_type": "stream",
     "text": [
      "--------------------------------------------------\n",
      "epoch 254: \n",
      "train loss : 0.00965040260925889 . \n",
      "validation loss : -0.3684885501861572 . \n",
      "--------------------------------------------------\n"
     ]
    },
    {
     "name": "stderr",
     "output_type": "stream",
     "text": [
      "                                                                              \r"
     ]
    },
    {
     "name": "stdout",
     "output_type": "stream",
     "text": [
      "--------------------------------------------------\n",
      "epoch 255: \n",
      "train loss : 0.009835971891880036 . \n",
      "validation loss : -0.3597777485847473 . \n",
      "--------------------------------------------------\n"
     ]
    },
    {
     "name": "stderr",
     "output_type": "stream",
     "text": [
      "                                                                              \r"
     ]
    },
    {
     "name": "stdout",
     "output_type": "stream",
     "text": [
      "--------------------------------------------------\n",
      "epoch 256: \n",
      "train loss : 0.009289214946329593 . \n",
      "validation loss : -0.36354827880859375 . \n",
      "--------------------------------------------------\n"
     ]
    },
    {
     "name": "stderr",
     "output_type": "stream",
     "text": [
      "                                                                              \r"
     ]
    },
    {
     "name": "stdout",
     "output_type": "stream",
     "text": [
      "--------------------------------------------------\n",
      "epoch 257: \n",
      "train loss : 0.009210042096674443 . \n",
      "validation loss : -0.36259007453918457 . \n",
      "--------------------------------------------------\n"
     ]
    },
    {
     "name": "stderr",
     "output_type": "stream",
     "text": [
      "                                                                              \r"
     ]
    },
    {
     "name": "stdout",
     "output_type": "stream",
     "text": [
      "--------------------------------------------------\n",
      "epoch 258: \n",
      "train loss : 0.00967978611588478 . \n",
      "validation loss : -0.3693898916244507 . \n",
      "--------------------------------------------------\n"
     ]
    },
    {
     "name": "stderr",
     "output_type": "stream",
     "text": [
      "                                                                              \r"
     ]
    },
    {
     "name": "stdout",
     "output_type": "stream",
     "text": [
      "--------------------------------------------------\n",
      "epoch 259: \n",
      "train loss : 0.00961815845221281 . \n",
      "validation loss : -0.35533398389816284 . \n",
      "--------------------------------------------------\n"
     ]
    },
    {
     "name": "stderr",
     "output_type": "stream",
     "text": [
      "                                                                              \r"
     ]
    },
    {
     "name": "stdout",
     "output_type": "stream",
     "text": [
      "--------------------------------------------------\n",
      "epoch 260: \n",
      "train loss : 0.009064497705549002 . \n",
      "validation loss : -0.35667937994003296 . \n",
      "--------------------------------------------------\n"
     ]
    },
    {
     "name": "stderr",
     "output_type": "stream",
     "text": [
      "                                                                              \r"
     ]
    },
    {
     "name": "stdout",
     "output_type": "stream",
     "text": [
      "--------------------------------------------------\n",
      "epoch 261: \n",
      "train loss : 0.00927390856668353 . \n",
      "validation loss : -0.35614830255508423 . \n",
      "--------------------------------------------------\n"
     ]
    },
    {
     "name": "stderr",
     "output_type": "stream",
     "text": [
      "                                                                              \r"
     ]
    },
    {
     "name": "stdout",
     "output_type": "stream",
     "text": [
      "--------------------------------------------------\n",
      "epoch 262: \n",
      "train loss : 0.009136136621236801 . \n",
      "validation loss : -0.35805171728134155 . \n",
      "--------------------------------------------------\n"
     ]
    },
    {
     "name": "stderr",
     "output_type": "stream",
     "text": [
      "                                                                              \r"
     ]
    },
    {
     "name": "stdout",
     "output_type": "stream",
     "text": [
      "--------------------------------------------------\n",
      "epoch 263: \n",
      "train loss : 0.008675806503742934 . \n",
      "validation loss : -0.36341679096221924 . \n",
      "--------------------------------------------------\n"
     ]
    },
    {
     "name": "stderr",
     "output_type": "stream",
     "text": [
      "                                                                              \r"
     ]
    },
    {
     "name": "stdout",
     "output_type": "stream",
     "text": [
      "--------------------------------------------------\n",
      "epoch 264: \n",
      "train loss : 0.009376989211887121 . \n",
      "validation loss : -0.3544979691505432 . \n",
      "--------------------------------------------------\n"
     ]
    },
    {
     "name": "stderr",
     "output_type": "stream",
     "text": [
      "                                                                              \r"
     ]
    },
    {
     "name": "stdout",
     "output_type": "stream",
     "text": [
      "--------------------------------------------------\n",
      "epoch 265: \n",
      "train loss : 0.009262379165738821 . \n",
      "validation loss : -0.3628523349761963 . \n",
      "--------------------------------------------------\n"
     ]
    },
    {
     "name": "stderr",
     "output_type": "stream",
     "text": [
      "                                                                              \r"
     ]
    },
    {
     "name": "stdout",
     "output_type": "stream",
     "text": [
      "--------------------------------------------------\n",
      "epoch 266: \n",
      "train loss : 0.009245629049837589 . \n",
      "validation loss : -0.35233038663864136 . \n",
      "--------------------------------------------------\n"
     ]
    },
    {
     "name": "stderr",
     "output_type": "stream",
     "text": [
      "                                                                              \r"
     ]
    },
    {
     "name": "stdout",
     "output_type": "stream",
     "text": [
      "--------------------------------------------------\n",
      "epoch 267: \n",
      "train loss : 0.009858949109911919 . \n",
      "validation loss : -0.3760538697242737 . \n",
      "--------------------------------------------------\n"
     ]
    },
    {
     "name": "stderr",
     "output_type": "stream",
     "text": [
      "                                                                              \r"
     ]
    },
    {
     "name": "stdout",
     "output_type": "stream",
     "text": [
      "--------------------------------------------------\n",
      "epoch 268: \n",
      "train loss : 0.009115850925445557 . \n",
      "validation loss : -0.3534274101257324 . \n",
      "--------------------------------------------------\n"
     ]
    },
    {
     "name": "stderr",
     "output_type": "stream",
     "text": [
      "                                                                              \r"
     ]
    },
    {
     "name": "stdout",
     "output_type": "stream",
     "text": [
      "--------------------------------------------------\n",
      "epoch 269: \n",
      "train loss : 0.010570633504539729 . \n",
      "validation loss : -0.36847221851348877 . \n",
      "--------------------------------------------------\n"
     ]
    },
    {
     "name": "stderr",
     "output_type": "stream",
     "text": [
      "                                                                              \r"
     ]
    },
    {
     "name": "stdout",
     "output_type": "stream",
     "text": [
      "--------------------------------------------------\n",
      "epoch 270: \n",
      "train loss : 0.009896760433912277 . \n",
      "validation loss : -0.37414872646331787 . \n",
      "--------------------------------------------------\n"
     ]
    },
    {
     "name": "stderr",
     "output_type": "stream",
     "text": [
      "                                                                              \r"
     ]
    },
    {
     "name": "stdout",
     "output_type": "stream",
     "text": [
      "--------------------------------------------------\n",
      "epoch 271: \n",
      "train loss : 0.009447452146559954 . \n",
      "validation loss : -0.3696169853210449 . \n",
      "--------------------------------------------------\n"
     ]
    },
    {
     "name": "stderr",
     "output_type": "stream",
     "text": [
      "                                                                              \r"
     ]
    },
    {
     "name": "stdout",
     "output_type": "stream",
     "text": [
      "--------------------------------------------------\n",
      "epoch 272: \n",
      "train loss : 0.009555508848279715 . \n",
      "validation loss : -0.34230101108551025 . \n",
      "--------------------------------------------------\n"
     ]
    },
    {
     "name": "stderr",
     "output_type": "stream",
     "text": [
      "                                                                              \r"
     ]
    },
    {
     "name": "stdout",
     "output_type": "stream",
     "text": [
      "--------------------------------------------------\n",
      "epoch 273: \n",
      "train loss : 0.008816462755203248 . \n",
      "validation loss : -0.3660475015640259 . \n",
      "--------------------------------------------------\n"
     ]
    },
    {
     "name": "stderr",
     "output_type": "stream",
     "text": [
      "                                                                              \r"
     ]
    },
    {
     "name": "stdout",
     "output_type": "stream",
     "text": [
      "--------------------------------------------------\n",
      "epoch 274: \n",
      "train loss : 0.010716981254518032 . \n",
      "validation loss : -0.35038405656814575 . \n",
      "--------------------------------------------------\n"
     ]
    },
    {
     "name": "stderr",
     "output_type": "stream",
     "text": [
      "                                                                              \r"
     ]
    },
    {
     "name": "stdout",
     "output_type": "stream",
     "text": [
      "--------------------------------------------------\n",
      "epoch 275: \n",
      "train loss : 0.01005876986309886 . \n",
      "validation loss : -0.35893404483795166 . \n",
      "--------------------------------------------------\n"
     ]
    },
    {
     "name": "stderr",
     "output_type": "stream",
     "text": [
      "                                                                              \r"
     ]
    },
    {
     "name": "stdout",
     "output_type": "stream",
     "text": [
      "--------------------------------------------------\n",
      "epoch 276: \n",
      "train loss : 0.0097287661395967 . \n",
      "validation loss : -0.3517143130302429 . \n",
      "--------------------------------------------------\n"
     ]
    },
    {
     "name": "stderr",
     "output_type": "stream",
     "text": [
      "                                                                              \r"
     ]
    },
    {
     "name": "stdout",
     "output_type": "stream",
     "text": [
      "--------------------------------------------------\n",
      "epoch 277: \n",
      "train loss : 0.008681113459169864 . \n",
      "validation loss : -0.3481588363647461 . \n",
      "--------------------------------------------------\n"
     ]
    },
    {
     "name": "stderr",
     "output_type": "stream",
     "text": [
      "                                                                              \r"
     ]
    },
    {
     "name": "stdout",
     "output_type": "stream",
     "text": [
      "--------------------------------------------------\n",
      "epoch 278: \n",
      "train loss : 0.008727507572621107 . \n",
      "validation loss : -0.3621114492416382 . \n",
      "--------------------------------------------------\n"
     ]
    },
    {
     "name": "stderr",
     "output_type": "stream",
     "text": [
      "                                                                              \r"
     ]
    },
    {
     "name": "stdout",
     "output_type": "stream",
     "text": [
      "--------------------------------------------------\n",
      "epoch 279: \n",
      "train loss : 0.008675371948629617 . \n",
      "validation loss : -0.3527035117149353 . \n",
      "--------------------------------------------------\n"
     ]
    },
    {
     "name": "stderr",
     "output_type": "stream",
     "text": [
      "                                                                              \r"
     ]
    },
    {
     "name": "stdout",
     "output_type": "stream",
     "text": [
      "--------------------------------------------------\n",
      "epoch 280: \n",
      "train loss : 0.0081712294369936 . \n",
      "validation loss : -0.3590892553329468 . \n",
      "--------------------------------------------------\n"
     ]
    },
    {
     "name": "stderr",
     "output_type": "stream",
     "text": [
      "                                                                              \r"
     ]
    },
    {
     "name": "stdout",
     "output_type": "stream",
     "text": [
      "--------------------------------------------------\n",
      "epoch 281: \n",
      "train loss : 0.00864371582865715 . \n",
      "validation loss : -0.35120993852615356 . \n",
      "--------------------------------------------------\n"
     ]
    },
    {
     "name": "stderr",
     "output_type": "stream",
     "text": [
      "                                                                              \r"
     ]
    },
    {
     "name": "stdout",
     "output_type": "stream",
     "text": [
      "--------------------------------------------------\n",
      "epoch 282: \n",
      "train loss : 0.008735380973666907 . \n",
      "validation loss : -0.35669755935668945 . \n",
      "--------------------------------------------------\n"
     ]
    },
    {
     "name": "stderr",
     "output_type": "stream",
     "text": [
      "                                                                              \r"
     ]
    },
    {
     "name": "stdout",
     "output_type": "stream",
     "text": [
      "--------------------------------------------------\n",
      "epoch 283: \n",
      "train loss : 0.007984599005430937 . \n",
      "validation loss : -0.35062646865844727 . \n",
      "--------------------------------------------------\n"
     ]
    },
    {
     "name": "stderr",
     "output_type": "stream",
     "text": [
      "                                                                              \r"
     ]
    },
    {
     "name": "stdout",
     "output_type": "stream",
     "text": [
      "--------------------------------------------------\n",
      "epoch 284: \n",
      "train loss : 0.008524094242602587 . \n",
      "validation loss : -0.34939223527908325 . \n",
      "--------------------------------------------------\n"
     ]
    },
    {
     "name": "stderr",
     "output_type": "stream",
     "text": [
      "                                                                              \r"
     ]
    },
    {
     "name": "stdout",
     "output_type": "stream",
     "text": [
      "--------------------------------------------------\n",
      "epoch 285: \n",
      "train loss : 0.007974646333605052 . \n",
      "validation loss : -0.3553517460823059 . \n",
      "--------------------------------------------------\n"
     ]
    },
    {
     "name": "stderr",
     "output_type": "stream",
     "text": [
      "                                                                              \r"
     ]
    },
    {
     "name": "stdout",
     "output_type": "stream",
     "text": [
      "--------------------------------------------------\n",
      "epoch 286: \n",
      "train loss : 0.008178430888801814 . \n",
      "validation loss : -0.34578585624694824 . \n",
      "--------------------------------------------------\n"
     ]
    },
    {
     "name": "stderr",
     "output_type": "stream",
     "text": [
      "                                                                              \r"
     ]
    },
    {
     "name": "stdout",
     "output_type": "stream",
     "text": [
      "--------------------------------------------------\n",
      "epoch 287: \n",
      "train loss : 0.008285884652286768 . \n",
      "validation loss : -0.356617271900177 . \n",
      "--------------------------------------------------\n"
     ]
    },
    {
     "name": "stderr",
     "output_type": "stream",
     "text": [
      "                                                                              \r"
     ]
    },
    {
     "name": "stdout",
     "output_type": "stream",
     "text": [
      "--------------------------------------------------\n",
      "epoch 288: \n",
      "train loss : 0.007745435414835811 . \n",
      "validation loss : -0.3449227213859558 . \n",
      "--------------------------------------------------\n"
     ]
    },
    {
     "name": "stderr",
     "output_type": "stream",
     "text": [
      "                                                                              \r"
     ]
    },
    {
     "name": "stdout",
     "output_type": "stream",
     "text": [
      "--------------------------------------------------\n",
      "epoch 289: \n",
      "train loss : 0.00856356294825673 . \n",
      "validation loss : -0.35196036100387573 . \n",
      "--------------------------------------------------\n"
     ]
    },
    {
     "name": "stderr",
     "output_type": "stream",
     "text": [
      "                                                                              \r"
     ]
    },
    {
     "name": "stdout",
     "output_type": "stream",
     "text": [
      "--------------------------------------------------\n",
      "epoch 290: \n",
      "train loss : 0.007922962680459023 . \n",
      "validation loss : -0.3568929433822632 . \n",
      "--------------------------------------------------\n"
     ]
    },
    {
     "name": "stderr",
     "output_type": "stream",
     "text": [
      "                                                                              \r"
     ]
    },
    {
     "name": "stdout",
     "output_type": "stream",
     "text": [
      "--------------------------------------------------\n",
      "epoch 291: \n",
      "train loss : 0.007708365004509688 . \n",
      "validation loss : -0.3457781672477722 . \n",
      "--------------------------------------------------\n"
     ]
    },
    {
     "name": "stderr",
     "output_type": "stream",
     "text": [
      "                                                                              \r"
     ]
    },
    {
     "name": "stdout",
     "output_type": "stream",
     "text": [
      "--------------------------------------------------\n",
      "epoch 292: \n",
      "train loss : 0.007830726122483611 . \n",
      "validation loss : -0.37723201513290405 . \n",
      "--------------------------------------------------\n"
     ]
    },
    {
     "name": "stderr",
     "output_type": "stream",
     "text": [
      "                                                                              \r"
     ]
    },
    {
     "name": "stdout",
     "output_type": "stream",
     "text": [
      "--------------------------------------------------\n",
      "epoch 293: \n",
      "train loss : 0.008303450234234334 . \n",
      "validation loss : -0.33451056480407715 . \n",
      "--------------------------------------------------\n"
     ]
    },
    {
     "name": "stderr",
     "output_type": "stream",
     "text": [
      "                                                                              \r"
     ]
    },
    {
     "name": "stdout",
     "output_type": "stream",
     "text": [
      "--------------------------------------------------\n",
      "epoch 294: \n",
      "train loss : 0.008369031362235546 . \n",
      "validation loss : -0.3598863482475281 . \n",
      "--------------------------------------------------\n"
     ]
    },
    {
     "name": "stderr",
     "output_type": "stream",
     "text": [
      "                                                                              \r"
     ]
    },
    {
     "name": "stdout",
     "output_type": "stream",
     "text": [
      "--------------------------------------------------\n",
      "epoch 295: \n",
      "train loss : 0.007877019606530667 . \n",
      "validation loss : -0.35883933305740356 . \n",
      "--------------------------------------------------\n"
     ]
    },
    {
     "name": "stderr",
     "output_type": "stream",
     "text": [
      "                                                                              \r"
     ]
    },
    {
     "name": "stdout",
     "output_type": "stream",
     "text": [
      "--------------------------------------------------\n",
      "epoch 296: \n",
      "train loss : 0.008542365301400423 . \n",
      "validation loss : -0.3553868532180786 . \n",
      "--------------------------------------------------\n"
     ]
    },
    {
     "name": "stderr",
     "output_type": "stream",
     "text": [
      "                                                                              \r"
     ]
    },
    {
     "name": "stdout",
     "output_type": "stream",
     "text": [
      "--------------------------------------------------\n",
      "epoch 297: \n",
      "train loss : 0.00891067022457719 . \n",
      "validation loss : -0.3562714457511902 . \n",
      "--------------------------------------------------\n"
     ]
    },
    {
     "name": "stderr",
     "output_type": "stream",
     "text": [
      "                                                                              \r"
     ]
    },
    {
     "name": "stdout",
     "output_type": "stream",
     "text": [
      "--------------------------------------------------\n",
      "epoch 298: \n",
      "train loss : 0.008211719151586295 . \n",
      "validation loss : -0.35417336225509644 . \n",
      "--------------------------------------------------\n"
     ]
    },
    {
     "name": "stderr",
     "output_type": "stream",
     "text": [
      "                                                                              \r"
     ]
    },
    {
     "name": "stdout",
     "output_type": "stream",
     "text": [
      "--------------------------------------------------\n",
      "epoch 299: \n",
      "train loss : 0.007816851697862148 . \n",
      "validation loss : -0.3335239291191101 . \n",
      "--------------------------------------------------\n"
     ]
    },
    {
     "name": "stderr",
     "output_type": "stream",
     "text": [
      "                                                                              \r"
     ]
    },
    {
     "name": "stdout",
     "output_type": "stream",
     "text": [
      "--------------------------------------------------\n",
      "epoch 300: \n",
      "train loss : 0.008525970205664635 . \n",
      "validation loss : -0.3530654311180115 . \n",
      "--------------------------------------------------\n"
     ]
    },
    {
     "name": "stderr",
     "output_type": "stream",
     "text": [
      "                                                                              \r"
     ]
    },
    {
     "name": "stdout",
     "output_type": "stream",
     "text": [
      "--------------------------------------------------\n",
      "epoch 301: \n",
      "train loss : 0.008174782991409302 . \n",
      "validation loss : -0.3520427346229553 . \n",
      "--------------------------------------------------\n"
     ]
    },
    {
     "name": "stderr",
     "output_type": "stream",
     "text": [
      "                                                                              \r"
     ]
    },
    {
     "name": "stdout",
     "output_type": "stream",
     "text": [
      "--------------------------------------------------\n",
      "epoch 302: \n",
      "train loss : 0.008669872116297484 . \n",
      "validation loss : -0.3318967819213867 . \n",
      "--------------------------------------------------\n"
     ]
    },
    {
     "name": "stderr",
     "output_type": "stream",
     "text": [
      "                                                                              \r"
     ]
    },
    {
     "name": "stdout",
     "output_type": "stream",
     "text": [
      "--------------------------------------------------\n",
      "epoch 303: \n",
      "train loss : 0.00959732010960579 . \n",
      "validation loss : -0.3748486638069153 . \n",
      "--------------------------------------------------\n"
     ]
    },
    {
     "name": "stderr",
     "output_type": "stream",
     "text": [
      "                                                                              \r"
     ]
    },
    {
     "name": "stdout",
     "output_type": "stream",
     "text": [
      "--------------------------------------------------\n",
      "epoch 304: \n",
      "train loss : 0.008351896330714226 . \n",
      "validation loss : -0.3613884449005127 . \n",
      "--------------------------------------------------\n"
     ]
    },
    {
     "name": "stderr",
     "output_type": "stream",
     "text": [
      "                                                                              \r"
     ]
    },
    {
     "name": "stdout",
     "output_type": "stream",
     "text": [
      "--------------------------------------------------\n",
      "epoch 305: \n",
      "train loss : 0.008357726316899062 . \n",
      "validation loss : -0.3520641326904297 . \n",
      "--------------------------------------------------\n"
     ]
    },
    {
     "name": "stderr",
     "output_type": "stream",
     "text": [
      "                                                                              \r"
     ]
    },
    {
     "name": "stdout",
     "output_type": "stream",
     "text": [
      "--------------------------------------------------\n",
      "epoch 306: \n",
      "train loss : 0.00984981544315815 . \n",
      "validation loss : -0.35125410556793213 . \n",
      "--------------------------------------------------\n"
     ]
    },
    {
     "name": "stderr",
     "output_type": "stream",
     "text": [
      "                                                                              \r"
     ]
    },
    {
     "name": "stdout",
     "output_type": "stream",
     "text": [
      "--------------------------------------------------\n",
      "epoch 307: \n",
      "train loss : 0.009522502683103085 . \n",
      "validation loss : -0.3531332015991211 . \n",
      "--------------------------------------------------\n"
     ]
    },
    {
     "name": "stderr",
     "output_type": "stream",
     "text": [
      "                                                                              \r"
     ]
    },
    {
     "name": "stdout",
     "output_type": "stream",
     "text": [
      "--------------------------------------------------\n",
      "epoch 308: \n",
      "train loss : 0.009838163945823908 . \n",
      "validation loss : -0.34763890504837036 . \n",
      "--------------------------------------------------\n"
     ]
    },
    {
     "name": "stderr",
     "output_type": "stream",
     "text": [
      "                                                                              \r"
     ]
    },
    {
     "name": "stdout",
     "output_type": "stream",
     "text": [
      "--------------------------------------------------\n",
      "epoch 309: \n",
      "train loss : 0.009275051020085811 . \n",
      "validation loss : -0.3452635407447815 . \n",
      "--------------------------------------------------\n"
     ]
    },
    {
     "name": "stderr",
     "output_type": "stream",
     "text": [
      "                                                                              \r"
     ]
    },
    {
     "name": "stdout",
     "output_type": "stream",
     "text": [
      "--------------------------------------------------\n",
      "epoch 310: \n",
      "train loss : 0.008794188685715198 . \n",
      "validation loss : -0.34845948219299316 . \n",
      "--------------------------------------------------\n"
     ]
    },
    {
     "name": "stderr",
     "output_type": "stream",
     "text": [
      "                                                                              \r"
     ]
    },
    {
     "name": "stdout",
     "output_type": "stream",
     "text": [
      "--------------------------------------------------\n",
      "epoch 311: \n",
      "train loss : 0.008832903672009706 . \n",
      "validation loss : -0.3411816358566284 . \n",
      "--------------------------------------------------\n"
     ]
    },
    {
     "name": "stderr",
     "output_type": "stream",
     "text": [
      "                                                                              \r"
     ]
    },
    {
     "name": "stdout",
     "output_type": "stream",
     "text": [
      "--------------------------------------------------\n",
      "epoch 312: \n",
      "train loss : 0.009039937518537045 . \n",
      "validation loss : -0.3442085385322571 . \n",
      "--------------------------------------------------\n"
     ]
    },
    {
     "name": "stderr",
     "output_type": "stream",
     "text": [
      "                                                                              \r"
     ]
    },
    {
     "name": "stdout",
     "output_type": "stream",
     "text": [
      "--------------------------------------------------\n",
      "epoch 313: \n",
      "train loss : 0.008321521058678626 . \n",
      "validation loss : -0.35391080379486084 . \n",
      "--------------------------------------------------\n"
     ]
    },
    {
     "name": "stderr",
     "output_type": "stream",
     "text": [
      "                                                                              \r"
     ]
    },
    {
     "name": "stdout",
     "output_type": "stream",
     "text": [
      "--------------------------------------------------\n",
      "epoch 314: \n",
      "train loss : 0.010265150759369134 . \n",
      "validation loss : -0.3561999201774597 . \n",
      "--------------------------------------------------\n"
     ]
    },
    {
     "name": "stderr",
     "output_type": "stream",
     "text": [
      "                                                                              \r"
     ]
    },
    {
     "name": "stdout",
     "output_type": "stream",
     "text": [
      "--------------------------------------------------\n",
      "epoch 315: \n",
      "train loss : 0.008890892844647169 . \n",
      "validation loss : -0.3521261215209961 . \n",
      "--------------------------------------------------\n"
     ]
    },
    {
     "name": "stderr",
     "output_type": "stream",
     "text": [
      "                                                                              \r"
     ]
    },
    {
     "name": "stdout",
     "output_type": "stream",
     "text": [
      "--------------------------------------------------\n",
      "epoch 316: \n",
      "train loss : 0.00876848716288805 . \n",
      "validation loss : -0.3644120693206787 . \n",
      "--------------------------------------------------\n"
     ]
    },
    {
     "name": "stderr",
     "output_type": "stream",
     "text": [
      "                                                                              \r"
     ]
    },
    {
     "name": "stdout",
     "output_type": "stream",
     "text": [
      "--------------------------------------------------\n",
      "epoch 317: \n",
      "train loss : 0.010093512665480375 . \n",
      "validation loss : -0.33926379680633545 . \n",
      "--------------------------------------------------\n"
     ]
    },
    {
     "name": "stderr",
     "output_type": "stream",
     "text": [
      "                                                                              \r"
     ]
    },
    {
     "name": "stdout",
     "output_type": "stream",
     "text": [
      "--------------------------------------------------\n",
      "epoch 318: \n",
      "train loss : 0.008620854560285806 . \n",
      "validation loss : -0.34731459617614746 . \n",
      "--------------------------------------------------\n"
     ]
    },
    {
     "name": "stderr",
     "output_type": "stream",
     "text": [
      "                                                                              \r"
     ]
    },
    {
     "name": "stdout",
     "output_type": "stream",
     "text": [
      "--------------------------------------------------\n",
      "epoch 319: \n",
      "train loss : 0.009174107201397419 . \n",
      "validation loss : -0.35162216424942017 . \n",
      "--------------------------------------------------\n"
     ]
    },
    {
     "name": "stderr",
     "output_type": "stream",
     "text": [
      "                                                                              \r"
     ]
    },
    {
     "name": "stdout",
     "output_type": "stream",
     "text": [
      "--------------------------------------------------\n",
      "epoch 320: \n",
      "train loss : 0.008664843067526818 . \n",
      "validation loss : -0.3508757948875427 . \n",
      "--------------------------------------------------\n"
     ]
    },
    {
     "name": "stderr",
     "output_type": "stream",
     "text": [
      "                                                                              \r"
     ]
    },
    {
     "name": "stdout",
     "output_type": "stream",
     "text": [
      "--------------------------------------------------\n",
      "epoch 321: \n",
      "train loss : 0.008165771700441837 . \n",
      "validation loss : -0.34990066289901733 . \n",
      "--------------------------------------------------\n"
     ]
    },
    {
     "name": "stderr",
     "output_type": "stream",
     "text": [
      "                                                                              \r"
     ]
    },
    {
     "name": "stdout",
     "output_type": "stream",
     "text": [
      "--------------------------------------------------\n",
      "epoch 322: \n",
      "train loss : 0.009603853803128004 . \n",
      "validation loss : -0.3475491404533386 . \n",
      "--------------------------------------------------\n"
     ]
    },
    {
     "name": "stderr",
     "output_type": "stream",
     "text": [
      "                                                                              \r"
     ]
    },
    {
     "name": "stdout",
     "output_type": "stream",
     "text": [
      "--------------------------------------------------\n",
      "epoch 323: \n",
      "train loss : 0.008697313629090786 . \n",
      "validation loss : -0.33925914764404297 . \n",
      "--------------------------------------------------\n"
     ]
    },
    {
     "name": "stderr",
     "output_type": "stream",
     "text": [
      "                                                                              \r"
     ]
    },
    {
     "name": "stdout",
     "output_type": "stream",
     "text": [
      "--------------------------------------------------\n",
      "epoch 324: \n",
      "train loss : 0.00864086179062724 . \n",
      "validation loss : -0.36053943634033203 . \n",
      "--------------------------------------------------\n"
     ]
    },
    {
     "name": "stderr",
     "output_type": "stream",
     "text": [
      "                                                                              \r"
     ]
    },
    {
     "name": "stdout",
     "output_type": "stream",
     "text": [
      "--------------------------------------------------\n",
      "epoch 325: \n",
      "train loss : 0.008079598192125559 . \n",
      "validation loss : -0.34893280267715454 . \n",
      "--------------------------------------------------\n"
     ]
    },
    {
     "name": "stderr",
     "output_type": "stream",
     "text": [
      "                                                                              \r"
     ]
    },
    {
     "name": "stdout",
     "output_type": "stream",
     "text": [
      "--------------------------------------------------\n",
      "epoch 326: \n",
      "train loss : 0.007832580339163541 . \n",
      "validation loss : -0.3401716351509094 . \n",
      "--------------------------------------------------\n"
     ]
    },
    {
     "name": "stderr",
     "output_type": "stream",
     "text": [
      "                                                                              \r"
     ]
    },
    {
     "name": "stdout",
     "output_type": "stream",
     "text": [
      "--------------------------------------------------\n",
      "epoch 327: \n",
      "train loss : 0.007664982695132494 . \n",
      "validation loss : -0.3727037310600281 . \n",
      "--------------------------------------------------\n"
     ]
    },
    {
     "name": "stderr",
     "output_type": "stream",
     "text": [
      "                                                                              \r"
     ]
    },
    {
     "name": "stdout",
     "output_type": "stream",
     "text": [
      "--------------------------------------------------\n",
      "epoch 328: \n",
      "train loss : 0.008957971073687076 . \n",
      "validation loss : -0.3189921975135803 . \n",
      "--------------------------------------------------\n"
     ]
    },
    {
     "name": "stderr",
     "output_type": "stream",
     "text": [
      "                                                                              \r"
     ]
    },
    {
     "name": "stdout",
     "output_type": "stream",
     "text": [
      "--------------------------------------------------\n",
      "epoch 329: \n",
      "train loss : 0.009542919415980577 . \n",
      "validation loss : -0.3585849404335022 . \n",
      "--------------------------------------------------\n"
     ]
    },
    {
     "name": "stderr",
     "output_type": "stream",
     "text": [
      "                                                                              \r"
     ]
    },
    {
     "name": "stdout",
     "output_type": "stream",
     "text": [
      "--------------------------------------------------\n",
      "epoch 330: \n",
      "train loss : 0.008750257920473814 . \n",
      "validation loss : -0.3592134118080139 . \n",
      "--------------------------------------------------\n"
     ]
    },
    {
     "name": "stderr",
     "output_type": "stream",
     "text": [
      "                                                                              \r"
     ]
    },
    {
     "name": "stdout",
     "output_type": "stream",
     "text": [
      "--------------------------------------------------\n",
      "epoch 331: \n",
      "train loss : 0.008554109930992126 . \n",
      "validation loss : -0.34557998180389404 . \n",
      "--------------------------------------------------\n"
     ]
    },
    {
     "name": "stderr",
     "output_type": "stream",
     "text": [
      "                                                                              \r"
     ]
    },
    {
     "name": "stdout",
     "output_type": "stream",
     "text": [
      "--------------------------------------------------\n",
      "epoch 332: \n",
      "train loss : 0.007850234024226665 . \n",
      "validation loss : -0.3410717844963074 . \n",
      "--------------------------------------------------\n"
     ]
    },
    {
     "name": "stderr",
     "output_type": "stream",
     "text": [
      "                                                                              \r"
     ]
    },
    {
     "name": "stdout",
     "output_type": "stream",
     "text": [
      "--------------------------------------------------\n",
      "epoch 333: \n",
      "train loss : 0.008657250553369522 . \n",
      "validation loss : -0.35160499811172485 . \n",
      "--------------------------------------------------\n"
     ]
    },
    {
     "name": "stderr",
     "output_type": "stream",
     "text": [
      "                                                                              \r"
     ]
    },
    {
     "name": "stdout",
     "output_type": "stream",
     "text": [
      "--------------------------------------------------\n",
      "epoch 334: \n",
      "train loss : 0.0077367998659610745 . \n",
      "validation loss : -0.3318355083465576 . \n",
      "--------------------------------------------------\n"
     ]
    },
    {
     "name": "stderr",
     "output_type": "stream",
     "text": [
      "                                                                              \r"
     ]
    },
    {
     "name": "stdout",
     "output_type": "stream",
     "text": [
      "--------------------------------------------------\n",
      "epoch 335: \n",
      "train loss : 0.008790388237684965 . \n",
      "validation loss : -0.36180365085601807 . \n",
      "--------------------------------------------------\n"
     ]
    },
    {
     "name": "stderr",
     "output_type": "stream",
     "text": [
      "                                                                              \r"
     ]
    },
    {
     "name": "stdout",
     "output_type": "stream",
     "text": [
      "--------------------------------------------------\n",
      "epoch 336: \n",
      "train loss : 0.008659961353987455 . \n",
      "validation loss : -0.3426041007041931 . \n",
      "--------------------------------------------------\n"
     ]
    },
    {
     "name": "stderr",
     "output_type": "stream",
     "text": [
      "                                                                              \r"
     ]
    },
    {
     "name": "stdout",
     "output_type": "stream",
     "text": [
      "--------------------------------------------------\n",
      "epoch 337: \n",
      "train loss : 0.009012923762202262 . \n",
      "validation loss : -0.3414517641067505 . \n",
      "--------------------------------------------------\n"
     ]
    },
    {
     "name": "stderr",
     "output_type": "stream",
     "text": [
      "                                                                              \r"
     ]
    },
    {
     "name": "stdout",
     "output_type": "stream",
     "text": [
      "--------------------------------------------------\n",
      "epoch 338: \n",
      "train loss : 0.00797961074858904 . \n",
      "validation loss : -0.3333180546760559 . \n",
      "--------------------------------------------------\n"
     ]
    },
    {
     "name": "stderr",
     "output_type": "stream",
     "text": [
      "                                                                              \r"
     ]
    },
    {
     "name": "stdout",
     "output_type": "stream",
     "text": [
      "--------------------------------------------------\n",
      "epoch 339: \n",
      "train loss : 0.007574945129454136 . \n",
      "validation loss : -0.3600725531578064 . \n",
      "--------------------------------------------------\n"
     ]
    },
    {
     "name": "stderr",
     "output_type": "stream",
     "text": [
      "                                                                              \r"
     ]
    },
    {
     "name": "stdout",
     "output_type": "stream",
     "text": [
      "--------------------------------------------------\n",
      "epoch 340: \n",
      "train loss : 0.007504570344462991 . \n",
      "validation loss : -0.34199684858322144 . \n",
      "--------------------------------------------------\n"
     ]
    },
    {
     "name": "stderr",
     "output_type": "stream",
     "text": [
      "                                                                              \r"
     ]
    },
    {
     "name": "stdout",
     "output_type": "stream",
     "text": [
      "--------------------------------------------------\n",
      "epoch 341: \n",
      "train loss : 0.00776292746886611 . \n",
      "validation loss : -0.34734857082366943 . \n",
      "--------------------------------------------------\n"
     ]
    },
    {
     "name": "stderr",
     "output_type": "stream",
     "text": [
      "                                                                              \r"
     ]
    },
    {
     "name": "stdout",
     "output_type": "stream",
     "text": [
      "--------------------------------------------------\n",
      "epoch 342: \n",
      "train loss : 0.008480305783450603 . \n",
      "validation loss : -0.34108656644821167 . \n",
      "--------------------------------------------------\n"
     ]
    },
    {
     "name": "stderr",
     "output_type": "stream",
     "text": [
      "                                                                              \r"
     ]
    },
    {
     "name": "stdout",
     "output_type": "stream",
     "text": [
      "--------------------------------------------------\n",
      "epoch 343: \n",
      "train loss : 0.008307269075885415 . \n",
      "validation loss : -0.3537719249725342 . \n",
      "--------------------------------------------------\n"
     ]
    },
    {
     "name": "stderr",
     "output_type": "stream",
     "text": [
      "                                                                              \r"
     ]
    },
    {
     "name": "stdout",
     "output_type": "stream",
     "text": [
      "--------------------------------------------------\n",
      "epoch 344: \n",
      "train loss : 0.007521973084658384 . \n",
      "validation loss : -0.35772109031677246 . \n",
      "--------------------------------------------------\n"
     ]
    },
    {
     "name": "stderr",
     "output_type": "stream",
     "text": [
      "                                                                              \r"
     ]
    },
    {
     "name": "stdout",
     "output_type": "stream",
     "text": [
      "--------------------------------------------------\n",
      "epoch 345: \n",
      "train loss : 0.009491756930947304 . \n",
      "validation loss : -0.344643771648407 . \n",
      "--------------------------------------------------\n"
     ]
    },
    {
     "name": "stderr",
     "output_type": "stream",
     "text": [
      "                                                                              \r"
     ]
    },
    {
     "name": "stdout",
     "output_type": "stream",
     "text": [
      "--------------------------------------------------\n",
      "epoch 346: \n",
      "train loss : 0.007929438259452581 . \n",
      "validation loss : -0.33412593603134155 . \n",
      "--------------------------------------------------\n"
     ]
    },
    {
     "name": "stderr",
     "output_type": "stream",
     "text": [
      "                                                                              \r"
     ]
    },
    {
     "name": "stdout",
     "output_type": "stream",
     "text": [
      "--------------------------------------------------\n",
      "epoch 347: \n",
      "train loss : 0.008617133647203446 . \n",
      "validation loss : -0.34737634658813477 . \n",
      "--------------------------------------------------\n"
     ]
    },
    {
     "name": "stderr",
     "output_type": "stream",
     "text": [
      "                                                                              \r"
     ]
    },
    {
     "name": "stdout",
     "output_type": "stream",
     "text": [
      "--------------------------------------------------\n",
      "epoch 348: \n",
      "train loss : 0.008214916754513978 . \n",
      "validation loss : -0.33305299282073975 . \n",
      "--------------------------------------------------\n"
     ]
    },
    {
     "name": "stderr",
     "output_type": "stream",
     "text": [
      "                                                                              \r"
     ]
    },
    {
     "name": "stdout",
     "output_type": "stream",
     "text": [
      "--------------------------------------------------\n",
      "epoch 349: \n",
      "train loss : 0.007335482817143202 . \n",
      "validation loss : -0.3402668237686157 . \n",
      "--------------------------------------------------\n"
     ]
    },
    {
     "name": "stderr",
     "output_type": "stream",
     "text": [
      "                                                                              \r"
     ]
    },
    {
     "name": "stdout",
     "output_type": "stream",
     "text": [
      "--------------------------------------------------\n",
      "epoch 350: \n",
      "train loss : 0.007604968920350075 . \n",
      "validation loss : -0.3427935838699341 . \n",
      "--------------------------------------------------\n"
     ]
    },
    {
     "name": "stderr",
     "output_type": "stream",
     "text": [
      "                                                                              \r"
     ]
    },
    {
     "name": "stdout",
     "output_type": "stream",
     "text": [
      "--------------------------------------------------\n",
      "epoch 351: \n",
      "train loss : 0.010479189269244672 . \n",
      "validation loss : -0.3286454677581787 . \n",
      "--------------------------------------------------\n"
     ]
    },
    {
     "name": "stderr",
     "output_type": "stream",
     "text": [
      "                                                                              \r"
     ]
    },
    {
     "name": "stdout",
     "output_type": "stream",
     "text": [
      "--------------------------------------------------\n",
      "epoch 352: \n",
      "train loss : 0.00807225275784731 . \n",
      "validation loss : -0.3550789952278137 . \n",
      "--------------------------------------------------\n"
     ]
    },
    {
     "name": "stderr",
     "output_type": "stream",
     "text": [
      "                                                                              \r"
     ]
    },
    {
     "name": "stdout",
     "output_type": "stream",
     "text": [
      "--------------------------------------------------\n",
      "epoch 353: \n",
      "train loss : 0.008151664678007365 . \n",
      "validation loss : -0.347379207611084 . \n",
      "--------------------------------------------------\n"
     ]
    },
    {
     "name": "stderr",
     "output_type": "stream",
     "text": [
      "                                                                              \r"
     ]
    },
    {
     "name": "stdout",
     "output_type": "stream",
     "text": [
      "--------------------------------------------------\n",
      "epoch 354: \n",
      "train loss : 0.008451828360557556 . \n",
      "validation loss : -0.3473401665687561 . \n",
      "--------------------------------------------------\n"
     ]
    },
    {
     "name": "stderr",
     "output_type": "stream",
     "text": [
      "                                                                              \r"
     ]
    },
    {
     "name": "stdout",
     "output_type": "stream",
     "text": [
      "--------------------------------------------------\n",
      "epoch 355: \n",
      "train loss : 0.0077212188392877575 . \n",
      "validation loss : -0.35843414068222046 . \n",
      "--------------------------------------------------\n"
     ]
    },
    {
     "name": "stderr",
     "output_type": "stream",
     "text": [
      "                                                                              \r"
     ]
    },
    {
     "name": "stdout",
     "output_type": "stream",
     "text": [
      "--------------------------------------------------\n",
      "epoch 356: \n",
      "train loss : 0.00843334263190627 . \n",
      "validation loss : -0.3301633596420288 . \n",
      "--------------------------------------------------\n"
     ]
    },
    {
     "name": "stderr",
     "output_type": "stream",
     "text": [
      "                                                                              \r"
     ]
    },
    {
     "name": "stdout",
     "output_type": "stream",
     "text": [
      "--------------------------------------------------\n",
      "epoch 357: \n",
      "train loss : 0.008587037771940231 . \n",
      "validation loss : -0.33892154693603516 . \n",
      "--------------------------------------------------\n"
     ]
    },
    {
     "name": "stderr",
     "output_type": "stream",
     "text": [
      "                                                                              \r"
     ]
    },
    {
     "name": "stdout",
     "output_type": "stream",
     "text": [
      "--------------------------------------------------\n",
      "epoch 358: \n",
      "train loss : 0.008450455404818058 . \n",
      "validation loss : -0.34273046255111694 . \n",
      "--------------------------------------------------\n"
     ]
    },
    {
     "name": "stderr",
     "output_type": "stream",
     "text": [
      "                                                                              \r"
     ]
    },
    {
     "name": "stdout",
     "output_type": "stream",
     "text": [
      "--------------------------------------------------\n",
      "epoch 359: \n",
      "train loss : 0.008330549858510495 . \n",
      "validation loss : -0.3370152711868286 . \n",
      "--------------------------------------------------\n"
     ]
    },
    {
     "name": "stderr",
     "output_type": "stream",
     "text": [
      "                                                                              \r"
     ]
    },
    {
     "name": "stdout",
     "output_type": "stream",
     "text": [
      "--------------------------------------------------\n",
      "epoch 360: \n",
      "train loss : 0.008148983586579561 . \n",
      "validation loss : -0.342750608921051 . \n",
      "--------------------------------------------------\n"
     ]
    },
    {
     "name": "stderr",
     "output_type": "stream",
     "text": [
      "                                                                              \r"
     ]
    },
    {
     "name": "stdout",
     "output_type": "stream",
     "text": [
      "--------------------------------------------------\n",
      "epoch 361: \n",
      "train loss : 0.007676897849887609 . \n",
      "validation loss : -0.346632182598114 . \n",
      "--------------------------------------------------\n"
     ]
    },
    {
     "name": "stderr",
     "output_type": "stream",
     "text": [
      "                                                                              \r"
     ]
    },
    {
     "name": "stdout",
     "output_type": "stream",
     "text": [
      "--------------------------------------------------\n",
      "epoch 362: \n",
      "train loss : 0.007991776056587695 . \n",
      "validation loss : -0.33705562353134155 . \n",
      "--------------------------------------------------\n"
     ]
    },
    {
     "name": "stderr",
     "output_type": "stream",
     "text": [
      "                                                                              \r"
     ]
    },
    {
     "name": "stdout",
     "output_type": "stream",
     "text": [
      "--------------------------------------------------\n",
      "epoch 363: \n",
      "train loss : 0.007717874366790056 . \n",
      "validation loss : -0.3422941565513611 . \n",
      "--------------------------------------------------\n"
     ]
    },
    {
     "name": "stderr",
     "output_type": "stream",
     "text": [
      "                                                                              \r"
     ]
    },
    {
     "name": "stdout",
     "output_type": "stream",
     "text": [
      "--------------------------------------------------\n",
      "epoch 364: \n",
      "train loss : 0.007554544415324926 . \n",
      "validation loss : -0.3500954508781433 . \n",
      "--------------------------------------------------\n"
     ]
    },
    {
     "name": "stderr",
     "output_type": "stream",
     "text": [
      "                                                                              \r"
     ]
    },
    {
     "name": "stdout",
     "output_type": "stream",
     "text": [
      "--------------------------------------------------\n",
      "epoch 365: \n",
      "train loss : 0.007728956080973149 . \n",
      "validation loss : -0.3361678123474121 . \n",
      "--------------------------------------------------\n"
     ]
    },
    {
     "name": "stderr",
     "output_type": "stream",
     "text": [
      "                                                                              \r"
     ]
    },
    {
     "name": "stdout",
     "output_type": "stream",
     "text": [
      "--------------------------------------------------\n",
      "epoch 366: \n",
      "train loss : 0.007247036136686802 . \n",
      "validation loss : -0.35648632049560547 . \n",
      "--------------------------------------------------\n"
     ]
    },
    {
     "name": "stderr",
     "output_type": "stream",
     "text": [
      "                                                                              \r"
     ]
    },
    {
     "name": "stdout",
     "output_type": "stream",
     "text": [
      "--------------------------------------------------\n",
      "epoch 367: \n",
      "train loss : 0.007967927027493715 . \n",
      "validation loss : -0.35246652364730835 . \n",
      "--------------------------------------------------\n"
     ]
    },
    {
     "name": "stderr",
     "output_type": "stream",
     "text": [
      "                                                                              \r"
     ]
    },
    {
     "name": "stdout",
     "output_type": "stream",
     "text": [
      "--------------------------------------------------\n",
      "epoch 368: \n",
      "train loss : 0.008723993971943855 . \n",
      "validation loss : -0.32478904724121094 . \n",
      "--------------------------------------------------\n"
     ]
    },
    {
     "name": "stderr",
     "output_type": "stream",
     "text": [
      "                                                                              \r"
     ]
    },
    {
     "name": "stdout",
     "output_type": "stream",
     "text": [
      "--------------------------------------------------\n",
      "epoch 369: \n",
      "train loss : 0.008129090163856744 . \n",
      "validation loss : -0.3381918668746948 . \n",
      "--------------------------------------------------\n"
     ]
    },
    {
     "name": "stderr",
     "output_type": "stream",
     "text": [
      "                                                                              \r"
     ]
    },
    {
     "name": "stdout",
     "output_type": "stream",
     "text": [
      "--------------------------------------------------\n",
      "epoch 370: \n",
      "train loss : 0.00816481001675129 . \n",
      "validation loss : -0.339857280254364 . \n",
      "--------------------------------------------------\n"
     ]
    },
    {
     "name": "stderr",
     "output_type": "stream",
     "text": [
      "                                                                              \r"
     ]
    },
    {
     "name": "stdout",
     "output_type": "stream",
     "text": [
      "--------------------------------------------------\n",
      "epoch 371: \n",
      "train loss : 0.007931543793529273 . \n",
      "validation loss : -0.32902663946151733 . \n",
      "--------------------------------------------------\n"
     ]
    },
    {
     "name": "stderr",
     "output_type": "stream",
     "text": [
      "                                                                              \r"
     ]
    },
    {
     "name": "stdout",
     "output_type": "stream",
     "text": [
      "--------------------------------------------------\n",
      "epoch 372: \n",
      "train loss : 0.009328074753284454 . \n",
      "validation loss : -0.3358210325241089 . \n",
      "--------------------------------------------------\n"
     ]
    },
    {
     "name": "stderr",
     "output_type": "stream",
     "text": [
      "                                                                              \r"
     ]
    },
    {
     "name": "stdout",
     "output_type": "stream",
     "text": [
      "--------------------------------------------------\n",
      "epoch 373: \n",
      "train loss : 0.007400573045015335 . \n",
      "validation loss : -0.34349650144577026 . \n",
      "--------------------------------------------------\n"
     ]
    },
    {
     "name": "stderr",
     "output_type": "stream",
     "text": [
      "                                                                              \r"
     ]
    },
    {
     "name": "stdout",
     "output_type": "stream",
     "text": [
      "--------------------------------------------------\n",
      "epoch 374: \n",
      "train loss : 0.00744155552238226 . \n",
      "validation loss : -0.3307369351387024 . \n",
      "--------------------------------------------------\n"
     ]
    },
    {
     "name": "stderr",
     "output_type": "stream",
     "text": [
      "                                                                              \r"
     ]
    },
    {
     "name": "stdout",
     "output_type": "stream",
     "text": [
      "--------------------------------------------------\n",
      "epoch 375: \n",
      "train loss : 0.006636709719896316 . \n",
      "validation loss : -0.3457310199737549 . \n",
      "--------------------------------------------------\n"
     ]
    },
    {
     "name": "stderr",
     "output_type": "stream",
     "text": [
      "                                                                              \r"
     ]
    },
    {
     "name": "stdout",
     "output_type": "stream",
     "text": [
      "--------------------------------------------------\n",
      "epoch 376: \n",
      "train loss : 0.007498809555545449 . \n",
      "validation loss : -0.3347563147544861 . \n",
      "--------------------------------------------------\n"
     ]
    },
    {
     "name": "stderr",
     "output_type": "stream",
     "text": [
      "                                                                              \r"
     ]
    },
    {
     "name": "stdout",
     "output_type": "stream",
     "text": [
      "--------------------------------------------------\n",
      "epoch 377: \n",
      "train loss : 0.007198524568229914 . \n",
      "validation loss : -0.34222686290740967 . \n",
      "--------------------------------------------------\n"
     ]
    },
    {
     "name": "stderr",
     "output_type": "stream",
     "text": [
      "                                                                              \r"
     ]
    },
    {
     "name": "stdout",
     "output_type": "stream",
     "text": [
      "--------------------------------------------------\n",
      "epoch 378: \n",
      "train loss : 0.007538800872862339 . \n",
      "validation loss : -0.34333181381225586 . \n",
      "--------------------------------------------------\n"
     ]
    },
    {
     "name": "stderr",
     "output_type": "stream",
     "text": [
      "                                                                              \r"
     ]
    },
    {
     "name": "stdout",
     "output_type": "stream",
     "text": [
      "--------------------------------------------------\n",
      "epoch 379: \n",
      "train loss : 0.007603720389306545 . \n",
      "validation loss : -0.3329930901527405 . \n",
      "--------------------------------------------------\n"
     ]
    },
    {
     "name": "stderr",
     "output_type": "stream",
     "text": [
      "                                                                              \r"
     ]
    },
    {
     "name": "stdout",
     "output_type": "stream",
     "text": [
      "--------------------------------------------------\n",
      "epoch 380: \n",
      "train loss : 0.0070517105050385 . \n",
      "validation loss : -0.3498210310935974 . \n",
      "--------------------------------------------------\n"
     ]
    },
    {
     "name": "stderr",
     "output_type": "stream",
     "text": [
      "                                                                              \r"
     ]
    },
    {
     "name": "stdout",
     "output_type": "stream",
     "text": [
      "--------------------------------------------------\n",
      "epoch 381: \n",
      "train loss : 0.008104932587593794 . \n",
      "validation loss : -0.3353455662727356 . \n",
      "--------------------------------------------------\n"
     ]
    },
    {
     "name": "stderr",
     "output_type": "stream",
     "text": [
      "                                                                              \r"
     ]
    },
    {
     "name": "stdout",
     "output_type": "stream",
     "text": [
      "--------------------------------------------------\n",
      "epoch 382: \n",
      "train loss : 0.0074945900589227675 . \n",
      "validation loss : -0.3259379267692566 . \n",
      "--------------------------------------------------\n"
     ]
    },
    {
     "name": "stderr",
     "output_type": "stream",
     "text": [
      "                                                                              \r"
     ]
    },
    {
     "name": "stdout",
     "output_type": "stream",
     "text": [
      "--------------------------------------------------\n",
      "epoch 383: \n",
      "train loss : 0.007485843915492296 . \n",
      "validation loss : -0.3365192413330078 . \n",
      "--------------------------------------------------\n"
     ]
    },
    {
     "name": "stderr",
     "output_type": "stream",
     "text": [
      "                                                                              \r"
     ]
    },
    {
     "name": "stdout",
     "output_type": "stream",
     "text": [
      "--------------------------------------------------\n",
      "epoch 384: \n",
      "train loss : 0.006847824295982718 . \n",
      "validation loss : -0.3424708843231201 . \n",
      "--------------------------------------------------\n"
     ]
    },
    {
     "name": "stderr",
     "output_type": "stream",
     "text": [
      "                                                                              \r"
     ]
    },
    {
     "name": "stdout",
     "output_type": "stream",
     "text": [
      "--------------------------------------------------\n",
      "epoch 385: \n",
      "train loss : 0.008202576451003552 . \n",
      "validation loss : -0.32873696088790894 . \n",
      "--------------------------------------------------\n"
     ]
    },
    {
     "name": "stderr",
     "output_type": "stream",
     "text": [
      "                                                                              \r"
     ]
    },
    {
     "name": "stdout",
     "output_type": "stream",
     "text": [
      "--------------------------------------------------\n",
      "epoch 386: \n",
      "train loss : 0.007672396022826433 . \n",
      "validation loss : -0.3392667770385742 . \n",
      "--------------------------------------------------\n"
     ]
    },
    {
     "name": "stderr",
     "output_type": "stream",
     "text": [
      "                                                                              \r"
     ]
    },
    {
     "name": "stdout",
     "output_type": "stream",
     "text": [
      "--------------------------------------------------\n",
      "epoch 387: \n",
      "train loss : 0.006570346606895328 . \n",
      "validation loss : -0.3410683274269104 . \n",
      "--------------------------------------------------\n"
     ]
    },
    {
     "name": "stderr",
     "output_type": "stream",
     "text": [
      "                                                                              \r"
     ]
    },
    {
     "name": "stdout",
     "output_type": "stream",
     "text": [
      "--------------------------------------------------\n",
      "epoch 388: \n",
      "train loss : 0.006716034794226289 . \n",
      "validation loss : -0.3370334506034851 . \n",
      "--------------------------------------------------\n"
     ]
    },
    {
     "name": "stderr",
     "output_type": "stream",
     "text": [
      "                                                                              \r"
     ]
    },
    {
     "name": "stdout",
     "output_type": "stream",
     "text": [
      "--------------------------------------------------\n",
      "epoch 389: \n",
      "train loss : 0.008351000677794217 . \n",
      "validation loss : -0.331476628780365 . \n",
      "--------------------------------------------------\n"
     ]
    },
    {
     "name": "stderr",
     "output_type": "stream",
     "text": [
      "                                                                              \r"
     ]
    },
    {
     "name": "stdout",
     "output_type": "stream",
     "text": [
      "--------------------------------------------------\n",
      "epoch 390: \n",
      "train loss : 0.007496360689401627 . \n",
      "validation loss : -0.3252742886543274 . \n",
      "--------------------------------------------------\n"
     ]
    },
    {
     "name": "stderr",
     "output_type": "stream",
     "text": [
      "                                                                              \r"
     ]
    },
    {
     "name": "stdout",
     "output_type": "stream",
     "text": [
      "--------------------------------------------------\n",
      "epoch 391: \n",
      "train loss : 0.006675597280263901 . \n",
      "validation loss : -0.34549611806869507 . \n",
      "--------------------------------------------------\n"
     ]
    },
    {
     "name": "stderr",
     "output_type": "stream",
     "text": [
      "                                                                              \r"
     ]
    },
    {
     "name": "stdout",
     "output_type": "stream",
     "text": [
      "--------------------------------------------------\n",
      "epoch 392: \n",
      "train loss : 0.006834944803267717 . \n",
      "validation loss : -0.3408694863319397 . \n",
      "--------------------------------------------------\n"
     ]
    },
    {
     "name": "stderr",
     "output_type": "stream",
     "text": [
      "                                                                              \r"
     ]
    },
    {
     "name": "stdout",
     "output_type": "stream",
     "text": [
      "--------------------------------------------------\n",
      "epoch 393: \n",
      "train loss : 0.007200778834521771 . \n",
      "validation loss : -0.33346354961395264 . \n",
      "--------------------------------------------------\n"
     ]
    },
    {
     "name": "stderr",
     "output_type": "stream",
     "text": [
      "                                                                              \r"
     ]
    },
    {
     "name": "stdout",
     "output_type": "stream",
     "text": [
      "--------------------------------------------------\n",
      "epoch 394: \n",
      "train loss : 0.0073335133492946625 . \n",
      "validation loss : -0.35265159606933594 . \n",
      "--------------------------------------------------\n"
     ]
    },
    {
     "name": "stderr",
     "output_type": "stream",
     "text": [
      "                                                                              \r"
     ]
    },
    {
     "name": "stdout",
     "output_type": "stream",
     "text": [
      "--------------------------------------------------\n",
      "epoch 395: \n",
      "train loss : 0.007044455362483859 . \n",
      "validation loss : -0.3249281644821167 . \n",
      "--------------------------------------------------\n"
     ]
    },
    {
     "name": "stderr",
     "output_type": "stream",
     "text": [
      "                                                                              \r"
     ]
    },
    {
     "name": "stdout",
     "output_type": "stream",
     "text": [
      "--------------------------------------------------\n",
      "epoch 396: \n",
      "train loss : 0.007262685708701611 . \n",
      "validation loss : -0.3333956003189087 . \n",
      "--------------------------------------------------\n"
     ]
    },
    {
     "name": "stderr",
     "output_type": "stream",
     "text": [
      "                                                                              \r"
     ]
    },
    {
     "name": "stdout",
     "output_type": "stream",
     "text": [
      "--------------------------------------------------\n",
      "epoch 397: \n",
      "train loss : 0.007390112010762095 . \n",
      "validation loss : -0.3368838429450989 . \n",
      "--------------------------------------------------\n"
     ]
    },
    {
     "name": "stderr",
     "output_type": "stream",
     "text": [
      "                                                                              \r"
     ]
    },
    {
     "name": "stdout",
     "output_type": "stream",
     "text": [
      "--------------------------------------------------\n",
      "epoch 398: \n",
      "train loss : 0.007109137251973152 . \n",
      "validation loss : -0.3351403474807739 . \n",
      "--------------------------------------------------\n"
     ]
    },
    {
     "name": "stderr",
     "output_type": "stream",
     "text": [
      "                                                                              \r"
     ]
    },
    {
     "name": "stdout",
     "output_type": "stream",
     "text": [
      "--------------------------------------------------\n",
      "epoch 399: \n",
      "train loss : 0.007542229536920786 . \n",
      "validation loss : -0.3393431305885315 . \n",
      "--------------------------------------------------\n"
     ]
    },
    {
     "name": "stderr",
     "output_type": "stream",
     "text": [
      "                                                                              \r"
     ]
    },
    {
     "name": "stdout",
     "output_type": "stream",
     "text": [
      "--------------------------------------------------\n",
      "epoch 400: \n",
      "train loss : 0.0071464842185378075 . \n",
      "validation loss : -0.3259274363517761 . \n",
      "--------------------------------------------------\n"
     ]
    },
    {
     "name": "stderr",
     "output_type": "stream",
     "text": [
      "                                                                              \r"
     ]
    },
    {
     "name": "stdout",
     "output_type": "stream",
     "text": [
      "--------------------------------------------------\n",
      "epoch 401: \n",
      "train loss : 0.007680329121649265 . \n",
      "validation loss : -0.337882399559021 . \n",
      "--------------------------------------------------\n"
     ]
    },
    {
     "name": "stderr",
     "output_type": "stream",
     "text": [
      "                                                                              \r"
     ]
    },
    {
     "name": "stdout",
     "output_type": "stream",
     "text": [
      "--------------------------------------------------\n",
      "epoch 402: \n",
      "train loss : 0.006746561964973807 . \n",
      "validation loss : -0.34554558992385864 . \n",
      "--------------------------------------------------\n"
     ]
    },
    {
     "name": "stderr",
     "output_type": "stream",
     "text": [
      "                                                                              \r"
     ]
    },
    {
     "name": "stdout",
     "output_type": "stream",
     "text": [
      "--------------------------------------------------\n",
      "epoch 403: \n",
      "train loss : 0.007338069099932909 . \n",
      "validation loss : -0.3273155689239502 . \n",
      "--------------------------------------------------\n"
     ]
    },
    {
     "name": "stderr",
     "output_type": "stream",
     "text": [
      "                                                                              \r"
     ]
    },
    {
     "name": "stdout",
     "output_type": "stream",
     "text": [
      "--------------------------------------------------\n",
      "epoch 404: \n",
      "train loss : 0.007573679275810719 . \n",
      "validation loss : -0.3287845253944397 . \n",
      "--------------------------------------------------\n"
     ]
    },
    {
     "name": "stderr",
     "output_type": "stream",
     "text": [
      "                                                                              \r"
     ]
    },
    {
     "name": "stdout",
     "output_type": "stream",
     "text": [
      "--------------------------------------------------\n",
      "epoch 405: \n",
      "train loss : 0.0081517918035388 . \n",
      "validation loss : -0.3181416988372803 . \n",
      "--------------------------------------------------\n"
     ]
    },
    {
     "name": "stderr",
     "output_type": "stream",
     "text": [
      "                                                                              \r"
     ]
    },
    {
     "name": "stdout",
     "output_type": "stream",
     "text": [
      "--------------------------------------------------\n",
      "epoch 406: \n",
      "train loss : 0.007902883226051927 . \n",
      "validation loss : -0.33128851652145386 . \n",
      "--------------------------------------------------\n"
     ]
    },
    {
     "name": "stderr",
     "output_type": "stream",
     "text": [
      "                                                                              \r"
     ]
    },
    {
     "name": "stdout",
     "output_type": "stream",
     "text": [
      "--------------------------------------------------\n",
      "epoch 407: \n",
      "train loss : 0.0075061204843223095 . \n",
      "validation loss : -0.3425159454345703 . \n",
      "--------------------------------------------------\n"
     ]
    },
    {
     "name": "stderr",
     "output_type": "stream",
     "text": [
      "                                                                              \r"
     ]
    },
    {
     "name": "stdout",
     "output_type": "stream",
     "text": [
      "--------------------------------------------------\n",
      "epoch 408: \n",
      "train loss : 0.007483647391200066 . \n",
      "validation loss : -0.33061683177948 . \n",
      "--------------------------------------------------\n"
     ]
    },
    {
     "name": "stderr",
     "output_type": "stream",
     "text": [
      "                                                                              \r"
     ]
    },
    {
     "name": "stdout",
     "output_type": "stream",
     "text": [
      "--------------------------------------------------\n",
      "epoch 409: \n",
      "train loss : 0.007709765061736107 . \n",
      "validation loss : -0.3427085876464844 . \n",
      "--------------------------------------------------\n"
     ]
    },
    {
     "name": "stderr",
     "output_type": "stream",
     "text": [
      "                                                                              \r"
     ]
    },
    {
     "name": "stdout",
     "output_type": "stream",
     "text": [
      "--------------------------------------------------\n",
      "epoch 410: \n",
      "train loss : 0.00781336547806859 . \n",
      "validation loss : -0.3419395089149475 . \n",
      "--------------------------------------------------\n"
     ]
    },
    {
     "name": "stderr",
     "output_type": "stream",
     "text": [
      "                                                                              \r"
     ]
    },
    {
     "name": "stdout",
     "output_type": "stream",
     "text": [
      "--------------------------------------------------\n",
      "epoch 411: \n",
      "train loss : 0.007336224056780338 . \n",
      "validation loss : -0.3293420076370239 . \n",
      "--------------------------------------------------\n"
     ]
    },
    {
     "name": "stderr",
     "output_type": "stream",
     "text": [
      "                                                                              \r"
     ]
    },
    {
     "name": "stdout",
     "output_type": "stream",
     "text": [
      "--------------------------------------------------\n",
      "epoch 412: \n",
      "train loss : 0.00860001789405942 . \n",
      "validation loss : -0.35353636741638184 . \n",
      "--------------------------------------------------\n"
     ]
    },
    {
     "name": "stderr",
     "output_type": "stream",
     "text": [
      "                                                                              \r"
     ]
    },
    {
     "name": "stdout",
     "output_type": "stream",
     "text": [
      "--------------------------------------------------\n",
      "epoch 413: \n",
      "train loss : 0.007979853544384241 . \n",
      "validation loss : -0.33218812942504883 . \n",
      "--------------------------------------------------\n"
     ]
    },
    {
     "name": "stderr",
     "output_type": "stream",
     "text": [
      "                                                                              \r"
     ]
    },
    {
     "name": "stdout",
     "output_type": "stream",
     "text": [
      "--------------------------------------------------\n",
      "epoch 414: \n",
      "train loss : 0.007099622394889593 . \n",
      "validation loss : -0.3518826961517334 . \n",
      "--------------------------------------------------\n"
     ]
    },
    {
     "name": "stderr",
     "output_type": "stream",
     "text": [
      "                                                                              \r"
     ]
    },
    {
     "name": "stdout",
     "output_type": "stream",
     "text": [
      "--------------------------------------------------\n",
      "epoch 415: \n",
      "train loss : 0.00736630717292428 . \n",
      "validation loss : -0.32589858770370483 . \n",
      "--------------------------------------------------\n"
     ]
    },
    {
     "name": "stderr",
     "output_type": "stream",
     "text": [
      "                                                                              \r"
     ]
    },
    {
     "name": "stdout",
     "output_type": "stream",
     "text": [
      "--------------------------------------------------\n",
      "epoch 416: \n",
      "train loss : 0.007413525180891156 . \n",
      "validation loss : -0.33524662256240845 . \n",
      "--------------------------------------------------\n"
     ]
    },
    {
     "name": "stderr",
     "output_type": "stream",
     "text": [
      "                                                                              \r"
     ]
    },
    {
     "name": "stdout",
     "output_type": "stream",
     "text": [
      "--------------------------------------------------\n",
      "epoch 417: \n",
      "train loss : 0.0069726998917758465 . \n",
      "validation loss : -0.33832424879074097 . \n",
      "--------------------------------------------------\n"
     ]
    },
    {
     "name": "stderr",
     "output_type": "stream",
     "text": [
      "                                                                              \r"
     ]
    },
    {
     "name": "stdout",
     "output_type": "stream",
     "text": [
      "--------------------------------------------------\n",
      "epoch 418: \n",
      "train loss : 0.0073967516422271725 . \n",
      "validation loss : -0.3268389105796814 . \n",
      "--------------------------------------------------\n"
     ]
    },
    {
     "name": "stderr",
     "output_type": "stream",
     "text": [
      "                                                                              \r"
     ]
    },
    {
     "name": "stdout",
     "output_type": "stream",
     "text": [
      "--------------------------------------------------\n",
      "epoch 419: \n",
      "train loss : 0.006636886904016137 . \n",
      "validation loss : -0.3375070095062256 . \n",
      "--------------------------------------------------\n"
     ]
    },
    {
     "name": "stderr",
     "output_type": "stream",
     "text": [
      "                                                                              \r"
     ]
    },
    {
     "name": "stdout",
     "output_type": "stream",
     "text": [
      "--------------------------------------------------\n",
      "epoch 420: \n",
      "train loss : 0.006834925571456552 . \n",
      "validation loss : -0.3348514437675476 . \n",
      "--------------------------------------------------\n"
     ]
    },
    {
     "name": "stderr",
     "output_type": "stream",
     "text": [
      "                                                                              \r"
     ]
    },
    {
     "name": "stdout",
     "output_type": "stream",
     "text": [
      "--------------------------------------------------\n",
      "epoch 421: \n",
      "train loss : 0.007670166110619903 . \n",
      "validation loss : -0.3375980854034424 . \n",
      "--------------------------------------------------\n"
     ]
    },
    {
     "name": "stderr",
     "output_type": "stream",
     "text": [
      "                                                                              \r"
     ]
    },
    {
     "name": "stdout",
     "output_type": "stream",
     "text": [
      "--------------------------------------------------\n",
      "epoch 422: \n",
      "train loss : 0.007480207737535239 . \n",
      "validation loss : -0.33301907777786255 . \n",
      "--------------------------------------------------\n"
     ]
    },
    {
     "name": "stderr",
     "output_type": "stream",
     "text": [
      "                                                                              \r"
     ]
    },
    {
     "name": "stdout",
     "output_type": "stream",
     "text": [
      "--------------------------------------------------\n",
      "epoch 423: \n",
      "train loss : 0.006949768867343664 . \n",
      "validation loss : -0.3384225368499756 . \n",
      "--------------------------------------------------\n"
     ]
    },
    {
     "name": "stderr",
     "output_type": "stream",
     "text": [
      "                                                                              \r"
     ]
    },
    {
     "name": "stdout",
     "output_type": "stream",
     "text": [
      "--------------------------------------------------\n",
      "epoch 424: \n",
      "train loss : 0.007862064242362975 . \n",
      "validation loss : -0.32307207584381104 . \n",
      "--------------------------------------------------\n"
     ]
    },
    {
     "name": "stderr",
     "output_type": "stream",
     "text": [
      "                                                                              \r"
     ]
    },
    {
     "name": "stdout",
     "output_type": "stream",
     "text": [
      "--------------------------------------------------\n",
      "epoch 425: \n",
      "train loss : 0.00794279291294515 . \n",
      "validation loss : -0.3584926128387451 . \n",
      "--------------------------------------------------\n"
     ]
    },
    {
     "name": "stderr",
     "output_type": "stream",
     "text": [
      "                                                                              \r"
     ]
    },
    {
     "name": "stdout",
     "output_type": "stream",
     "text": [
      "--------------------------------------------------\n",
      "epoch 426: \n",
      "train loss : 0.00789227127097547 . \n",
      "validation loss : -0.31980156898498535 . \n",
      "--------------------------------------------------\n"
     ]
    },
    {
     "name": "stderr",
     "output_type": "stream",
     "text": [
      "                                                                              \r"
     ]
    },
    {
     "name": "stdout",
     "output_type": "stream",
     "text": [
      "--------------------------------------------------\n",
      "epoch 427: \n",
      "train loss : 0.008043969143182039 . \n",
      "validation loss : -0.3276141285896301 . \n",
      "--------------------------------------------------\n"
     ]
    },
    {
     "name": "stderr",
     "output_type": "stream",
     "text": [
      "                                                                              \r"
     ]
    },
    {
     "name": "stdout",
     "output_type": "stream",
     "text": [
      "--------------------------------------------------\n",
      "epoch 428: \n",
      "train loss : 0.007000283617526293 . \n",
      "validation loss : -0.3455303907394409 . \n",
      "--------------------------------------------------\n"
     ]
    },
    {
     "name": "stderr",
     "output_type": "stream",
     "text": [
      "                                                                              \r"
     ]
    },
    {
     "name": "stdout",
     "output_type": "stream",
     "text": [
      "--------------------------------------------------\n",
      "epoch 429: \n",
      "train loss : 0.0068891306407749655 . \n",
      "validation loss : -0.30975157022476196 . \n",
      "--------------------------------------------------\n"
     ]
    },
    {
     "name": "stderr",
     "output_type": "stream",
     "text": [
      "                                                                              \r"
     ]
    },
    {
     "name": "stdout",
     "output_type": "stream",
     "text": [
      "--------------------------------------------------\n",
      "epoch 430: \n",
      "train loss : 0.007425329135730863 . \n",
      "validation loss : -0.3173511028289795 . \n",
      "--------------------------------------------------\n"
     ]
    },
    {
     "name": "stderr",
     "output_type": "stream",
     "text": [
      "                                                                              \r"
     ]
    },
    {
     "name": "stdout",
     "output_type": "stream",
     "text": [
      "--------------------------------------------------\n",
      "epoch 431: \n",
      "train loss : 0.00734486491419375 . \n",
      "validation loss : -0.34534376859664917 . \n",
      "--------------------------------------------------\n"
     ]
    },
    {
     "name": "stderr",
     "output_type": "stream",
     "text": [
      "                                                                              \r"
     ]
    },
    {
     "name": "stdout",
     "output_type": "stream",
     "text": [
      "--------------------------------------------------\n",
      "epoch 432: \n",
      "train loss : 0.006899062637239694 . \n",
      "validation loss : -0.324146032333374 . \n",
      "--------------------------------------------------\n"
     ]
    },
    {
     "name": "stderr",
     "output_type": "stream",
     "text": [
      "                                                                              \r"
     ]
    },
    {
     "name": "stdout",
     "output_type": "stream",
     "text": [
      "--------------------------------------------------\n",
      "epoch 433: \n",
      "train loss : 0.008912350330501796 . \n",
      "validation loss : -0.29887670278549194 . \n",
      "--------------------------------------------------\n"
     ]
    },
    {
     "name": "stderr",
     "output_type": "stream",
     "text": [
      "                                                                              \r"
     ]
    },
    {
     "name": "stdout",
     "output_type": "stream",
     "text": [
      "--------------------------------------------------\n",
      "epoch 434: \n",
      "train loss : 0.007094058860093355 . \n",
      "validation loss : -0.33307790756225586 . \n",
      "--------------------------------------------------\n"
     ]
    },
    {
     "name": "stderr",
     "output_type": "stream",
     "text": [
      "                                                                              \r"
     ]
    },
    {
     "name": "stdout",
     "output_type": "stream",
     "text": [
      "--------------------------------------------------\n",
      "epoch 435: \n",
      "train loss : 0.009727765247225762 . \n",
      "validation loss : -0.3320056200027466 . \n",
      "--------------------------------------------------\n"
     ]
    },
    {
     "name": "stderr",
     "output_type": "stream",
     "text": [
      "                                                                              \r"
     ]
    },
    {
     "name": "stdout",
     "output_type": "stream",
     "text": [
      "--------------------------------------------------\n",
      "epoch 436: \n",
      "train loss : 0.007742064818739891 . \n",
      "validation loss : -0.32056552171707153 . \n",
      "--------------------------------------------------\n"
     ]
    },
    {
     "name": "stderr",
     "output_type": "stream",
     "text": [
      "                                                                              \r"
     ]
    },
    {
     "name": "stdout",
     "output_type": "stream",
     "text": [
      "--------------------------------------------------\n",
      "epoch 437: \n",
      "train loss : 0.00992855140939355 . \n",
      "validation loss : -0.3109470009803772 . \n",
      "--------------------------------------------------\n"
     ]
    },
    {
     "name": "stderr",
     "output_type": "stream",
     "text": [
      "                                                                              \r"
     ]
    },
    {
     "name": "stdout",
     "output_type": "stream",
     "text": [
      "--------------------------------------------------\n",
      "epoch 438: \n",
      "train loss : 0.009207568690180778 . \n",
      "validation loss : -0.3498731851577759 . \n",
      "--------------------------------------------------\n"
     ]
    },
    {
     "name": "stderr",
     "output_type": "stream",
     "text": [
      "                                                                              \r"
     ]
    },
    {
     "name": "stdout",
     "output_type": "stream",
     "text": [
      "--------------------------------------------------\n",
      "epoch 439: \n",
      "train loss : 0.01006870549172163 . \n",
      "validation loss : -0.339479923248291 . \n",
      "--------------------------------------------------\n"
     ]
    },
    {
     "name": "stderr",
     "output_type": "stream",
     "text": [
      "                                                                              \r"
     ]
    },
    {
     "name": "stdout",
     "output_type": "stream",
     "text": [
      "--------------------------------------------------\n",
      "epoch 440: \n",
      "train loss : 0.00929811168462038 . \n",
      "validation loss : -0.29553163051605225 . \n",
      "--------------------------------------------------\n"
     ]
    },
    {
     "name": "stderr",
     "output_type": "stream",
     "text": [
      "                                                                              \r"
     ]
    },
    {
     "name": "stdout",
     "output_type": "stream",
     "text": [
      "--------------------------------------------------\n",
      "epoch 441: \n",
      "train loss : 0.009449253510683774 . \n",
      "validation loss : -0.35744184255599976 . \n",
      "--------------------------------------------------\n"
     ]
    },
    {
     "name": "stderr",
     "output_type": "stream",
     "text": [
      "                                                                              \r"
     ]
    },
    {
     "name": "stdout",
     "output_type": "stream",
     "text": [
      "--------------------------------------------------\n",
      "epoch 442: \n",
      "train loss : 0.009395955130457878 . \n",
      "validation loss : -0.3186914920806885 . \n",
      "--------------------------------------------------\n"
     ]
    },
    {
     "name": "stderr",
     "output_type": "stream",
     "text": [
      "                                                                              \r"
     ]
    },
    {
     "name": "stdout",
     "output_type": "stream",
     "text": [
      "--------------------------------------------------\n",
      "epoch 443: \n",
      "train loss : 0.008288932126015424 . \n",
      "validation loss : -0.31915903091430664 . \n",
      "--------------------------------------------------\n"
     ]
    },
    {
     "name": "stderr",
     "output_type": "stream",
     "text": [
      "                                                                              \r"
     ]
    },
    {
     "name": "stdout",
     "output_type": "stream",
     "text": [
      "--------------------------------------------------\n",
      "epoch 444: \n",
      "train loss : 0.008230719435960054 . \n",
      "validation loss : -0.3442420959472656 . \n",
      "--------------------------------------------------\n"
     ]
    },
    {
     "name": "stderr",
     "output_type": "stream",
     "text": [
      "                                                                              \r"
     ]
    },
    {
     "name": "stdout",
     "output_type": "stream",
     "text": [
      "--------------------------------------------------\n",
      "epoch 445: \n",
      "train loss : 0.008136232942342758 . \n",
      "validation loss : -0.32514190673828125 . \n",
      "--------------------------------------------------\n"
     ]
    },
    {
     "name": "stderr",
     "output_type": "stream",
     "text": [
      "                                                                              \r"
     ]
    },
    {
     "name": "stdout",
     "output_type": "stream",
     "text": [
      "--------------------------------------------------\n",
      "epoch 446: \n",
      "train loss : 0.007627593306824565 . \n",
      "validation loss : -0.32541900873184204 . \n",
      "--------------------------------------------------\n"
     ]
    },
    {
     "name": "stderr",
     "output_type": "stream",
     "text": [
      "                                                                              \r"
     ]
    },
    {
     "name": "stdout",
     "output_type": "stream",
     "text": [
      "--------------------------------------------------\n",
      "epoch 447: \n",
      "train loss : 0.007372881704941392 . \n",
      "validation loss : -0.3430328965187073 . \n",
      "--------------------------------------------------\n"
     ]
    },
    {
     "name": "stderr",
     "output_type": "stream",
     "text": [
      "                                                                              \r"
     ]
    },
    {
     "name": "stdout",
     "output_type": "stream",
     "text": [
      "--------------------------------------------------\n",
      "epoch 448: \n",
      "train loss : 0.0078588149510324 . \n",
      "validation loss : -0.3125128149986267 . \n",
      "--------------------------------------------------\n"
     ]
    },
    {
     "name": "stderr",
     "output_type": "stream",
     "text": [
      "                                                                              \r"
     ]
    },
    {
     "name": "stdout",
     "output_type": "stream",
     "text": [
      "--------------------------------------------------\n",
      "epoch 449: \n",
      "train loss : 0.007211722619831562 . \n",
      "validation loss : -0.33896297216415405 . \n",
      "--------------------------------------------------\n"
     ]
    },
    {
     "name": "stderr",
     "output_type": "stream",
     "text": [
      "                                                                              \r"
     ]
    },
    {
     "name": "stdout",
     "output_type": "stream",
     "text": [
      "--------------------------------------------------\n",
      "epoch 450: \n",
      "train loss : 0.00825108978897333 . \n",
      "validation loss : -0.3191951513290405 . \n",
      "--------------------------------------------------\n"
     ]
    },
    {
     "name": "stderr",
     "output_type": "stream",
     "text": [
      "                                                                              \r"
     ]
    },
    {
     "name": "stdout",
     "output_type": "stream",
     "text": [
      "--------------------------------------------------\n",
      "epoch 451: \n",
      "train loss : 0.007370835775509477 . \n",
      "validation loss : -0.3117143511772156 . \n",
      "--------------------------------------------------\n"
     ]
    },
    {
     "name": "stderr",
     "output_type": "stream",
     "text": [
      "                                                                              \r"
     ]
    },
    {
     "name": "stdout",
     "output_type": "stream",
     "text": [
      "--------------------------------------------------\n",
      "epoch 452: \n",
      "train loss : 0.007256775069981814 . \n",
      "validation loss : -0.3511725664138794 . \n",
      "--------------------------------------------------\n"
     ]
    },
    {
     "name": "stderr",
     "output_type": "stream",
     "text": [
      "                                                                              \r"
     ]
    },
    {
     "name": "stdout",
     "output_type": "stream",
     "text": [
      "--------------------------------------------------\n",
      "epoch 453: \n",
      "train loss : 0.007062189653515816 . \n",
      "validation loss : -0.30885493755340576 . \n",
      "--------------------------------------------------\n"
     ]
    },
    {
     "name": "stderr",
     "output_type": "stream",
     "text": [
      "                                                                              \r"
     ]
    },
    {
     "name": "stdout",
     "output_type": "stream",
     "text": [
      "--------------------------------------------------\n",
      "epoch 454: \n",
      "train loss : 0.006413050927221775 . \n",
      "validation loss : -0.3358556628227234 . \n",
      "--------------------------------------------------\n"
     ]
    },
    {
     "name": "stderr",
     "output_type": "stream",
     "text": [
      "                                                                              \r"
     ]
    },
    {
     "name": "stdout",
     "output_type": "stream",
     "text": [
      "--------------------------------------------------\n",
      "epoch 455: \n",
      "train loss : 0.0066977234557271 . \n",
      "validation loss : -0.32529139518737793 . \n",
      "--------------------------------------------------\n"
     ]
    },
    {
     "name": "stderr",
     "output_type": "stream",
     "text": [
      "                                                                              \r"
     ]
    },
    {
     "name": "stdout",
     "output_type": "stream",
     "text": [
      "--------------------------------------------------\n",
      "epoch 456: \n",
      "train loss : 0.00636243405751884 . \n",
      "validation loss : -0.32240545749664307 . \n",
      "--------------------------------------------------\n"
     ]
    },
    {
     "name": "stderr",
     "output_type": "stream",
     "text": [
      "                                                                              \r"
     ]
    },
    {
     "name": "stdout",
     "output_type": "stream",
     "text": [
      "--------------------------------------------------\n",
      "epoch 457: \n",
      "train loss : 0.005820296378806234 . \n",
      "validation loss : -0.32762300968170166 . \n",
      "--------------------------------------------------\n"
     ]
    },
    {
     "name": "stderr",
     "output_type": "stream",
     "text": [
      "                                                                              \r"
     ]
    },
    {
     "name": "stdout",
     "output_type": "stream",
     "text": [
      "--------------------------------------------------\n",
      "epoch 458: \n",
      "train loss : 0.006401140335947275 . \n",
      "validation loss : -0.3148549795150757 . \n",
      "--------------------------------------------------\n"
     ]
    },
    {
     "name": "stderr",
     "output_type": "stream",
     "text": [
      "                                                                              \r"
     ]
    },
    {
     "name": "stdout",
     "output_type": "stream",
     "text": [
      "--------------------------------------------------\n",
      "epoch 459: \n",
      "train loss : 0.006568494439125061 . \n",
      "validation loss : -0.3172810673713684 . \n",
      "--------------------------------------------------\n"
     ]
    },
    {
     "name": "stderr",
     "output_type": "stream",
     "text": [
      "                                                                              \r"
     ]
    },
    {
     "name": "stdout",
     "output_type": "stream",
     "text": [
      "--------------------------------------------------\n",
      "epoch 460: \n",
      "train loss : 0.006479846453294158 . \n",
      "validation loss : -0.3283281922340393 . \n",
      "--------------------------------------------------\n"
     ]
    },
    {
     "name": "stderr",
     "output_type": "stream",
     "text": [
      "                                                                              \r"
     ]
    },
    {
     "name": "stdout",
     "output_type": "stream",
     "text": [
      "--------------------------------------------------\n",
      "epoch 461: \n",
      "train loss : 0.006698923092335463 . \n",
      "validation loss : -0.3298633098602295 . \n",
      "--------------------------------------------------\n"
     ]
    },
    {
     "name": "stderr",
     "output_type": "stream",
     "text": [
      "                                                                              \r"
     ]
    },
    {
     "name": "stdout",
     "output_type": "stream",
     "text": [
      "--------------------------------------------------\n",
      "epoch 462: \n",
      "train loss : 0.006003545317798853 . \n",
      "validation loss : -0.3154938817024231 . \n",
      "--------------------------------------------------\n"
     ]
    },
    {
     "name": "stderr",
     "output_type": "stream",
     "text": [
      "                                                                              \r"
     ]
    },
    {
     "name": "stdout",
     "output_type": "stream",
     "text": [
      "--------------------------------------------------\n",
      "epoch 463: \n",
      "train loss : 0.006649802904576063 . \n",
      "validation loss : -0.32793253660202026 . \n",
      "--------------------------------------------------\n"
     ]
    },
    {
     "name": "stderr",
     "output_type": "stream",
     "text": [
      "                                                                              \r"
     ]
    },
    {
     "name": "stdout",
     "output_type": "stream",
     "text": [
      "--------------------------------------------------\n",
      "epoch 464: \n",
      "train loss : 0.006800495693460107 . \n",
      "validation loss : -0.3264423608779907 . \n",
      "--------------------------------------------------\n"
     ]
    },
    {
     "name": "stderr",
     "output_type": "stream",
     "text": [
      "                                                                              \r"
     ]
    },
    {
     "name": "stdout",
     "output_type": "stream",
     "text": [
      "--------------------------------------------------\n",
      "epoch 465: \n",
      "train loss : 0.006257757963612676 . \n",
      "validation loss : -0.31940722465515137 . \n",
      "--------------------------------------------------\n"
     ]
    },
    {
     "name": "stderr",
     "output_type": "stream",
     "text": [
      "                                                                              \r"
     ]
    },
    {
     "name": "stdout",
     "output_type": "stream",
     "text": [
      "--------------------------------------------------\n",
      "epoch 466: \n",
      "train loss : 0.006239657429978252 . \n",
      "validation loss : -0.32129770517349243 . \n",
      "--------------------------------------------------\n"
     ]
    },
    {
     "name": "stderr",
     "output_type": "stream",
     "text": [
      "                                                                              \r"
     ]
    },
    {
     "name": "stdout",
     "output_type": "stream",
     "text": [
      "--------------------------------------------------\n",
      "epoch 467: \n",
      "train loss : 0.0063288961071521046 . \n",
      "validation loss : -0.3251991271972656 . \n",
      "--------------------------------------------------\n"
     ]
    },
    {
     "name": "stderr",
     "output_type": "stream",
     "text": [
      "                                                                              \r"
     ]
    },
    {
     "name": "stdout",
     "output_type": "stream",
     "text": [
      "--------------------------------------------------\n",
      "epoch 468: \n",
      "train loss : 0.006354959029704332 . \n",
      "validation loss : -0.31663626432418823 . \n",
      "--------------------------------------------------\n"
     ]
    },
    {
     "name": "stderr",
     "output_type": "stream",
     "text": [
      "                                                                              \r"
     ]
    },
    {
     "name": "stdout",
     "output_type": "stream",
     "text": [
      "--------------------------------------------------\n",
      "epoch 469: \n",
      "train loss : 0.005779778957366944 . \n",
      "validation loss : -0.32339274883270264 . \n",
      "--------------------------------------------------\n"
     ]
    },
    {
     "name": "stderr",
     "output_type": "stream",
     "text": [
      "                                                                              \r"
     ]
    },
    {
     "name": "stdout",
     "output_type": "stream",
     "text": [
      "--------------------------------------------------\n",
      "epoch 470: \n",
      "train loss : 0.006692838575690985 . \n",
      "validation loss : -0.32803601026535034 . \n",
      "--------------------------------------------------\n"
     ]
    },
    {
     "name": "stderr",
     "output_type": "stream",
     "text": [
      "                                                                              \r"
     ]
    },
    {
     "name": "stdout",
     "output_type": "stream",
     "text": [
      "--------------------------------------------------\n",
      "epoch 471: \n",
      "train loss : 0.006167974974960089 . \n",
      "validation loss : -0.30672693252563477 . \n",
      "--------------------------------------------------\n"
     ]
    },
    {
     "name": "stderr",
     "output_type": "stream",
     "text": [
      "                                                                              \r"
     ]
    },
    {
     "name": "stdout",
     "output_type": "stream",
     "text": [
      "--------------------------------------------------\n",
      "epoch 472: \n",
      "train loss : 0.006065365392714739 . \n",
      "validation loss : -0.3214606046676636 . \n",
      "--------------------------------------------------\n"
     ]
    },
    {
     "name": "stderr",
     "output_type": "stream",
     "text": [
      "                                                                              \r"
     ]
    },
    {
     "name": "stdout",
     "output_type": "stream",
     "text": [
      "--------------------------------------------------\n",
      "epoch 473: \n",
      "train loss : 0.006977656669914722 . \n",
      "validation loss : -0.3216334581375122 . \n",
      "--------------------------------------------------\n"
     ]
    },
    {
     "name": "stderr",
     "output_type": "stream",
     "text": [
      "                                                                              \r"
     ]
    },
    {
     "name": "stdout",
     "output_type": "stream",
     "text": [
      "--------------------------------------------------\n",
      "epoch 474: \n",
      "train loss : 0.005961922183632851 . \n",
      "validation loss : -0.32760751247406006 . \n",
      "--------------------------------------------------\n"
     ]
    },
    {
     "name": "stderr",
     "output_type": "stream",
     "text": [
      "                                                                              \r"
     ]
    },
    {
     "name": "stdout",
     "output_type": "stream",
     "text": [
      "--------------------------------------------------\n",
      "epoch 475: \n",
      "train loss : 0.006603844556957483 . \n",
      "validation loss : -0.31153595447540283 . \n",
      "--------------------------------------------------\n"
     ]
    },
    {
     "name": "stderr",
     "output_type": "stream",
     "text": [
      "                                                                              \r"
     ]
    },
    {
     "name": "stdout",
     "output_type": "stream",
     "text": [
      "--------------------------------------------------\n",
      "epoch 476: \n",
      "train loss : 0.006261948496103287 . \n",
      "validation loss : -0.32392066717147827 . \n",
      "--------------------------------------------------\n"
     ]
    },
    {
     "name": "stderr",
     "output_type": "stream",
     "text": [
      "                                                                              \r"
     ]
    },
    {
     "name": "stdout",
     "output_type": "stream",
     "text": [
      "--------------------------------------------------\n",
      "epoch 477: \n",
      "train loss : 0.007145981304347515 . \n",
      "validation loss : -0.3262981176376343 . \n",
      "--------------------------------------------------\n"
     ]
    },
    {
     "name": "stderr",
     "output_type": "stream",
     "text": [
      "                                                                              \r"
     ]
    },
    {
     "name": "stdout",
     "output_type": "stream",
     "text": [
      "--------------------------------------------------\n",
      "epoch 478: \n",
      "train loss : 0.006864248169586062 . \n",
      "validation loss : -0.32285672426223755 . \n",
      "--------------------------------------------------\n"
     ]
    },
    {
     "name": "stderr",
     "output_type": "stream",
     "text": [
      "                                                                              \r"
     ]
    },
    {
     "name": "stdout",
     "output_type": "stream",
     "text": [
      "--------------------------------------------------\n",
      "epoch 479: \n",
      "train loss : 0.0071573843713849785 . \n",
      "validation loss : -0.3399512767791748 . \n",
      "--------------------------------------------------\n"
     ]
    },
    {
     "name": "stderr",
     "output_type": "stream",
     "text": [
      "                                                                              \r"
     ]
    },
    {
     "name": "stdout",
     "output_type": "stream",
     "text": [
      "--------------------------------------------------\n",
      "epoch 480: \n",
      "train loss : 0.006743023544549942 . \n",
      "validation loss : -0.32589179277420044 . \n",
      "--------------------------------------------------\n"
     ]
    },
    {
     "name": "stderr",
     "output_type": "stream",
     "text": [
      "                                                                              \r"
     ]
    },
    {
     "name": "stdout",
     "output_type": "stream",
     "text": [
      "--------------------------------------------------\n",
      "epoch 481: \n",
      "train loss : 0.006414226070046425 . \n",
      "validation loss : -0.33521026372909546 . \n",
      "--------------------------------------------------\n"
     ]
    },
    {
     "name": "stderr",
     "output_type": "stream",
     "text": [
      "                                                                              \r"
     ]
    },
    {
     "name": "stdout",
     "output_type": "stream",
     "text": [
      "--------------------------------------------------\n",
      "epoch 482: \n",
      "train loss : 0.007203037524595857 . \n",
      "validation loss : -0.31446129083633423 . \n",
      "--------------------------------------------------\n"
     ]
    },
    {
     "name": "stderr",
     "output_type": "stream",
     "text": [
      "                                                                              \r"
     ]
    },
    {
     "name": "stdout",
     "output_type": "stream",
     "text": [
      "--------------------------------------------------\n",
      "epoch 483: \n",
      "train loss : 0.007048171106725931 . \n",
      "validation loss : -0.3263683319091797 . \n",
      "--------------------------------------------------\n"
     ]
    },
    {
     "name": "stderr",
     "output_type": "stream",
     "text": [
      "                                                                              \r"
     ]
    },
    {
     "name": "stdout",
     "output_type": "stream",
     "text": [
      "--------------------------------------------------\n",
      "epoch 484: \n",
      "train loss : 0.006558938883244991 . \n",
      "validation loss : -0.3433435559272766 . \n",
      "--------------------------------------------------\n"
     ]
    },
    {
     "name": "stderr",
     "output_type": "stream",
     "text": [
      "                                                                              \r"
     ]
    },
    {
     "name": "stdout",
     "output_type": "stream",
     "text": [
      "--------------------------------------------------\n",
      "epoch 485: \n",
      "train loss : 0.006469393707811832 . \n",
      "validation loss : -0.2957993745803833 . \n",
      "--------------------------------------------------\n"
     ]
    },
    {
     "name": "stderr",
     "output_type": "stream",
     "text": [
      "                                                                              \r"
     ]
    },
    {
     "name": "stdout",
     "output_type": "stream",
     "text": [
      "--------------------------------------------------\n",
      "epoch 486: \n",
      "train loss : 0.006414852570742369 . \n",
      "validation loss : -0.3444713354110718 . \n",
      "--------------------------------------------------\n"
     ]
    },
    {
     "name": "stderr",
     "output_type": "stream",
     "text": [
      "                                                                              \r"
     ]
    },
    {
     "name": "stdout",
     "output_type": "stream",
     "text": [
      "--------------------------------------------------\n",
      "epoch 487: \n",
      "train loss : 0.006917557492852211 . \n",
      "validation loss : -0.3260326385498047 . \n",
      "--------------------------------------------------\n"
     ]
    },
    {
     "name": "stderr",
     "output_type": "stream",
     "text": [
      "                                                                              \r"
     ]
    },
    {
     "name": "stdout",
     "output_type": "stream",
     "text": [
      "--------------------------------------------------\n",
      "epoch 488: \n",
      "train loss : 0.0060655698645859955 . \n",
      "validation loss : -0.30922895669937134 . \n",
      "--------------------------------------------------\n"
     ]
    },
    {
     "name": "stderr",
     "output_type": "stream",
     "text": [
      "                                                                              \r"
     ]
    },
    {
     "name": "stdout",
     "output_type": "stream",
     "text": [
      "--------------------------------------------------\n",
      "epoch 489: \n",
      "train loss : 0.0058575735427439215 . \n",
      "validation loss : -0.33458590507507324 . \n",
      "--------------------------------------------------\n"
     ]
    },
    {
     "name": "stderr",
     "output_type": "stream",
     "text": [
      "                                                                              \r"
     ]
    },
    {
     "name": "stdout",
     "output_type": "stream",
     "text": [
      "--------------------------------------------------\n",
      "epoch 490: \n",
      "train loss : 0.005982080474495888 . \n",
      "validation loss : -0.3250088691711426 . \n",
      "--------------------------------------------------\n"
     ]
    },
    {
     "name": "stderr",
     "output_type": "stream",
     "text": [
      "                                                                              \r"
     ]
    },
    {
     "name": "stdout",
     "output_type": "stream",
     "text": [
      "--------------------------------------------------\n",
      "epoch 491: \n",
      "train loss : 0.005766600184142589 . \n",
      "validation loss : -0.31367945671081543 . \n",
      "--------------------------------------------------\n"
     ]
    },
    {
     "name": "stderr",
     "output_type": "stream",
     "text": [
      "                                                                              \r"
     ]
    },
    {
     "name": "stdout",
     "output_type": "stream",
     "text": [
      "--------------------------------------------------\n",
      "epoch 492: \n",
      "train loss : 0.006253855954855681 . \n",
      "validation loss : -0.3220985531806946 . \n",
      "--------------------------------------------------\n"
     ]
    },
    {
     "name": "stderr",
     "output_type": "stream",
     "text": [
      "                                                                              \r"
     ]
    },
    {
     "name": "stdout",
     "output_type": "stream",
     "text": [
      "--------------------------------------------------\n",
      "epoch 493: \n",
      "train loss : 0.00703410329297185 . \n",
      "validation loss : -0.30285900831222534 . \n",
      "--------------------------------------------------\n"
     ]
    },
    {
     "name": "stderr",
     "output_type": "stream",
     "text": [
      "                                                                              \r"
     ]
    },
    {
     "name": "stdout",
     "output_type": "stream",
     "text": [
      "--------------------------------------------------\n",
      "epoch 494: \n",
      "train loss : 0.00644309283234179 . \n",
      "validation loss : -0.3120189905166626 . \n",
      "--------------------------------------------------\n"
     ]
    },
    {
     "name": "stderr",
     "output_type": "stream",
     "text": [
      "                                                                              \r"
     ]
    },
    {
     "name": "stdout",
     "output_type": "stream",
     "text": [
      "--------------------------------------------------\n",
      "epoch 495: \n",
      "train loss : 0.005888180248439312 . \n",
      "validation loss : -0.3140127658843994 . \n",
      "--------------------------------------------------\n"
     ]
    },
    {
     "name": "stderr",
     "output_type": "stream",
     "text": [
      "                                                                              \r"
     ]
    },
    {
     "name": "stdout",
     "output_type": "stream",
     "text": [
      "--------------------------------------------------\n",
      "epoch 496: \n",
      "train loss : 0.007230496918782592 . \n",
      "validation loss : -0.301846444606781 . \n",
      "--------------------------------------------------\n"
     ]
    },
    {
     "name": "stderr",
     "output_type": "stream",
     "text": [
      "                                                                              \r"
     ]
    },
    {
     "name": "stdout",
     "output_type": "stream",
     "text": [
      "--------------------------------------------------\n",
      "epoch 497: \n",
      "train loss : 0.007711081532761455 . \n",
      "validation loss : -0.3355393409729004 . \n",
      "--------------------------------------------------\n"
     ]
    },
    {
     "name": "stderr",
     "output_type": "stream",
     "text": [
      "                                                                              \r"
     ]
    },
    {
     "name": "stdout",
     "output_type": "stream",
     "text": [
      "--------------------------------------------------\n",
      "epoch 498: \n",
      "train loss : 0.006991157308220863 . \n",
      "validation loss : -0.3201636075973511 . \n",
      "--------------------------------------------------\n"
     ]
    },
    {
     "name": "stderr",
     "output_type": "stream",
     "text": [
      "                                                                              \r"
     ]
    },
    {
     "name": "stdout",
     "output_type": "stream",
     "text": [
      "--------------------------------------------------\n",
      "epoch 499: \n",
      "train loss : 0.006990525964647531 . \n",
      "validation loss : -0.3041761517524719 . \n",
      "--------------------------------------------------\n"
     ]
    },
    {
     "name": "stderr",
     "output_type": "stream",
     "text": [
      "                                                                              \r"
     ]
    },
    {
     "name": "stdout",
     "output_type": "stream",
     "text": [
      "--------------------------------------------------\n",
      "epoch 500: \n",
      "train loss : 0.00678876405581832 . \n",
      "validation loss : -0.3580934405326843 . \n",
      "--------------------------------------------------\n"
     ]
    }
   ],
   "source": [
    "for epoch in range(StartEpoch, NumEpochs):\n",
    "    \n",
    "    #start_time = time.time()\n",
    "    batch_bar = tqdm(total=len(train_loader), dynamic_ncols=True, leave=False, position=0, desc='Train')\n",
    "    \n",
    "    model.train()\n",
    "    running_loss_train = 0\n",
    "    otpt_train = []\n",
    "    \n",
    "    for batch_idx, (data, target) in enumerate(train_loader):\n",
    "        \n",
    "        optimizer.zero_grad()\n",
    "\n",
    "        #data, target= data.cuda(), target.cuda()\n",
    "        output = model(data)\n",
    "        \n",
    "        for i in range(len(output)):\n",
    "            otpt_train.append(output[i].detach().cpu().numpy())\n",
    "            \n",
    "        loss_train = criterion_train(output, target, R_Mean, R_Std)\n",
    "        running_loss_train += loss_train.item()\n",
    "        \n",
    "        batch_bar.set_postfix(\n",
    "            loss=\"{:.05f}\".format(float(loss_train)),\n",
    "            lr=\"{:.05f}\".format(float(optimizer.param_groups[0]['lr'])) ) \n",
    "    \n",
    "        loss_train.backward()\n",
    "        optimizer.step()\n",
    "        \n",
    "        #scheduler.step(loss_train)\n",
    "        batch_bar.update()\n",
    "        \n",
    "    loss_train = running_loss_train / len(train_loader)\n",
    "    batch_bar.close()\n",
    "    \n",
    "    \n",
    "    # Validation\n",
    "    with torch.no_grad():\n",
    "        model.eval()\n",
    "        running_loss_val = 0\n",
    "        otpt_val = []\n",
    "        \n",
    "        for batch_idx, (data, target) in enumerate(val_loader):\n",
    "\n",
    "            #data, target = data.cuda(), target.cuda()\n",
    "            output = model(data)   \n",
    "            \n",
    "            for i in range(len(output)):\n",
    "                otpt_val.append(output[i].detach().cpu().numpy())\n",
    "                \n",
    "            loss_val = criterion_val(output, target)\n",
    "            running_loss_val += loss_val.item()\n",
    "\n",
    "        loss_val = running_loss_val / len(val_loader)\n",
    "\n",
    "      \n",
    "    # Save the Model\n",
    "#     model_path = save_path + f\"/epoch_{epoch + 1}.txt\"\n",
    "#     torch.save({\n",
    "#         'epoch': epoch,\n",
    "#         'model_state_dict': model.state_dict(),\n",
    "#         'optimizer_state_dict': optimizer.state_dict(), \n",
    "#         'scheduler': scheduler,\n",
    "#     }, model_path)    \n",
    "    \n",
    "    print(\"--------------------------------------------------\")\n",
    "    print(\"epoch \" + str(epoch + 1) + \": \")\n",
    "     \n",
    "    print(\"train loss :\", loss_train, \". \")\n",
    "    print(\"validation loss :\", loss_val, \". \")\n",
    "\n",
    "    print(\"--------------------------------------------------\")"
   ]
  },
  {
   "cell_type": "code",
   "execution_count": 28,
   "id": "897e608c",
   "metadata": {},
   "outputs": [
    {
     "name": "stdout",
     "output_type": "stream",
     "text": [
      "(8763, 1)\n",
      "(3755, 1)\n"
     ]
    }
   ],
   "source": [
    "Return_Close_Pred_Train_Nor = np.array(otpt_train)\n",
    "Return_Close_Pred_Test_Nor = np.array(otpt_val)\n",
    "\n",
    "print(Return_Close_Pred_Train_Nor.shape)\n",
    "print(Return_Close_Pred_Test_Nor.shape)"
   ]
  },
  {
   "cell_type": "code",
   "execution_count": 29,
   "id": "41d6cdd8",
   "metadata": {},
   "outputs": [
    {
     "data": {
      "image/png": "[encoded data removed]",
      "text/plain": [
       "<Figure size 432x288 with 1 Axes>"
      ]
     },
     "metadata": {
      "needs_background": "light"
     },
     "output_type": "display_data"
    }
   ],
   "source": [
    "fig = plt.figure()\n",
    "plt.plot(Return_Close_Pred_Train_Nor, alpha = 1, label = \"Pred_Nor\")\n",
    "plt.plot(Return_Close_Label_Train_Nor, alpha = 0.3, label = \"GT_Nor\")\n",
    "plt.legend()\n",
    "plt.show()\n"
   ]
  },
  {
   "cell_type": "code",
   "execution_count": 30,
   "id": "270466e3",
   "metadata": {},
   "outputs": [
    {
     "data": {
      "image/png": "[encoded data removed]",
      "text/plain": [
       "<Figure size 720x504 with 1 Axes>"
      ]
     },
     "metadata": {
      "needs_background": "light"
     },
     "output_type": "display_data"
    }
   ],
   "source": [
    "#P_Close_Pred_N = (P_Close - P_Close.mean(axis=0)) / P_Close.std(axis=0)\n",
    "\n",
    "Return_Close_Pred_Train = Return_Std * Return_Close_Pred_Train_Nor + Return_Mean\n",
    "\n",
    "fig = plt.figure(figsize=(10, 7))\n",
    "plt.plot(Return_Close_Pred_Train, alpha = 1, label = \"Pred\")\n",
    "plt.plot(Return_Close_Label_Train, alpha = 0.3, label = \"GT\")\n",
    "plt.title(\"Train Set\")\n",
    "plt.legend()\n",
    "plt.show()"
   ]
  },
  {
   "cell_type": "code",
   "execution_count": 31,
   "id": "d3edc52c",
   "metadata": {},
   "outputs": [
    {
     "data": {
      "image/png": "[encoded data removed]",
      "text/plain": [
       "<Figure size 720x504 with 1 Axes>"
      ]
     },
     "metadata": {
      "needs_background": "light"
     },
     "output_type": "display_data"
    }
   ],
   "source": [
    "Return_Close_Pred_Test = Return_Std * Return_Close_Pred_Test_Nor + Return_Mean\n",
    "\n",
    "fig = plt.figure(figsize=(10, 7))\n",
    "plt.plot(Return_Close_Pred_Test, alpha = 1, label = \"Pred\")\n",
    "plt.plot(Return_Close_Label_Test, alpha = 0.3, label = \"GT\")\n",
    "plt.title(\"Test Set\")\n",
    "plt.legend()\n",
    "#plt.savefig('./output/Test Set - 12-12-20 - 3.png')\n",
    "\n",
    "plt.show()\n"
   ]
  },
  {
   "cell_type": "code",
   "execution_count": 32,
   "id": "a214b386",
   "metadata": {},
   "outputs": [
    {
     "data": {
      "image/png": "[encoded data removed]",
      "text/plain": [
       "<Figure size 720x504 with 1 Axes>"
      ]
     },
     "metadata": {
      "needs_background": "light"
     },
     "output_type": "display_data"
    }
   ],
   "source": [
    "Return_Close_Pred_Test = Return_Std * Return_Close_Pred_Test_Nor + Return_Mean\n",
    "\n",
    "fig = plt.figure(figsize=(10, 7))\n",
    "plt.plot(Return_Close_Pred_Test, Return_Close_Label_Test, \"x\")\n",
    "plt.xlabel('Prediction')\n",
    "plt.ylabel('Ground Truth')\n",
    "plt.title(\"Test Set\")\n",
    "#plt.legend()\n",
    "#plt.savefig('./output/Test Set - GT vs Pred - SPINN 3.png')\n",
    "\n",
    "plt.show()\n"
   ]
  }
 ],
 "metadata": {
  "kernelspec": {
   "display_name": "Python 3 (ipykernel)",
   "language": "python",
   "name": "python3"
  },
  "language_info": {
   "codemirror_mode": {
    "name": "ipython",
    "version": 3
   },
   "file_extension": ".py",
   "mimetype": "text/x-python",
   "name": "python",
   "nbconvert_exporter": "python",
   "pygments_lexer": "ipython3",
   "version": "3.9.7"
  }
 },
 "nbformat": 4,
 "nbformat_minor": 5
}
